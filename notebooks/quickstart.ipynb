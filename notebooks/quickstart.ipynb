{
 "cells": [
  {
   "cell_type": "markdown",
   "metadata": {},
   "source": [
    "# Create a forge and execute an evolution cycle\n",
    "In this notebook, we will go through the very few steps needed to run a forge cycle for a given budget. \n",
    "\n",
    "As of today, the easiest way to experiment with Ebiose is to use the OpenAI API. To do so, all you have to do is to set your OpenAI API key via an .env file or by replacing `\"your-open-api-key\"` in the following code block:"
   ]
  },
  {
   "cell_type": "code",
   "execution_count": 2,
   "metadata": {},
   "outputs": [],
   "source": [
    "import os \n",
    "from dotenv import load_dotenv\n",
    "load_dotenv()\n",
    "if \"OPENAI_API_KEY\" not in os.environ:\n",
    "    os.environ[\"OPENAI_API_KEY\"] = \"your-openai-api-key\""
   ]
  },
  {
   "cell_type": "markdown",
   "metadata": {},
   "source": [
    "> 💡 Recall that you may need to add the root of the repository to your `PYTHONPATH` environment variable. You may also use a `.env` file to do so or execute the following:\n"
   ]
  },
  {
   "cell_type": "code",
   "execution_count": 3,
   "metadata": {},
   "outputs": [],
   "source": [
    "import sys\n",
    "sys.path.append(\"./../\")\n"
   ]
  },
  {
   "cell_type": "markdown",
   "metadata": {},
   "source": [
    "## Creating a basic forge\n",
    "\n",
    "In ebiose, a **forge** is where custom agents are created to solve specific problems. The forge is the exclusive origin of new agents. Within each forge, architects agents orchestrate the creation and improvement of agents by reusing existing building blocks from the ecosystem.\n",
    "\n",
    "To create a forge and run a cycle, you must provide the following:\n",
    "- a description of the forge, which defines the problem that must be solved by generated agents;\n",
    "- the expected format of the agent's input and output, defined as Pydantic models;\n",
    "- an implementation of the `compute_fitness` abstract method that will be used by the forge to evaluate the generated agents.\n",
    "\n",
    "Let's say we wich to generate agents specialized in solving math problems. The forge description could be:"
   ]
  },
  {
   "cell_type": "code",
   "execution_count": 4,
   "metadata": {},
   "outputs": [],
   "source": [
    "forge_description = \"Solving math word problems\""
   ]
  },
  {
   "cell_type": "markdown",
   "metadata": {},
   "source": [
    "Next, we need to define the expected input and output formats of the generated agents. These formats are to be defined as Pydantic models. \n",
    "\n",
    "For instance, in our context of solving math problems, we want the agent input to be a string which will represent the math problem to be solved and the agent output to be composed of two fields:\n",
    "- `solution` which will be the final solution to the math problem, given as an integer;\n",
    "- `rationale` which will be the rationale behind the found solution.\n",
    "\n",
    "The IO Pydantic models will thus be:"
   ]
  },
  {
   "cell_type": "code",
   "execution_count": 5,
   "metadata": {},
   "outputs": [],
   "source": [
    "from pydantic import BaseModel\n",
    "\n",
    "class AgentInput(BaseModel):\n",
    "        math_problem: str\n",
    "\n",
    "class AgentOutput(BaseModel):\n",
    "    solution: int\n",
    "    rationale: str"
   ]
  },
  {
   "cell_type": "markdown",
   "metadata": {},
   "source": [
    "Lastly, we must provide a way of evaluating the generated agents through the implementation of the `compute_fitness` abstract method of `AgentForge` class. For the sake of demonstration, we will here return a random float between 0 and 1, so that we don't spend tokens at evaluation."
   ]
  },
  {
   "cell_type": "code",
   "execution_count": null,
   "metadata": {},
   "outputs": [
    {
     "name": "stderr",
     "output_type": "stream",
     "text": [
      "/Users/xabier/dev/ebiose-core/.venv/lib/python3.12/site-packages/pydantic/_internal/_generate_schema.py:502: UserWarning: <built-in function any> is not a Python type (it may be an instance of an object), Pydantic will allow any object with no validation since we cannot even enforce that the input is an instance of the given type. To get rid of this error wrap the type with `pydantic.SkipValidation`.\n",
      "  warn(\n"
     ]
    }
   ],
   "source": [
    "import random\n",
    "random.seed(7)\n",
    "\n",
    "from ebiose.core.agent import Agent\n",
    "from ebiose.core.agent_forge import AgentForge\n",
    "\n",
    "class BasicForge(AgentForge):\n",
    "    async def compute_fitness(self, agent: Agent, compute_token_id: str, **kwargs: dict[str, any]) -> float:\n",
    "        return random.random()"
   ]
  },
  {
   "cell_type": "markdown",
   "metadata": {},
   "source": [
    "We can now instantiate the forge with the provided elements:"
   ]
  },
  {
   "cell_type": "code",
   "execution_count": 7,
   "metadata": {},
   "outputs": [],
   "source": [
    "forge = BasicForge(\n",
    "    name=\"Basic forge\",\n",
    "    description=forge_description,\n",
    "    agent_input_model=AgentInput,\n",
    "    agent_output_model=AgentOutput,\n",
    "    default_generated_agent_engine_type=\"langgraph_engine\",\n",
    "    default_model_endpoint_id=\"gpt-4o-mini\"\n",
    ")"
   ]
  },
  {
   "cell_type": "markdown",
   "metadata": {},
   "source": [
    "# Running a forge cycle\n",
    "\n",
    "Once the forge is instantitated, we can start generating agents by running a **forge cycle**. \n",
    "\n",
    "We must first define a list of available LLMs. Here, we will use GPT 4o mini only. "
   ]
  },
  {
   "cell_type": "code",
   "execution_count": 8,
   "metadata": {},
   "outputs": [],
   "source": [
    "\n",
    "from ebiose.core.model_endpoint import ModelEndpoint, ModelSize, ModelType\n",
    "\n",
    "available_models = [\n",
    "    ModelEndpoint(\n",
    "        endpoint_id=\"gpt-4o-mini\",\n",
    "        model_name=\"GPT-4o-mini\",\n",
    "    ),\n",
    "]"
   ]
  },
  {
   "cell_type": "markdown",
   "metadata": {},
   "source": [
    "In Ebiose, all calls to LLMs (and, in a next future, for any other type of call that costs) are managed by the `ComputeIntensiveBatchProcessor` static class. This class must be initialized with the list of available models, as follows:"
   ]
  },
  {
   "cell_type": "code",
   "execution_count": 9,
   "metadata": {},
   "outputs": [],
   "source": [
    "from ebiose.compute_intensive_batch_processor.compute_intensive_batch_processor import (\n",
    "    ComputeIntensiveBatchProcessor,\n",
    ")\n",
    "ComputeIntensiveBatchProcessor.initialize(available_models)"
   ]
  },
  {
   "cell_type": "markdown",
   "metadata": {},
   "source": [
    "The forge cycle is based on an evolutionary algorithm that requires two types of specialized agents: \n",
    "- **architect agents** which are agents that generate other agents from scratch;\n",
    "- **genetic operator agents** which generate agents from one or several other existing agents.\n",
    "\n",
    "For now, hand-made architect and crossover agents are provided in the `GraphUtils` class. We can load them as follows:"
   ]
  },
  {
   "cell_type": "code",
   "execution_count": 10,
   "metadata": {},
   "outputs": [],
   "source": [
    "from ebiose.core.engines.graph_engine.utils import GraphUtils\n",
    "\n",
    "architect_agent = GraphUtils.get_architect_agent(model_endpoint_id=\"gpt-4o-mini\")\n",
    "crossover_agent = GraphUtils.get_crossover_agent(model_endpoint_id=\"gpt-4o-mini\")"
   ]
  },
  {
   "cell_type": "markdown",
   "metadata": {},
   "source": [
    "These agents are required to instantiate an Ebiose ecosystem:"
   ]
  },
  {
   "cell_type": "code",
   "execution_count": 11,
   "metadata": {},
   "outputs": [],
   "source": [
    "from ebiose.core.ecosystem import Ecosystem\n",
    "\n",
    "ecosystem = Ecosystem(\n",
    "    initial_architect_agents=[architect_agent],\n",
    "    initial_genetic_operator_agents=[crossover_agent],\n",
    ")"
   ]
  },
  {
   "cell_type": "markdown",
   "metadata": {},
   "source": [
    "The forge cycle can now be launched by providing the created ecosystem, a budget in dollars (the forge cycle will end once this budget is exhausted) and, optionally, a path in which created agents and fitness will be saved accross generations. Note that we need to use `asyncio.run` to launch the forge cycle."
   ]
  },
  {
   "cell_type": "code",
   "execution_count": null,
   "metadata": {},
   "outputs": [
    {
     "name": "stderr",
     "output_type": "stream",
     "text": [
      "Starting a new cycle for forge Basic forge\n",
      "****** Initializing agents population ******\n",
      "Creating 2 new agents with architect agents...\n",
      "  0%|          | 0/2 [00:00<?, ?it/s]Initializing structured output agent for model with fields {'edges': FieldInfo(annotation=list[Edge], required=False, default_factory=list, description='list of edges in the graph'), 'nodes': FieldInfo(annotation=list[Union[StartNode, EndNode, LLMNode, PydanticValidatorNode, RegexRoutingNode]], required=False, default_factory=list, description='list of nodes in the graph'), 'description': FieldInfo(annotation=str, required=False, default=''), 'shared_context_prompt': FieldInfo(annotation=str, required=True, metadata=[MinLen(min_length=1)])} (1)\n",
      "100%|██████████| 2/2 [01:43<00:00, 51.56s/it]\n",
      "Agent initialization cost: 0.01754925\n",
      "Population initialized with 2 agents\n",
      "Initialization of 2 agents took 0:01:43.152902\n",
      "Budget left after initialization: 0.0024507500000000015 $\n",
      "****** Running generation 0 ******\n",
      "Evaluating current population of 2 agents...\n",
      "100%|██████████| 2/2 [00:00<00:00, 2190.81it/s]\n",
      "Agent agent-12ea5eb3-0dfe-4097-aaf0-65f1ffa047e8 fitness: 0.22786724140880465, cost: 0.0\n",
      "Agent agent-df86baf9-439d-4cfb-9282-4b079e19d800 fitness: 0.6101299982864118, cost: 0.0\n",
      "Evaluation took 0:00:00.004704 for a total cost of 0.0 $\n"
     ]
    },
    {
     "data": {
      "text/markdown": [
       "# Agent ID: agent-df86baf9-439d-4cfb-9282-4b079e19d800\n",
       "## Fitness: 0.6101299982864118\n",
       "```mermaid \n",
       "graph LR\n",
       "\tStart_Node[start_node] --> 1(Problem Understanding)\n",
       "\t1(Problem Understanding) --> 2(Extracting Key Information)\n",
       "\t2(Extracting Key Information) --> 3(Formulating the Equation)\n",
       "\t3(Formulating the Equation) --> 4(Solving the Equation)\n",
       "\t4(Solving the Equation) --> 5(Verification of Solution)\n",
       "\t5(Verification of Solution) --> 6(Feedback on Solution)\n",
       "\t6(Feedback on Solution) -->|solution is incorrect| 8(Final Review)\n",
       "\t6(Feedback on Solution) -->|solution is correct| 9(Documentation)\n",
       "\t8(Final Review) --> 9(Documentation)\n",
       "\t9(Documentation) --> 10(Conclusion)\n",
       "\t10(Conclusion) --> End_Node[end_node]\n",
       "\t6(Feedback on Solution) -->|alternative approaches suggested| 7(Alternative Approaches)\n",
       " \n",
       "``` \n",
       "## Prompts:\n",
       "##### Shared context prompt\n",
       "Welcome to the collaborative math word problem-solving network. As an LLM, you will play a specific role in processing a math word problem through a series of interconnected nodes. Your task is to contribute meaningfully to the problem-solving process by executing your designated function and accurately transmitting information to the next node. Use chain-of-thought reasoning, self-reflection, and evaluative feedback mechanisms to enhance your responses. The overall goal is to arrive at a correct and clear solution to the problem presented. Please ensure that your outputs are comprehensive, insightful, and relevant to the problem-solving journey.\n",
       "##### Problem Understanding\n",
       "Analyze the following math word problem carefully. Identify the main elements, such as the subject, context, and any numerical data mentioned. Your goal is to provide a clear and concise summary of what the problem is asking. Please include any sub-questions or key considerations that will guide the next steps in the problem-solving process.\n",
       "##### Extracting Key Information\n",
       "From the summary provided by the previous node, extract all relevant numerical data, variables, and relationships. Clearly list the key pieces of information that will be necessary for formulating the mathematical equation. Additionally, highlight any assumptions made while interpreting the problem to ensure clarity for the next node.\n",
       "##### Formulating the Equation\n",
       "Based on the key information extracted from the previous node, construct the mathematical equation that represents the problem. Make sure to articulate the reasoning behind your equation formulation, detailing how each piece of information contributes to the overall equation. Ensure that your explanation is clear and can be understood by the next node.\n",
       "##### Solving the Equation\n",
       "Using the mathematical equation formulated by the previous node, perform the necessary calculations to derive the solution. Clearly show each step taken during the calculation process. If applicable, explain any mathematical principles or rules used to arrive at the final answer. Provide this solution to the next node in a clear format.\n",
       "##### Verification of Solution\n",
       "Evaluate the solution derived from the previous node. Substitute the solution back into the original problem to verify its correctness. Clearly articulate whether the solution fits the context of the problem and meets the requirements specified. If discrepancies are found, outline the specific areas that need further investigation.\n",
       "##### Feedback on Solution\n",
       "Based on the verification results, provide constructive feedback regarding the solution. If the solution is correct, commend the previous node and suggest how to present it effectively. If the solution is incorrect or requires improvement, identify specific aspects that need to be re-evaluated and propose actionable steps for refining the solution.\n",
       "##### Alternative Approaches\n",
       "Consider the problem-solving process and the solution derived. Suggest alternative methods or approaches that could be applied to solve the math word problem. For each alternative, explain its potential benefits and how it might yield a different perspective on the problem. Ensure that your suggestions are constructive and relevant.\n",
       "##### Final Review\n",
       "Conduct a comprehensive review of the entire problem-solving process, from understanding the problem to deriving the solution. Evaluate the clarity, accuracy, and logical flow of the information presented. Highlight any strengths and weaknesses observed, and ensure that the explanation is coherent and understandable for someone unfamiliar with the problem.\n",
       "##### Documentation\n",
       "Compile all information from the previous nodes into a structured format that outlines the entire problem-solving journey. Ensure that each section is clearly labeled, and provide a concise summary of the problem, key information, equation formulation, solution, verification, feedback, and alternatives. Your documentation should be clear, informative, and ready for presentation.\n",
       "##### Conclusion\n",
       "Based on the documentation created by the previous node, draw a final conclusion regarding the math word problem. Summarize the entire process and the ultimate solution, emphasizing any key takeaways or insights gained from the problem-solving journey. Ensure that your conclusion is impactful and reinforces the significance of the solution reached.\n",
       "\n",
       "# Agent ID: agent-12ea5eb3-0dfe-4097-aaf0-65f1ffa047e8\n",
       "## Fitness: 0.22786724140880465\n",
       "```mermaid \n",
       "graph LR\n",
       "\tStart_Node[start_node] --> Llm_Node_1(Problem Understanding)\n",
       "\tLlm_Node_1(Problem Understanding) --> Llm_Node_2(Equation Formulation)\n",
       "\tLlm_Node_2(Equation Formulation) --> Llm_Node_3(Equation Solving)\n",
       "\tLlm_Node_3(Equation Solving) --> Llm_Node_4(Solution Verification)\n",
       "\tLlm_Node_4(Solution Verification) --> Llm_Node_5(Solution Explanation)\n",
       "\tLlm_Node_5(Solution Explanation) -->|solution verified| Llm_Node_6(Feedback and Reflection)\n",
       "\tLlm_Node_5(Solution Explanation) -->|solution not verified| Llm_Node_3(Equation Solving)\n",
       "\tLlm_Node_6(Feedback and Reflection) --> End_Node[end_node]\n",
       " \n",
       "``` \n",
       "## Prompts:\n",
       "##### Shared context prompt\n",
       "You are part of a collaborative AI model designed to solve math word problems through a series of well-defined stages. Each node represents a distinct step in the problem-solving process. Your task is to utilize your capabilities to contribute to the overall solution effectively. The nodes include: 1. Understanding the problem, 2. Formulating equations, 3. Solving the equations, 4. Verifying the solution, 5. Explaining the solution, 6. Reflecting on the process. Communicate clearly, share necessary information with the next node, and leverage chain-of-thought reasoning and self-reflection where applicable.\n",
       "##### Problem Understanding\n",
       "Read the following math word problem carefully. Identify and extract all key information including the main question, important variables, and any relationships or operations implied in the text. Provide a clear and concise summary of your understanding, including a list of identified variables and their meanings. This summary will be passed to the next node to formulate equations based on your findings.\n",
       "##### Equation Formulation\n",
       "Using the information summarized from the previous node, formulate one or more mathematical equations that accurately represent the relationships and operations described in the math word problem. Ensure that each equation corresponds to the variables identified and reflects the problem's requirements. Provide a detailed explanation of how you derived each equation, including any assumptions or interpretations made during the process. This output will be sent to the next node for solving.\n",
       "##### Equation Solving\n",
       "Based on the equations provided from the previous node, solve the equations step-by-step. Clearly show your calculations and reasoning for each step taken. If there are multiple possible solutions, present them all and indicate which is most relevant to the original problem. Additionally, note any assumptions or conditions that influenced your solving process, as this information will be critical for the verification stage.\n",
       "##### Solution Verification\n",
       "Review the solution derived from the previous node. Verify its correctness by checking the calculations and considering the context of the original math word problem. If the solution appears correct, provide a justification for why it meets the requirements of the problem. If discrepancies arise, identify the errors in the solution or the equations leading to it, and suggest corrective actions or revisions that should be made. Your findings will be used to inform the next node.\n",
       "##### Solution Explanation\n",
       "Based on the verified solution and justification provided from the previous node, create a clear and comprehensive explanation of the solution process. Break down the reasoning behind each step, ensuring that anyone reading this explanation can understand how the solution was reached. Include examples or analogies if they help clarify complex concepts. This explanation will aid in solidifying understanding for the final reflective stage.\n",
       "##### Feedback and Reflection\n",
       "Reflect on the entire problem-solving process from the beginning to the final explanation. Assess the effectiveness of each stage and identify any areas for improvement. Consider alternative methods that could have been applied at different stages and how they might have led to a better solution or understanding. Summarize your insights and provide constructive feedback for future problem-solving scenarios. This reflection will conclude the process and will be shared with the EndNode.\n",
       "\n"
      ],
      "text/plain": [
       "<IPython.core.display.Markdown object>"
      ]
     },
     "metadata": {},
     "output_type": "display_data"
    },
    {
     "name": "stderr",
     "output_type": "stream",
     "text": [
      "Saving current state to ../data/2025-03-02_21-08-59/generation=0\n",
      "Starting crossover and mutation...\n",
      "Initializing structured output agent for model with fields {'edges': FieldInfo(annotation=list[Edge], required=False, default_factory=list, description='list of edges in the graph'), 'nodes': FieldInfo(annotation=list[Union[StartNode, EndNode, LLMNode, PydanticValidatorNode, RegexRoutingNode]], required=False, default_factory=list, description='list of nodes in the graph'), 'description': FieldInfo(annotation=str, required=False, default=''), 'shared_context_prompt': FieldInfo(annotation=str, required=True, metadata=[MinLen(min_length=1)])} (2)\n",
      "BudgetExceededError: Master budget limit exceeded. Limit: 0.02, New total: 0.020614499999999997. Finishing process.\n",
      "Error when calling gpt-4o-mini: Master budget limit exceeded. Limit: 0.02, New total: 0.020614499999999997\n",
      "BudgetExceededError: Master budget limit exceeded. Limit: 0.02, New total: 0.021962699999999998. Finishing process.\n",
      "Error when calling gpt-4o-mini: Master budget limit exceeded. Limit: 0.02, New total: 0.021962699999999998\n",
      "BudgetExceededError: Master budget limit exceeded. Limit: 0.02, New total: 0.023310599999999997. Finishing process.\n",
      "Error when calling gpt-4o-mini: Master budget limit exceeded. Limit: 0.02, New total: 0.023310599999999997\n",
      "BudgetExceededError: Master budget limit exceeded. Limit: 0.02, New total: 0.024663749999999998. Finishing process.\n",
      "Error when calling gpt-4o-mini: Master budget limit exceeded. Limit: 0.02, New total: 0.024663749999999998\n",
      "Error while running agent agent-8f686a0b-765f-41f5-b235-6c425b128b65: Recursion limit of 7 reached without hitting a stop condition. You can increase the limit by setting the `recursion_limit` config key.\n",
      "For troubleshooting, visit: https://python.langchain.com/docs/troubleshooting/errors/GRAPH_RECURSION_LIMIT\n",
      "Crossover agent failed creating a valid agent: 'NoneType' object has no attribute 'description'\n",
      "Error while generating offspring from ['agent-df86baf9-439d-4cfb-9282-4b079e19d800', 'agent-df86baf9-439d-4cfb-9282-4b079e19d800']. Falling back to architect agent.\n"
     ]
    }
   ],
   "source": [
    "import asyncio\n",
    "import nest_asyncio\n",
    "\n",
    "from ebiose.core.evo_forging_cycle import EvoForgingCylceConfig\n",
    "nest_asyncio.apply()\n",
    "\n",
    "from pathlib import Path\n",
    "from datetime import UTC, datetime\n",
    "\n",
    "# the path where results will be saved\n",
    "current_time = datetime.now(UTC).strftime(\"%Y-%m-%d_%H-%M-%S\")\n",
    "SAVE_PATH = Path(f\"./../data/\") / current_time\n",
    "if not SAVE_PATH.exists():\n",
    "    SAVE_PATH.mkdir(parents=True)\n",
    "\n",
    "# budget for the forge cycle, in dollars\n",
    "BUDGET = 0.02 \n",
    "\n",
    "cycle_config = EvoForgingCylceConfig(\n",
    "    budget=BUDGET,\n",
    "    n_agents_in_population=2,\n",
    "    n_selected_agents_from_ecosystem=0,\n",
    "    replacement_ratio=0.5,\n",
    "    save_path=SAVE_PATH\n",
    ")\n",
    "\n",
    "final_agents = asyncio.run(forge.run_new_cycle(ecosystem, cycle_config=cycle_config))\n"
   ]
  },
  {
   "cell_type": "code",
   "execution_count": null,
   "metadata": {},
   "outputs": [],
   "source": []
  },
  {
   "cell_type": "code",
   "execution_count": null,
   "metadata": {},
   "outputs": [],
   "source": []
  },
  {
   "cell_type": "code",
   "execution_count": null,
   "metadata": {},
   "outputs": [],
   "source": []
  }
 ],
 "metadata": {
  "kernelspec": {
   "display_name": ".venv",
   "language": "python",
   "name": "python3"
  },
  "language_info": {
   "codemirror_mode": {
    "name": "ipython",
    "version": 3
   },
   "file_extension": ".py",
   "mimetype": "text/x-python",
   "name": "python",
   "nbconvert_exporter": "python",
   "pygments_lexer": "ipython3",
   "version": "3.12.8"
  }
 },
 "nbformat": 4,
 "nbformat_minor": 2
}
