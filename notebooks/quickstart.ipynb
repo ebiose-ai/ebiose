{
 "cells": [
  {
   "cell_type": "markdown",
   "metadata": {},
   "source": [
    "# Create a forge and execute an evolution cycle\n",
    "In this notebook, we will go through the very few steps needed to run a forge cycle for a given budget. \n",
    "Before running this notebook, you must set up a few things:\n",
    "\n",
    "**Your access to LLM's providers:**\n",
    "\n",
    "To try Ebiose, you must have access to at least one LLM provider. To provide the credentials, copy-paste the [`model_endpoints_template.yml`](./../model_endpoints_template.yml) file, rename it as `model_endpoints.yml` and fill it with your own credentials.\n",
    "\n",
    "**Add the root directory to your Python path**\n",
    "\n",
    "Depending on your settings, you may need to add the root of the repository to your `PYTHONPATH` environment variable. You may also use a `.env` file to do so. copy-paste the [`.env.template`](./../.env.template) file, rename it as `.env` and fill it with your own root directory.\n",
    "\n",
    "**Use LangFuse for tracing**\n",
    "\n",
    "Ebiose has chosen LangFuse to provide easy and free observability, through its self-hosted capability. Refer to [Langfuse official documentation](https://langfuse.com/self-hosting) to set it up. Once done, fill `LANGFUSE_SECRET_KEY`, `LANGFUSE_PUBLIC_KEY` and `LANGFUSE_HOST` in the `.env` file.\n",
    "\n",
    "Other observability tools might be used but are not configured yet.\n",
    "\n",
    "**Load .env file**\n",
    "\n",
    "To load the `.env` file, execute:"
   ]
  },
  {
   "cell_type": "code",
   "execution_count": 1,
   "metadata": {},
   "outputs": [
    {
     "data": {
      "text/plain": [
       "True"
      ]
     },
     "execution_count": 1,
     "metadata": {},
     "output_type": "execute_result"
    }
   ],
   "source": [
    "from dotenv import load_dotenv\n",
    "load_dotenv()"
   ]
  },
  {
   "cell_type": "markdown",
   "metadata": {},
   "source": [
    "## Creating a basic forge\n",
    "\n",
    "In ebiose, a **forge** is where custom agents are created to solve specific problems. The forge is the exclusive origin of new agents. Within each forge, architects agents orchestrate the creation and improvement of agents by reusing existing building blocks from the ecosystem.\n",
    "\n",
    "To create a forge and run a cycle, you must provide the following:\n",
    "- a description of the forge, which defines the problem that must be solved by generated agents;\n",
    "- the expected format of the agent's input and output, defined as Pydantic models;\n",
    "- an implementation of the `compute_fitness` abstract method that will be used by the forge to evaluate the generated agents.\n",
    "\n",
    "Let's say we wich to generate agents specialized in solving math problems. The forge description could be:"
   ]
  },
  {
   "cell_type": "code",
   "execution_count": 2,
   "metadata": {},
   "outputs": [],
   "source": [
    "forge_description = \"Solving math word problems\""
   ]
  },
  {
   "cell_type": "markdown",
   "metadata": {},
   "source": [
    "Next, we need to define the expected input and output formats of the generated agents. These formats are to be defined as Pydantic models. \n",
    "\n",
    "For instance, in our context of solving math problems, we want the agent input to be a string which will represent the math problem to be solved and the agent output to be composed of two fields:\n",
    "- `solution` which will be the final solution to the math problem, given as an integer;\n",
    "- `rationale` which will be the rationale behind the found solution.\n",
    "\n",
    "The IO Pydantic models will thus be:"
   ]
  },
  {
   "cell_type": "code",
   "execution_count": 3,
   "metadata": {},
   "outputs": [],
   "source": [
    "from pydantic import BaseModel\n",
    "\n",
    "class AgentInput(BaseModel):\n",
    "        math_problem: str\n",
    "\n",
    "class AgentOutput(BaseModel):\n",
    "    solution: int\n",
    "    rationale: str"
   ]
  },
  {
   "cell_type": "markdown",
   "metadata": {},
   "source": [
    "Lastly, we must provide a way of evaluating the generated agents through the implementation of the `compute_fitness` abstract method of `AgentForge` class. For the sake of demonstration, we will here return a random float between 0 and 1, so that we don't spend tokens at evaluation."
   ]
  },
  {
   "cell_type": "code",
   "execution_count": 4,
   "metadata": {},
   "outputs": [
    {
     "name": "stderr",
     "output_type": "stream",
     "text": [
      "/Users/xabier/dev/ebiose-core/.venv/lib/python3.12/site-packages/pydantic/_internal/_generate_schema.py:502: UserWarning: <built-in function any> is not a Python type (it may be an instance of an object), Pydantic will allow any object with no validation since we cannot even enforce that the input is an instance of the given type. To get rid of this error wrap the type with `pydantic.SkipValidation`.\n",
      "  warn(\n"
     ]
    }
   ],
   "source": [
    "import random\n",
    "random.seed(7)\n",
    "\n",
    "from ebiose.core.agent import Agent\n",
    "from ebiose.core.agent_forge import AgentForge\n",
    "\n",
    "class BasicForge(AgentForge):\n",
    "    async def compute_fitness(self, agent: Agent, compute_token_id: str, **kwargs: dict[str, any]) -> float:\n",
    "        return random.random()"
   ]
  },
  {
   "cell_type": "markdown",
   "metadata": {},
   "source": [
    "We can now instantiate the forge with the provided elements:"
   ]
  },
  {
   "cell_type": "code",
   "execution_count": 5,
   "metadata": {},
   "outputs": [],
   "source": [
    "forge = BasicForge(\n",
    "    name=\"Basic forge\",\n",
    "    description=forge_description,\n",
    "    agent_input_model=AgentInput,\n",
    "    agent_output_model=AgentOutput,\n",
    "    default_generated_agent_engine_type=\"langgraph_engine\",\n",
    "    default_model_endpoint_id=\"azure-gpt-4o-mini\"\n",
    ")"
   ]
  },
  {
   "cell_type": "markdown",
   "metadata": {},
   "source": [
    "## Running a forge cycle\n",
    "\n",
    "Once the forge is instantiated, we can start generating agents by running a **forge cycle**. \n",
    "\n",
    "To do so, you must define:\n",
    "- a budget in dollars (the forge cycle will end once this budget is exhausted);\n",
    "- optionally, a path in which created agents and fitness will be saved accross generations. \n",
    "\n",
    "> ⚠️ Note that we need to use `asyncio.run` to launch the forge cycle.\n",
    "\n",
    "> 🚨 Before executing the following cell, check the amount of budget you have allocated!\n",
    "\n",
    "> 💡 If you are using VSCode, install the [*Markdown Preview Mermaid Support* extension](https://marketplace.visualstudio.com/items?itemName=bierner.markdown-mermaid) to allow the display of the generated agent's graphs."
   ]
  },
  {
   "cell_type": "code",
   "execution_count": null,
   "metadata": {},
   "outputs": [
    {
     "name": "stderr",
     "output_type": "stream",
     "text": [
      "\u001b[1mStarting a new cycle for forge Basic forge\u001b[0m\n",
      "\u001b[1m****** Initializing agents population ******\u001b[0m\n",
      "\u001b[1mCreating 2 new agents with architect agents...\u001b[0m\n",
      "  0%|          | 0/2 [00:00<?, ?it/s]\u001b[34m\u001b[1m\n",
      "Initializing structured output agent for model AgentOutput (1)\u001b[0m\n",
      "100%|██████████| 2/2 [00:21<00:00, 10.79s/it]\n",
      "\u001b[34m\u001b[1mAgent initialization cost: 0.006005505\u001b[0m\n",
      "\u001b[1mPopulation initialized with 2 agents\u001b[0m\n",
      "\u001b[1mInitialization of 2 agents took 0:00:21.602633\u001b[0m\n",
      "\u001b[1mBudget left after initialization: 0.003994495 $\u001b[0m\n",
      "\u001b[1m****** Running generation 0 ******\u001b[0m\n",
      "\u001b[1mEvaluating current population of 2 agents...\u001b[0m\n",
      "100%|██████████| 2/2 [00:00<00:00, 3231.36it/s]\n",
      "\u001b[34m\u001b[1mAgent agent-02268d03-c42e-48ad-9dcb-de8afff5ba9d fitness: 0.7943794815224912, cost: 0.0\u001b[0m\n",
      "\u001b[34m\u001b[1mAgent agent-3dc2b205-3012-4422-9701-70e9c8f785b2 fitness: 0.6989944337295713, cost: 0.0\u001b[0m\n",
      "\u001b[1mEvaluation took 0:00:00.003304 for a total cost of 0.0 $\u001b[0m\n"
     ]
    },
    {
     "data": {
      "text/markdown": [
       "# Agent ID: agent-02268d03-c42e-48ad-9dcb-de8afff5ba9d\n",
       "## Fitness: 0.7943794815224912\n",
       "```mermaid \n",
       "graph LR\n",
       "\tStart_Node[start_node] --> Llm1(LLM1)\n",
       "\tLlm1(LLM1) --> Llm2(LLM2)\n",
       "\tLlm2(LLM2) --> End_Node[end_node]\n",
       " \n",
       "``` \n",
       "## Prompts:\n",
       "##### Shared context prompt\n",
       "You are part of a collaborative AI model designed to solve math word problems through a network of specialized LLM nodes. Your task is to contribute meaningfully to the problem-solving process while communicating effectively with other LLM nodes. The process begins with the interpretation of the problem, followed by the solution generation. Each node has a distinct role: LLM1: Interpret and extract key information from the math word problem. LLM2: Perform calculations based on the extracted information and generate a solution.\n",
       "##### LLM1\n",
       "You are tasked with interpreting a math word problem. Read the problem carefully and identify key elements such as numbers, operations, and relationships. Provide a concise summary that outlines these key details, ensuring to clarify any ambiguities or complexities in the problem. This summary will be forwarded to the next processing node for further action. Please format your response in a clear and structured manner.\n",
       "##### LLM2\n",
       "You have received key information extracted from a math word problem. Your objective is to use this information to solve the problem step-by-step. Begin by outlining the mathematical operations needed based on the relationships identified. Perform the necessary calculations and provide the final solution, along with a brief explanation of the steps you took to arrive at this solution. Ensure that your response is clear and logical, as it will be the final output of the problem-solving process.\n",
       "\n",
       "# Agent ID: agent-3dc2b205-3012-4422-9701-70e9c8f785b2\n",
       "## Fitness: 0.6989944337295713\n",
       "```mermaid \n",
       "graph LR\n",
       "\tStart_Node[start_node] --> Llm_Node(Math Problem Analyzer)\n",
       "\tLlm_Node(Math Problem Analyzer) --> End_Node[end_node]\n",
       " \n",
       "``` \n",
       "## Prompts:\n",
       "##### Shared context prompt\n",
       "You are part of a collaborative network of Large Language Models designed to solve complex math word problems. Each node in this network has a specific role in the problem-solving process, ensuring effective communication and integration of reasoning capabilities. Your task is to analyze the given math word problem, extract relevant information, and convey your findings to the subsequent node. You should use chain-of-thought reasoning to articulate your analysis clearly, and you are encouraged to reflect on your reasoning process to ensure accuracy. Be prepared to provide evaluative feedback if needed, to guide the next stages of problem-solving. Your ultimate goal is to derive a solution based on the provided word problem.\n",
       "##### Math Problem Analyzer\n",
       "You are tasked with analyzing the following math word problem. Begin by carefully reading the problem statement to extract key information, such as numbers, operations, and the relationships between them. Formulate a clear mathematical representation based on this information, including equations or expressions that accurately capture the essence of the problem. Ensure your reasoning is transparent by explaining each step of your thought process. Once you have derived the mathematical representation, summarize your findings and provide a concise explanation of how you reached this conclusion. Finally, pass this information along to the next node in the system for further processing.\n",
       "\n"
      ],
      "text/plain": [
       "<IPython.core.display.Markdown object>"
      ]
     },
     "metadata": {},
     "output_type": "display_data"
    },
    {
     "name": "stderr",
     "output_type": "stream",
     "text": [
      "\u001b[34m\u001b[1mSaving current state to ../data/2025-03-05_22-22-53/generation=0\u001b[0m\n",
      "\u001b[1mStarting crossover and mutation...\u001b[0m\n",
      "\u001b[34m\u001b[1m\n",
      "Initializing structured output agent for model AgentOutput (2)\u001b[0m\n",
      "\u001b[34m\u001b[1mNumber of offsprings: 1/1\u001b[0m\n",
      "\u001b[1mCrossover and mutation completed in 0:00:12.064653 for a total cost of 0.001742235 $\u001b[0m\n",
      "\u001b[1mGeneration 0 completed in 0:00:12.078086 with a total cost of 0.001742235 $\u001b[0m\n",
      "\u001b[1mBudget left after first generation: 0.00225226 $\u001b[0m\n",
      "\u001b[1m****** Running generation 1 ******\u001b[0m\n",
      "\u001b[1mEvaluating current population of 2 agents...\u001b[0m\n",
      "100%|██████████| 2/2 [00:00<00:00, 4433.73it/s]\n",
      "\u001b[34m\u001b[1mAgent agent-02268d03-c42e-48ad-9dcb-de8afff5ba9d fitness: 0.7645708662128131, cost: 0.0\u001b[0m\n",
      "\u001b[34m\u001b[1mAgent agent-454327c9-af3b-4647-b488-b8e8f9d655c7 fitness: 0.573025940277384, cost: 0.0\u001b[0m\n",
      "\u001b[1mEvaluation took 0:00:00.003494 for a total cost of 0.0 $\u001b[0m\n"
     ]
    },
    {
     "data": {
      "text/markdown": [
       "# Agent ID: agent-02268d03-c42e-48ad-9dcb-de8afff5ba9d\n",
       "## Fitness: 0.7645708662128131\n",
       "```mermaid \n",
       "graph LR\n",
       "\tStart_Node[start_node] --> Llm1(LLM1)\n",
       "\tLlm1(LLM1) --> Llm2(LLM2)\n",
       "\tLlm2(LLM2) --> End_Node[end_node]\n",
       " \n",
       "``` \n",
       "## Prompts:\n",
       "##### Shared context prompt\n",
       "You are part of a collaborative AI model designed to solve math word problems through a network of specialized LLM nodes. Your task is to contribute meaningfully to the problem-solving process while communicating effectively with other LLM nodes. The process begins with the interpretation of the problem, followed by the solution generation. Each node has a distinct role: LLM1: Interpret and extract key information from the math word problem. LLM2: Perform calculations based on the extracted information and generate a solution.\n",
       "##### LLM1\n",
       "You are tasked with interpreting a math word problem. Read the problem carefully and identify key elements such as numbers, operations, and relationships. Provide a concise summary that outlines these key details, ensuring to clarify any ambiguities or complexities in the problem. This summary will be forwarded to the next processing node for further action. Please format your response in a clear and structured manner.\n",
       "##### LLM2\n",
       "You have received key information extracted from a math word problem. Your objective is to use this information to solve the problem step-by-step. Begin by outlining the mathematical operations needed based on the relationships identified. Perform the necessary calculations and provide the final solution, along with a brief explanation of the steps you took to arrive at this solution. Ensure that your response is clear and logical, as it will be the final output of the problem-solving process.\n",
       "\n",
       "# Agent ID: agent-454327c9-af3b-4647-b488-b8e8f9d655c7\n",
       "## Fitness: 0.573025940277384\n",
       "```mermaid \n",
       "graph LR\n",
       "\tStart_Node[start_node] --> Llm1(LLM1)\n",
       "\tLlm1(LLM1) --> Llm2(LLM2)\n",
       "\tLlm2(LLM2) --> Llm3(LLM3)\n",
       "\tLlm3(LLM3) --> End_Node[end_node]\n",
       " \n",
       "``` \n",
       "## Prompts:\n",
       "##### Shared context prompt\n",
       "You are part of a collaborative AI model designed to solve math word problems through a network of specialized LLM nodes. Your task is to contribute meaningfully to the problem-solving process while communicating effectively with other LLM nodes. The process begins with the interpretation of the problem, followed by outlining necessary operations and culminating in solution generation. Each node has a distinct role: LLM1: Interpret and extract key information. LLM2: Identify and outline mathematical operations. LLM3: Perform calculations and generate final solutions.\n",
       "##### LLM1\n",
       "You are tasked with interpreting a math word problem. Read the problem carefully and identify key elements such as numbers, operations, and relationships. Provide a concise summary that outlines these key details, ensuring to clarify any ambiguities or complexities in the problem. This summary will be forwarded to the next processing node for further action. Please format your response in a clear and structured manner.\n",
       "##### LLM2\n",
       "You have received key information extracted from a math word problem. Your objective is to identify the necessary mathematical operations based on the relationships identified. Provide a detailed outline of the operations and logic needed to solve the problem.\n",
       "##### LLM3\n",
       "Now that you have an outline of the necessary operations, perform the calculations step-by-step using the information provided. Provide the final solution along with a brief explanation of the steps you took to arrive at this solution. Ensure clarity in your response.\n",
       "\n"
      ],
      "text/plain": [
       "<IPython.core.display.Markdown object>"
      ]
     },
     "metadata": {},
     "output_type": "display_data"
    },
    {
     "name": "stderr",
     "output_type": "stream",
     "text": [
      "\u001b[34m\u001b[1mSaving current state to ../data/2025-03-05_22-22-53/generation=1\u001b[0m\n",
      "\u001b[1mStarting crossover and mutation...\u001b[0m\n",
      "\u001b[1mBudgetExceededError: Master budget limit exceeded. Limit: 0.01, New total: 0.010646295000000002. Finishing process.\u001b[0m\n",
      "\u001b[34m\u001b[1mError when calling azure-gpt-4o-mini: Master budget limit exceeded. Limit: 0.01, New total: 0.010646295000000002\u001b[0m\n",
      "\u001b[1mBudgetExceededError: Master budget limit exceeded. Limit: 0.01, New total: 0.011756250000000003. Finishing process.\u001b[0m\n",
      "\u001b[34m\u001b[1mError when calling azure-gpt-4o-mini: Master budget limit exceeded. Limit: 0.01, New total: 0.011756250000000003\u001b[0m\n",
      "\u001b[1mBudgetExceededError: Master budget limit exceeded. Limit: 0.01, New total: 0.012856800000000003. Finishing process.\u001b[0m\n",
      "\u001b[34m\u001b[1mError when calling azure-gpt-4o-mini: Master budget limit exceeded. Limit: 0.01, New total: 0.012856800000000003\u001b[0m\n",
      "\u001b[34m\u001b[1mError while running agent agent-dc6482db-a51a-4c64-b617-95cbbc17eebf: Recursion limit of 7 reached without hitting a stop condition. You can increase the limit by setting the `recursion_limit` config key.\n",
      "For troubleshooting, visit: https://python.langchain.com/docs/troubleshooting/errors/GRAPH_RECURSION_LIMIT\u001b[0m\n",
      "\u001b[34m\u001b[1mCrossover agent failed creating a valid agent: 'NoneType' object has no attribute 'description'\u001b[0m\n",
      "\u001b[34m\u001b[1mError while generating offspring from ['agent-02268d03-c42e-48ad-9dcb-de8afff5ba9d', 'agent-02268d03-c42e-48ad-9dcb-de8afff5ba9d']. Falling back to architect agent.\u001b[0m\n",
      "\u001b[1mBudgetExceededError: Master budget limit exceeded. Limit: 0.01, New total: 0.013484955000000003. Finishing process.\u001b[0m\n",
      "\u001b[34m\u001b[1mError when calling azure-gpt-4o-mini: Master budget limit exceeded. Limit: 0.01, New total: 0.013484955000000003\u001b[0m\n",
      "\u001b[1mBudgetExceededError: Master budget limit exceeded. Limit: 0.01, New total: 0.014169540000000003. Finishing process.\u001b[0m\n",
      "\u001b[34m\u001b[1mError when calling azure-gpt-4o-mini: Master budget limit exceeded. Limit: 0.01, New total: 0.014169540000000003\u001b[0m\n",
      "\u001b[1mBudgetExceededError: Master budget limit exceeded. Limit: 0.01, New total: 0.015151455000000003. Finishing process.\u001b[0m\n",
      "\u001b[34m\u001b[1mError when calling azure-gpt-4o-mini: Master budget limit exceeded. Limit: 0.01, New total: 0.015151455000000003\u001b[0m\n",
      "\u001b[34m\u001b[1mError while running agent agent-897a05d5-9785-485d-9356-2ac6c89dc9bd: list index out of range\u001b[0m\n",
      "\u001b[34m\u001b[1mArchitect agent failed creating a valid agent: 'NoneType' object has no attribute 'description'\u001b[0m\n",
      "\u001b[34m\u001b[1mNumber of offsprings: 0/1\u001b[0m\n",
      "\u001b[1mCrossover and mutation completed in 0:00:58.031064 for a total cost of 0.007403715 $\u001b[0m\n",
      "\u001b[1mGeneration 1 completed in 0:00:58.042731 with a total cost of 0.007403715 $\u001b[0m\n",
      "\u001b[1mBudget left after new generation: -0.005151455000000003 $\u001b[0m\n",
      "100%|██████████| 1/1 [00:00<00:00, 1428.09it/s]\n",
      "\u001b[34m\u001b[1mAgent agent-454327c9-af3b-4647-b488-b8e8f9d655c7 fitness: 0.8833838264415125, cost: 0.0\u001b[0m\n",
      "\u001b[34m\u001b[1mSaving current state to ../data/2025-03-05_22-22-53/generation=2\u001b[0m\n",
      "\u001b[1mCycle completed in 0:01:31.735060 with a total cost of 0.015151455000000001 $\u001b[0m\n",
      "\u001b[1mBudget left at final: -0.005151455000000003 $\u001b[0m\n",
      "\u001b[1mReturning 2 best agents\u001b[0m\n"
     ]
    }
   ],
   "source": [
    "import asyncio\n",
    "import nest_asyncio\n",
    "\n",
    "from ebiose.core.evo_forging_cycle import EvoForgingCylceConfig\n",
    "nest_asyncio.apply()\n",
    "\n",
    "from pathlib import Path\n",
    "from datetime import UTC, datetime\n",
    "\n",
    "# the path where results will be saved\n",
    "current_time = datetime.now(UTC).strftime(\"%Y-%m-%d_%H-%M-%S\")\n",
    "SAVE_PATH = Path(f\"./../data/\") / current_time\n",
    "if not SAVE_PATH.exists():\n",
    "    SAVE_PATH.mkdir(parents=True)\n",
    "\n",
    "\n",
    "cycle_config = EvoForgingCylceConfig(\n",
    "    budget=0.01, # the budget for the forge cycle in dollas\n",
    "    n_agents_in_population=2, # number of agents in the population, at each generation\n",
    "    n_selected_agents_from_ecosystem=0, # number of agents selected from the ecosystem at initialization\n",
    "    n_best_agents_to_return=2, # number of best agents to return at the end of the cycle\n",
    "    replacement_ratio=0.5, # ratio of agents replaced at each generation\n",
    "    save_path=SAVE_PATH, # the path where results will be saved (optional)\n",
    ")\n",
    "\n",
    "best_agents, best_fitness = asyncio.run(\n",
    "    forge.run_new_cycle(config=cycle_config)\n",
    ")\n"
   ]
  },
  {
   "cell_type": "markdown",
   "metadata": {},
   "source": [
    "We can now display the best agents that have been returned as follows. Note that:\n",
    "- all agents can be found in the `SAVE_PATH` directory if you defined one;\n",
    "- here, the compute fitness only returns a random float, so the following displayed agents have not been truly evaluated. \n",
    "\n",
    "Go check [examples/math_forge/math_forge.py](./../examples/math_forge/math_forge.py) to see a fully implemeted forge with a non-random fitness evaluation function."
   ]
  },
  {
   "cell_type": "markdown",
   "metadata": {},
   "source": [
    "## Display best agents"
   ]
  },
  {
   "cell_type": "code",
   "execution_count": null,
   "metadata": {},
   "outputs": [
    {
     "data": {
      "text/markdown": [
       "# Agent ID: agent-454327c9-af3b-4647-b488-b8e8f9d655c7\n",
       "## Fitness: 0.8833838264415125\n",
       "```mermaid \n",
       "graph LR\n",
       "\tStart_Node[start_node] --> Llm1(LLM1)\n",
       "\tLlm1(LLM1) --> Llm2(LLM2)\n",
       "\tLlm2(LLM2) --> Llm3(LLM3)\n",
       "\tLlm3(LLM3) --> End_Node[end_node]\n",
       " \n",
       "``` \n",
       "## Prompts:\n",
       "##### Shared context prompt\n",
       "You are part of a collaborative AI model designed to solve math word problems through a network of specialized LLM nodes. Your task is to contribute meaningfully to the problem-solving process while communicating effectively with other LLM nodes. The process begins with the interpretation of the problem, followed by outlining necessary operations and culminating in solution generation. Each node has a distinct role: LLM1: Interpret and extract key information. LLM2: Identify and outline mathematical operations. LLM3: Perform calculations and generate final solutions.\n",
       "##### LLM1\n",
       "You are tasked with interpreting a math word problem. Read the problem carefully and identify key elements such as numbers, operations, and relationships. Provide a concise summary that outlines these key details, ensuring to clarify any ambiguities or complexities in the problem. This summary will be forwarded to the next processing node for further action. Please format your response in a clear and structured manner.\n",
       "##### LLM2\n",
       "You have received key information extracted from a math word problem. Your objective is to identify the necessary mathematical operations based on the relationships identified. Provide a detailed outline of the operations and logic needed to solve the problem.\n",
       "##### LLM3\n",
       "Now that you have an outline of the necessary operations, perform the calculations step-by-step using the information provided. Provide the final solution along with a brief explanation of the steps you took to arrive at this solution. Ensure clarity in your response.\n",
       "\n"
      ],
      "text/plain": [
       "<IPython.core.display.Markdown object>"
      ]
     },
     "metadata": {},
     "output_type": "display_data"
    }
   ],
   "source": [
    "forge.display_results(best_agents, best_fitness)"
   ]
  }
 ],
 "metadata": {
  "kernelspec": {
   "display_name": ".venv",
   "language": "python",
   "name": "python3"
  },
  "language_info": {
   "codemirror_mode": {
    "name": "ipython",
    "version": 3
   },
   "file_extension": ".py",
   "mimetype": "text/x-python",
   "name": "python",
   "nbconvert_exporter": "python",
   "pygments_lexer": "ipython3",
   "version": "3.12.8"
  }
 },
 "nbformat": 4,
 "nbformat_minor": 2
}
