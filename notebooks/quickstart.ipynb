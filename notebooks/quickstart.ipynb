{
 "cells": [
  {
   "cell_type": "markdown",
   "metadata": {},
   "source": [
    "# Create a forge and execute an evolution cycle\n",
    "In this notebook, we will go through the very few steps needed to run a forge cycle for a given budget. \n",
    "Before running this notebook, you must set up a few things:\n",
    "\n",
    "**Your access to LLM's providers:**\n",
    "\n",
    "To try Ebiose, you must have access to at least one LLM provider. To provide the credentials, copy-paste the [`model_endpoints_template.yml`](./../model_endpoints_template.yml) file, rename it as `model_endpoints.yml` and fill it with your own credentials.\n",
    "\n",
    "**Add the root directory to your Python path**\n",
    "\n",
    "Depending on your settings, you may need to add the root of the repository to your `PYTHONPATH` environment variable. You may also use a `.env` file to do so. copy-paste the [`.env.template`](./../.env.template) file, rename it as `.env` and fill it with your own root directory.\n",
    "\n",
    "**Use LangFuse for tracing**\n",
    "\n",
    "Ebiose has chosen LangFuse to provide easy and free observability, through its self-hosted capability. Refer to [Langfuse official documentation](https://langfuse.com/self-hosting) to set it up. Once done, fill `LANGFUSE_SECRET_KEY`, `LANGFUSE_PUBLIC_KEY` and `LANGFUSE_HOST` in the `.env` file.\n",
    "\n",
    "Other observability tools might be used but are not configured yet.\n",
    "\n",
    "**Load .env file**\n",
    "\n",
    "To load the `.env` file, execute:"
   ]
  },
  {
   "cell_type": "code",
   "execution_count": 8,
   "metadata": {},
   "outputs": [
    {
     "data": {
      "text/plain": [
       "True"
      ]
     },
     "execution_count": 8,
     "metadata": {},
     "output_type": "execute_result"
    }
   ],
   "source": [
    "from dotenv import load_dotenv\n",
    "load_dotenv()"
   ]
  },
  {
   "cell_type": "markdown",
   "metadata": {},
   "source": [
    "## Creating a basic forge\n",
    "\n",
    "In ebiose, a **forge** is where custom agents are created to solve specific problems. The forge is the exclusive origin of new agents. Within each forge, architects agents orchestrate the creation and improvement of agents by reusing existing building blocks from the ecosystem.\n",
    "\n",
    "To create a forge and run a cycle, you must provide the following:\n",
    "- a description of the forge, which defines the problem that must be solved by generated agents;\n",
    "- the expected format of the agent's input and output, defined as Pydantic models;\n",
    "- an implementation of the `compute_fitness` abstract method that will be used by the forge to evaluate the generated agents.\n",
    "\n",
    "Let's say we wich to generate agents specialized in solving math problems. The forge description could be:"
   ]
  },
  {
   "cell_type": "code",
   "execution_count": 9,
   "metadata": {},
   "outputs": [],
   "source": [
    "forge_description = \"Solving math word problems\""
   ]
  },
  {
   "cell_type": "markdown",
   "metadata": {},
   "source": [
    "Next, we need to define the expected input and output formats of the generated agents. These formats are to be defined as Pydantic models. \n",
    "\n",
    "For instance, in our context of solving math problems, we want the agent input to be a string which will represent the math problem to be solved and the agent output to be composed of two fields:\n",
    "- `solution` which will be the final solution to the math problem, given as an integer;\n",
    "- `rationale` which will be the rationale behind the found solution.\n",
    "\n",
    "The IO Pydantic models will thus be:"
   ]
  },
  {
   "cell_type": "code",
   "execution_count": 10,
   "metadata": {},
   "outputs": [],
   "source": [
    "from pydantic import BaseModel\n",
    "\n",
    "class AgentInput(BaseModel):\n",
    "        math_problem: str\n",
    "\n",
    "class AgentOutput(BaseModel):\n",
    "    solution: int\n",
    "    rationale: str"
   ]
  },
  {
   "cell_type": "markdown",
   "metadata": {},
   "source": [
    "Lastly, we must provide a way of evaluating the generated agents through the implementation of the `compute_fitness` abstract method of `AgentForge` class. For the sake of demonstration, we will here return a random float between 0 and 1, so that we don't spend tokens at evaluation."
   ]
  },
  {
   "cell_type": "code",
   "execution_count": null,
   "metadata": {},
   "outputs": [],
   "source": [
    "import random\n",
    "random.seed(11)\n",
    "\n",
    "from ebiose.core.agent import Agent\n",
    "from ebiose.core.agent_forge import AgentForge\n",
    "\n",
    "class BasicForge(AgentForge):\n",
    "    async def compute_fitness(self, agent: Agent, compute_token_id: str, **kwargs: dict[str, any]) -> float:\n",
    "        return random.random()"
   ]
  },
  {
   "cell_type": "markdown",
   "metadata": {},
   "source": [
    "We can now instantiate the forge with the provided elements:"
   ]
  },
  {
   "cell_type": "code",
   "execution_count": null,
   "metadata": {},
   "outputs": [],
   "source": [
    "forge = BasicForge(\n",
    "    name=\"Basic forge\",\n",
    "    description=forge_description,\n",
    "    agent_input_model=AgentInput,\n",
    "    agent_output_model=AgentOutput,\n",
    "    default_generated_agent_engine_type=\"langgraph_engine\",\n",
    "    default_model_endpoint_id=None, # set to different model endpoint id if \n",
    "    # you want to use a specific model for generated agents, other than the default one defined in the model endpoint YAML file\n",
    ")"
   ]
  },
  {
   "cell_type": "markdown",
   "metadata": {},
   "source": [
    "## Running a forge cycle\n",
    "\n",
    "Once the forge is instantiated, we can start generating agents by running a **forge cycle**. \n",
    "\n",
    "To do so, you must define:\n",
    "- a budget in dollars (the forge cycle will end once this budget is exhausted);\n",
    "- optionally, a path in which created agents and fitness will be saved accross generations. \n",
    "\n",
    "> ⚠️ Note that we need to use `asyncio.run` to launch the forge cycle.\n",
    "\n",
    "> 🚨 Before executing the following cell, check the amount of budget you have allocated!\n",
    "\n",
    "> 💡 If you are using VSCode, install the [*Markdown Preview Mermaid Support* extension](https://marketplace.visualstudio.com/items?itemName=bierner.markdown-mermaid) to allow the display of the generated agent's graphs."
   ]
  },
  {
   "cell_type": "code",
   "execution_count": 13,
   "metadata": {},
   "outputs": [
    {
     "name": "stderr",
     "output_type": "stream",
     "text": [
      "\u001b[1mStarting a new cycle for forge Basic forge\u001b[0m\n",
      "\u001b[1m****** Initializing agents population ******\u001b[0m\n",
      "\u001b[1mCreating 2 new agents with architect agents...\u001b[0m\n",
      "100%|██████████| 2/2 [00:39<00:00, 19.61s/it]\n",
      "\u001b[34m\u001b[1mAgent initialization cost: 0.009539805\u001b[0m\n",
      "\u001b[1mPopulation initialized with 2 agents\u001b[0m\n",
      "\u001b[1mInitialization of 2 agents took 0:00:39.223325\u001b[0m\n",
      "\u001b[1mBudget left after initialization: 0.00046019500000000005 $\u001b[0m\n",
      "\u001b[1m****** Running generation 0 ******\u001b[0m\n",
      "\u001b[1mEvaluating current population of 2 agents...\u001b[0m\n",
      "100%|██████████| 2/2 [00:00<00:00, 3327.49it/s]\n",
      "\u001b[34m\u001b[1mAgent agent-ae8fe56f-cc98-4775-a714-07a6fbdb3efc fitness: 0.26156373587507886, cost: 0.0\u001b[0m\n",
      "\u001b[34m\u001b[1mAgent agent-2951e239-9fc5-4609-beba-27e50c1d2e3a fitness: 0.9410878223413865, cost: 0.0\u001b[0m\n",
      "\u001b[1mEvaluation took 0:00:00.003366 for a total cost of 0.0 $\u001b[0m\n"
     ]
    },
    {
     "data": {
      "text/markdown": [
       "# Agent ID: agent-2951e239-9fc5-4609-beba-27e50c1d2e3a\n",
       "## Fitness: 0.9410878223413865\n",
       "```mermaid \n",
       "graph LR\n",
       "\tStart_Node[StartNode] --> Llm1(Problem Understanding)\n",
       "\tLlm1(Problem Understanding) --> Llm2(Problem Analysis)\n",
       "\tLlm2(Problem Analysis) --> Llm3(Solution Generation)\n",
       "\tLlm3(Solution Generation) --> End_Node[EndNode]\n",
       " \n",
       "``` \n",
       "## Prompts:\n",
       "##### Shared context prompt\n",
       "You are part of a collaborative network of Large Language Models (LLMs) designed to solve math word problems through a structured reasoning process. Each node in the network has a specific role:\n",
       "\n",
       "1. The Problem Understanding node extracts the key information from the given word problem.\n",
       "2. The Problem Analysis node evaluates the extracted information to determine the necessary mathematical operations.\n",
       "3. The Solution Generation node computes the final answer based on the analysis.\n",
       "\n",
       "Your task is to communicate effectively with the other models in the network, ensuring that your output is clear and informative, as it will guide the next node in the process. Emphasize chain-of-thought reasoning, self-reflection, and evaluative feedback where applicable.\n",
       "##### Problem Understanding\n",
       "You are tasked with understanding a math word problem and extracting its key information. Read the provided problem carefully. Identify and list the essential components, including the quantities involved, the relationships between them, and the question that needs to be answered.\n",
       "\n",
       "Additionally, reflect on the context of the problem and consider if there are any assumptions or clarifications needed. Your output should be a structured summary that clearly delineates the critical elements of the problem, as this will inform the next node in the process.\n",
       "\n",
       "For example, if the problem states, \"John has 5 apples and gives 2 to Mary. How many does he have left?\", your output should include:\n",
       "- Initial quantity of apples: 5\n",
       "- Quantity given away: 2\n",
       "- Final question: How many apples are left?\n",
       "##### Problem Analysis\n",
       "Your role is to analyze the key information provided by the Problem Understanding node. Based on the structured summary you received, evaluate the relationships between the quantities and determine the mathematical operations needed to solve the problem.\n",
       "\n",
       "Consider the following:\n",
       "1. What arithmetic operations (addition, subtraction, multiplication, division) are necessary?\n",
       "2. Are there multiple steps required to arrive at the solution?\n",
       "3. Are there any potential pitfalls or common errors that should be noted?\n",
       "\n",
       "Your output should be a clear, logical outline of the steps and operations required to solve the problem, which will guide the next node in generating the solution. Reflect on your analysis to ensure it is thorough and accurate.\n",
       "##### Solution Generation\n",
       "Your task is to generate the final solution to the math word problem based on the analysis provided by the Problem Analysis node. Start by reviewing the steps and operations outlined in the previous node.\n",
       "\n",
       "Follow these guidelines:\n",
       "1. Execute the necessary calculations step by step, clearly showing your reasoning.\n",
       "2. Provide the final answer to the question posed in the word problem.\n",
       "3. Include a brief reflection on the solution process, highlighting any assumptions made or potential errors to watch out for in similar problems.\n",
       "\n",
       "Your output should be the computed answer and a concise explanation of how you arrived at it, ensuring that the final result is clear and informative for the EndNode.\n",
       "\n",
       "# Agent ID: agent-ae8fe56f-cc98-4775-a714-07a6fbdb3efc\n",
       "## Fitness: 0.26156373587507886\n",
       "```mermaid \n",
       "graph LR\n",
       "\tStart_Node[start_node] --> Llm_Node_1(Problem Understanding LLM)\n",
       "\tLlm_Node_1(Problem Understanding LLM) --> Llm_Node_2(Equation Formulation LLM)\n",
       "\tLlm_Node_2(Equation Formulation LLM) --> Llm_Node_3(Equation Solving LLM)\n",
       "\tLlm_Node_3(Equation Solving LLM) --> Llm_Node_4(Solution Verification LLM)\n",
       "\tLlm_Node_4(Solution Verification LLM) --> End_Node[end_node]\n",
       " \n",
       "``` \n",
       "## Prompts:\n",
       "##### Shared context prompt\n",
       "You are part of a collaborative network designed to solve math word problems. Each node in this network has a distinct role that contributes to the overall problem-solving process. The process begins with understanding the problem, followed by formulating mathematical equations, solving those equations, and verifying the solutions. Each node will communicate its findings to the next node, facilitating a seamless flow of information. Your task is to execute your role effectively, ensuring that the output is clear, informative, and relevant to the next step in the process.\n",
       "##### Problem Understanding LLM\n",
       "Read the following math word problem carefully. Identify and extract the key components, including numbers, operations, and the overall context. Make sure to understand the relationships between different elements in the problem. After analyzing the problem, summarize your understanding in a clear and concise manner, highlighting the critical components that will assist in formulating a mathematical equation. Provide this summary to the next node for further processing.\n",
       "##### Equation Formulation LLM\n",
       "Based on the summary provided by the Problem Understanding LLM, identify the mathematical relationships and translate them into a mathematical equation. Clearly define the variables and operations involved. Justify your choices by explaining how each part of the equation corresponds to the elements of the word problem. Once formulated, present the equation and any relevant notes or assumptions to the next node for solving.\n",
       "##### Equation Solving LLM\n",
       "Using the equation provided by the Equation Formulation LLM, perform the necessary mathematical operations to derive the solution. Clearly show each step of your calculations, ensuring that your reasoning is transparent. After reaching the final answer, reflect on the solution's validity. Consider if the solution makes sense in the context of the original problem and prepare the answer, along with your reasoning and any potential alternative solutions, for the Solution Verification LLM.\n",
       "##### Solution Verification LLM\n",
       "Review the solution and reasoning provided by the Equation Solving LLM. Assess whether the solution correctly addresses the original math word problem. Verify each step of the calculations, and check for any logical inconsistencies or errors. If the solution is valid, summarize your verification process and confirm the answer. If inconsistencies are found, provide constructive feedback and suggest possible corrections. Once the solution is verified, present the final answer along with your verification notes to the EndNode.\n",
       "\n"
      ],
      "text/plain": [
       "<IPython.core.display.Markdown object>"
      ]
     },
     "metadata": {},
     "output_type": "display_data"
    },
    {
     "name": "stderr",
     "output_type": "stream",
     "text": [
      "\u001b[34m\u001b[1mSaving current state to ../data/2025-03-14_17-21-57/generation=0\u001b[0m\n",
      "\u001b[1mStarting crossover and mutation...\u001b[0m\n",
      "\u001b[1mBudgetExceededError: Master budget limit exceeded. Limit: 0.01, New total: 0.010766745000000001. Finishing process.\u001b[0m\n",
      "\u001b[34m\u001b[1mError when calling azure-gpt-4o-mini: Master budget limit exceeded. Limit: 0.01, New total: 0.010766745000000001\u001b[0m\n",
      "\u001b[34m\u001b[1mError while running agent agent-1cbf6396-93de-459a-ad8d-9039a09d25cb: list index out of range\u001b[0m\n",
      "\u001b[34m\u001b[1mCrossover agent failed creating a valid agent: 'NoneType' object has no attribute 'description'\u001b[0m\n",
      "\u001b[34m\u001b[1mError while generating offspring from ['agent-2951e239-9fc5-4609-beba-27e50c1d2e3a', 'agent-2951e239-9fc5-4609-beba-27e50c1d2e3a']. Falling back to architect agent.\u001b[0m\n",
      "\u001b[1mBudgetExceededError: Master budget limit exceeded. Limit: 0.01, New total: 0.011361240000000002. Finishing process.\u001b[0m\n",
      "\u001b[34m\u001b[1mError when calling azure-gpt-4o-mini: Master budget limit exceeded. Limit: 0.01, New total: 0.011361240000000002\u001b[0m\n",
      "\u001b[1mBudgetExceededError: Master budget limit exceeded. Limit: 0.01, New total: 0.012035925000000001. Finishing process.\u001b[0m\n",
      "\u001b[34m\u001b[1mError when calling azure-gpt-4o-mini: Master budget limit exceeded. Limit: 0.01, New total: 0.012035925000000001\u001b[0m\n",
      "\u001b[1mBudgetExceededError: Master budget limit exceeded. Limit: 0.01, New total: 0.013099020000000001. Finishing process.\u001b[0m\n",
      "\u001b[34m\u001b[1mError when calling azure-gpt-4o-mini: Master budget limit exceeded. Limit: 0.01, New total: 0.013099020000000001\u001b[0m\n",
      "\u001b[34m\u001b[1mError while running agent agent-cd68ea98-cbcf-4761-a739-b133bdeb395e: list index out of range\u001b[0m\n",
      "\u001b[34m\u001b[1mArchitect agent failed creating a valid agent: 'NoneType' object has no attribute 'description'\u001b[0m\n",
      "\u001b[34m\u001b[1mNumber of offsprings: 0/1\u001b[0m\n",
      "\u001b[1mCrossover and mutation completed in 0:00:44.879031 for a total cost of 0.003559215 $\u001b[0m\n",
      "\u001b[1mGeneration 0 completed in 0:00:44.892094 with a total cost of 0.003559215 $\u001b[0m\n",
      "\u001b[1mBudget left after first generation: -0.003099020000000001 $\u001b[0m\n",
      "100%|██████████| 1/1 [00:00<00:00, 1744.72it/s]\n",
      "\u001b[34m\u001b[1mAgent agent-2951e239-9fc5-4609-beba-27e50c1d2e3a fitness: 0.2765476293735186, cost: 0.0\u001b[0m\n",
      "\u001b[34m\u001b[1mSaving current state to ../data/2025-03-14_17-21-57/generation=1\u001b[0m\n",
      "\u001b[1mCycle completed in 0:01:24.126300 with a total cost of 0.01309902 $\u001b[0m\n",
      "\u001b[1mBudget left at final: -0.003099020000000001 $\u001b[0m\n",
      "\u001b[1mReturning 2 best agents\u001b[0m\n"
     ]
    }
   ],
   "source": [
    "import asyncio\n",
    "import nest_asyncio\n",
    "\n",
    "from ebiose.core.evo_forging_cycle import EvoForgingCycleConfig\n",
    "nest_asyncio.apply()\n",
    "\n",
    "from pathlib import Path\n",
    "from datetime import UTC, datetime\n",
    "\n",
    "# the path where results will be saved\n",
    "current_time = datetime.now(UTC).strftime(\"%Y-%m-%d_%H-%M-%S\")\n",
    "SAVE_PATH = Path(f\"./../data/\") / current_time\n",
    "if not SAVE_PATH.exists():\n",
    "    SAVE_PATH.mkdir(parents=True)\n",
    "\n",
    "\n",
    "cycle_config = EvoForgingCycleConfig(\n",
    "    budget=0.01, # the budget for the forge cycle in dollas\n",
    "    n_agents_in_population=2, # number of agents in the population, at each generation\n",
    "    n_selected_agents_from_ecosystem=0, # number of agents selected from the ecosystem at initialization\n",
    "    n_best_agents_to_return=2, # number of best agents to return at the end of the cycle\n",
    "    replacement_ratio=0.5, # ratio of agents replaced at each generation\n",
    "    save_path=SAVE_PATH, # the path where results will be saved (optional)\n",
    ")\n",
    "\n",
    "best_agents, best_fitness = asyncio.run(\n",
    "    forge.run_new_cycle(config=cycle_config)\n",
    ")\n"
   ]
  },
  {
   "cell_type": "markdown",
   "metadata": {},
   "source": [
    "We can now display the best agents that have been returned as follows. Note that:\n",
    "- all agents can be found in the `SAVE_PATH` directory if you defined one;\n",
    "- here, the compute fitness only returns a random float, so the following displayed agents have not been truly evaluated. \n",
    "\n",
    "Go check [examples/math_forge/math_forge.py](./../examples/math_forge/math_forge.py) to see a fully implemeted forge with a non-random fitness evaluation function."
   ]
  },
  {
   "cell_type": "markdown",
   "metadata": {},
   "source": [
    "## Display best agents"
   ]
  },
  {
   "cell_type": "code",
   "execution_count": 14,
   "metadata": {},
   "outputs": [
    {
     "data": {
      "text/markdown": [
       "# Agent ID: agent-2951e239-9fc5-4609-beba-27e50c1d2e3a\n",
       "## Fitness: 0.2765476293735186\n",
       "```mermaid \n",
       "graph LR\n",
       "\tStart_Node[StartNode] --> Llm1(Problem Understanding)\n",
       "\tLlm1(Problem Understanding) --> Llm2(Problem Analysis)\n",
       "\tLlm2(Problem Analysis) --> Llm3(Solution Generation)\n",
       "\tLlm3(Solution Generation) --> End_Node[EndNode]\n",
       " \n",
       "``` \n",
       "## Prompts:\n",
       "##### Shared context prompt\n",
       "You are part of a collaborative network of Large Language Models (LLMs) designed to solve math word problems through a structured reasoning process. Each node in the network has a specific role:\n",
       "\n",
       "1. The Problem Understanding node extracts the key information from the given word problem.\n",
       "2. The Problem Analysis node evaluates the extracted information to determine the necessary mathematical operations.\n",
       "3. The Solution Generation node computes the final answer based on the analysis.\n",
       "\n",
       "Your task is to communicate effectively with the other models in the network, ensuring that your output is clear and informative, as it will guide the next node in the process. Emphasize chain-of-thought reasoning, self-reflection, and evaluative feedback where applicable.\n",
       "##### Problem Understanding\n",
       "You are tasked with understanding a math word problem and extracting its key information. Read the provided problem carefully. Identify and list the essential components, including the quantities involved, the relationships between them, and the question that needs to be answered.\n",
       "\n",
       "Additionally, reflect on the context of the problem and consider if there are any assumptions or clarifications needed. Your output should be a structured summary that clearly delineates the critical elements of the problem, as this will inform the next node in the process.\n",
       "\n",
       "For example, if the problem states, \"John has 5 apples and gives 2 to Mary. How many does he have left?\", your output should include:\n",
       "- Initial quantity of apples: 5\n",
       "- Quantity given away: 2\n",
       "- Final question: How many apples are left?\n",
       "##### Problem Analysis\n",
       "Your role is to analyze the key information provided by the Problem Understanding node. Based on the structured summary you received, evaluate the relationships between the quantities and determine the mathematical operations needed to solve the problem.\n",
       "\n",
       "Consider the following:\n",
       "1. What arithmetic operations (addition, subtraction, multiplication, division) are necessary?\n",
       "2. Are there multiple steps required to arrive at the solution?\n",
       "3. Are there any potential pitfalls or common errors that should be noted?\n",
       "\n",
       "Your output should be a clear, logical outline of the steps and operations required to solve the problem, which will guide the next node in generating the solution. Reflect on your analysis to ensure it is thorough and accurate.\n",
       "##### Solution Generation\n",
       "Your task is to generate the final solution to the math word problem based on the analysis provided by the Problem Analysis node. Start by reviewing the steps and operations outlined in the previous node.\n",
       "\n",
       "Follow these guidelines:\n",
       "1. Execute the necessary calculations step by step, clearly showing your reasoning.\n",
       "2. Provide the final answer to the question posed in the word problem.\n",
       "3. Include a brief reflection on the solution process, highlighting any assumptions made or potential errors to watch out for in similar problems.\n",
       "\n",
       "Your output should be the computed answer and a concise explanation of how you arrived at it, ensuring that the final result is clear and informative for the EndNode.\n",
       "\n"
      ],
      "text/plain": [
       "<IPython.core.display.Markdown object>"
      ]
     },
     "metadata": {},
     "output_type": "display_data"
    }
   ],
   "source": [
    "forge.display_results(best_agents, best_fitness)"
   ]
  }
 ],
 "metadata": {
  "kernelspec": {
   "display_name": ".venv",
   "language": "python",
   "name": "python3"
  },
  "language_info": {
   "codemirror_mode": {
    "name": "ipython",
    "version": 3
   },
   "file_extension": ".py",
   "mimetype": "text/x-python",
   "name": "python",
   "nbconvert_exporter": "python",
   "pygments_lexer": "ipython3",
   "version": "3.12.8"
  }
 },
 "nbformat": 4,
 "nbformat_minor": 2
}
