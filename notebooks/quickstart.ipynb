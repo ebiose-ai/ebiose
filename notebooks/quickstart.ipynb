{
 "cells": [
  {
   "cell_type": "markdown",
   "metadata": {},
   "source": [
    "# Create a forge and execute an evolution cycle\n",
    "In this notebook, we will go through the very few steps needed to run a forge cycle for a given budget. \n",
    "Before running this notebook, you must set up a few things:\n",
    "\n",
    "**Your access to LLM's providers:**\n",
    "\n",
    "To try Ebiose, you must have access to at least one LLM provider. To provide the credentials, copy-paste the [`model_endpoints_template.yml`](./../model_endpoints_template.yml) file, rename it as `model_endpoints.yml` and fill it with your own credentials.\n",
    "\n",
    "**Add the root directory to your Python path**\n",
    "\n",
    "Depending on your settings, you may need to add the root of the repository to your `PYTHONPATH` environment variable. You may also use a `.env` file to do so. copy-paste the [`.env.template`](./../.env.template) file, rename it as `.env` and fill it with your own root directory.\n",
    "\n",
    "**Use LangFuse for tracing**\n",
    "\n",
    "Ebiose has chosen LangFuse to provide easy and free observability, through its self-hosted capability. Refer to [Langfuse official documentation](https://langfuse.com/self-hosting) to set it up. Once done, fill `LANGFUSE_SECRET_KEY`, `LANGFUSE_PUBLIC_KEY` and `LANGFUSE_HOST` in the `.env` file.\n",
    "\n",
    "Other observability tools might be used but are not configured yet.\n",
    "\n",
    "**Load .env file**\n",
    "\n",
    "To load the `.env` file, execute:"
   ]
  },
  {
   "cell_type": "code",
   "execution_count": null,
   "metadata": {},
   "outputs": [],
   "source": [
    "from dotenv import load_dotenv\n",
    "load_dotenv()"
   ]
  },
  {
   "cell_type": "markdown",
   "metadata": {},
   "source": [
    "## Creating a basic forge\n",
    "\n",
    "In ebiose, a **forge** is where custom agents are created to solve specific problems. The forge is the exclusive origin of new agents. Within each forge, architects agents orchestrate the creation and improvement of agents by reusing existing building blocks from the ecosystem.\n",
    "\n",
    "To create a forge and run a cycle, you must provide the following:\n",
    "- a description of the forge, which defines the problem that must be solved by generated agents;\n",
    "- the expected format of the agent's input and output, defined as Pydantic models;\n",
    "- an implementation of the `compute_fitness` abstract method that will be used by the forge to evaluate the generated agents.\n",
    "\n",
    "Let's say we wich to generate agents specialized in solving math problems. The forge description could be:"
   ]
  },
  {
   "cell_type": "code",
   "execution_count": 3,
   "metadata": {},
   "outputs": [],
   "source": [
    "forge_description = \"Solving math word problems\""
   ]
  },
  {
   "cell_type": "markdown",
   "metadata": {},
   "source": [
    "Next, we need to define the expected input and output formats of the generated agents. These formats are to be defined as Pydantic models. \n",
    "\n",
    "For instance, in our context of solving math problems, we want the agent input to be a string which will represent the math problem to be solved and the agent output to be composed of two fields:\n",
    "- `solution` which will be the final solution to the math problem, given as an integer;\n",
    "- `rationale` which will be the rationale behind the found solution.\n",
    "\n",
    "The IO Pydantic models will thus be:"
   ]
  },
  {
   "cell_type": "code",
   "execution_count": 4,
   "metadata": {},
   "outputs": [],
   "source": [
    "from pydantic import BaseModel\n",
    "\n",
    "class AgentInput(BaseModel):\n",
    "        math_problem: str\n",
    "\n",
    "class AgentOutput(BaseModel):\n",
    "    solution: int\n",
    "    rationale: str"
   ]
  },
  {
   "cell_type": "markdown",
   "metadata": {},
   "source": [
    "Lastly, we must provide a way of evaluating the generated agents through the implementation of the `compute_fitness` abstract method of `AgentForge` class. For the sake of demonstration, we will here return a random float between 0 and 1, so that we don't spend tokens at evaluation."
   ]
  },
  {
   "cell_type": "code",
   "execution_count": 5,
   "metadata": {},
   "outputs": [
    {
     "name": "stderr",
     "output_type": "stream",
     "text": [
      "/Users/xabier/dev/ebiose-core/.venv/lib/python3.12/site-packages/pydantic/_internal/_generate_schema.py:502: UserWarning: <built-in function any> is not a Python type (it may be an instance of an object), Pydantic will allow any object with no validation since we cannot even enforce that the input is an instance of the given type. To get rid of this error wrap the type with `pydantic.SkipValidation`.\n",
      "  warn(\n"
     ]
    }
   ],
   "source": [
    "import random\n",
    "random.seed(7)\n",
    "\n",
    "from ebiose.core.agent import Agent\n",
    "from ebiose.core.agent_forge import AgentForge\n",
    "\n",
    "class BasicForge(AgentForge):\n",
    "    async def compute_fitness(self, agent: Agent, compute_token_id: str, **kwargs: dict[str, any]) -> float:\n",
    "        return random.random()"
   ]
  },
  {
   "cell_type": "markdown",
   "metadata": {},
   "source": [
    "We can now instantiate the forge with the provided elements:"
   ]
  },
  {
   "cell_type": "code",
   "execution_count": 6,
   "metadata": {},
   "outputs": [],
   "source": [
    "forge = BasicForge(\n",
    "    name=\"Basic forge\",\n",
    "    description=forge_description,\n",
    "    agent_input_model=AgentInput,\n",
    "    agent_output_model=AgentOutput,\n",
    "    default_generated_agent_engine_type=\"langgraph_engine\",\n",
    "    default_model_endpoint_id=\"azure-gpt-4o-mini\"\n",
    ")"
   ]
  },
  {
   "cell_type": "markdown",
   "metadata": {},
   "source": [
    "# Running a forge cycle\n",
    "\n",
    "Once the forge is instantiated, we can start generating agents by running a **forge cycle**. \n",
    "\n",
    "To do so, you must define:\n",
    "- a budget in dollars (the forge cycle will end once this budget is exhausted);\n",
    "- optionally, a path in which created agents and fitness will be saved accross generations. \n",
    "\n",
    "> ⚠️ Note that we need to use `asyncio.run` to launch the forge cycle.\n",
    "\n",
    "> 🚨 Before executing the following cell, check the amount of budget you have allocated!\n",
    "\n",
    "> 💡 If you are using VSCode, install the [*Markdown Preview Mermaid Support* extension](https://marketplace.visualstudio.com/items?itemName=bierner.markdown-mermaid) to allow the display of the generated agent's graphs."
   ]
  },
  {
   "cell_type": "code",
   "execution_count": 10,
   "metadata": {},
   "outputs": [
    {
     "name": "stderr",
     "output_type": "stream",
     "text": [
      "\u001b[1mStarting a new cycle for forge Basic forge\u001b[0m\n",
      "\u001b[1m****** Initializing agents population ******\u001b[0m\n",
      "\u001b[1mCreating 2 new agents with architect agents...\u001b[0m\n",
      "  0%|          | 0/2 [00:00<?, ?it/s]\u001b[34m\u001b[1m\n",
      "Initializing structured output agent for model AgentOutput (1)\u001b[0m\n",
      " 50%|█████     | 1/2 [00:36<00:36, 36.33s/it]\u001b[1mBudgetExceededError: Token budget limit exceeded. Limit: 0.01, New total: 0.01022604. Finishing process.\u001b[0m\n",
      "\u001b[34m\u001b[1mError when calling azure-gpt-4o-mini: Token budget limit exceeded. Limit: 0.01, New total: 0.01022604\u001b[0m\n",
      "\u001b[1mBudgetExceededError: Token budget limit exceeded. Limit: 0.01, New total: 0.011428065000000001. Finishing process.\u001b[0m\n",
      "\u001b[34m\u001b[1mError when calling azure-gpt-4o-mini: Token budget limit exceeded. Limit: 0.01, New total: 0.011428065000000001\u001b[0m\n",
      "\u001b[1mBudgetExceededError: Token budget limit exceeded. Limit: 0.01, New total: 0.01262976. Finishing process.\u001b[0m\n",
      "\u001b[34m\u001b[1mError when calling azure-gpt-4o-mini: Token budget limit exceeded. Limit: 0.01, New total: 0.01262976\u001b[0m\n",
      "\u001b[1mBudgetExceededError: Token budget limit exceeded. Limit: 0.01, New total: 0.01383723. Finishing process.\u001b[0m\n",
      "\u001b[34m\u001b[1mError when calling azure-gpt-4o-mini: Token budget limit exceeded. Limit: 0.01, New total: 0.01383723\u001b[0m\n",
      "\u001b[31m\u001b[1mError while running agent agent-961e18c2-4aa2-418d-9ef0-c27eef59d5cd: Recursion limit of 7 reached without hitting a stop condition. You can increase the limit by setting the `recursion_limit` config key.\n",
      "For troubleshooting, visit: https://python.langchain.com/docs/troubleshooting/errors/GRAPH_RECURSION_LIMIT\u001b[0m\n",
      "\u001b[34m\u001b[1mArchitect agent failed creating a valid agent: 'NoneType' object has no attribute 'description'\u001b[0m\n",
      "\u001b[31m\u001b[1mArchitect agent agent-2e56a58f-2402-49f5-8143-09041a90920c failed creating a valid agent for Basic forge. Retrying once.\u001b[0m\n",
      "\u001b[1mBudgetExceededError: Token budget limit exceeded. Limit: 0.01, New total: 0.014435025. Finishing process.\u001b[0m\n",
      "\u001b[34m\u001b[1mError when calling azure-gpt-4o-mini: Token budget limit exceeded. Limit: 0.01, New total: 0.014435025\u001b[0m\n",
      "\u001b[1mBudgetExceededError: Token budget limit exceeded. Limit: 0.01, New total: 0.015082650000000001. Finishing process.\u001b[0m\n",
      "\u001b[34m\u001b[1mError when calling azure-gpt-4o-mini: Token budget limit exceeded. Limit: 0.01, New total: 0.015082650000000001\u001b[0m\n",
      "\u001b[1mBudgetExceededError: Token budget limit exceeded. Limit: 0.01, New total: 0.01604262. Finishing process.\u001b[0m\n",
      "\u001b[34m\u001b[1mError when calling azure-gpt-4o-mini: Token budget limit exceeded. Limit: 0.01, New total: 0.01604262\u001b[0m\n",
      "\u001b[31m\u001b[1mError while running agent agent-2e56a58f-2402-49f5-8143-09041a90920c: list index out of range\u001b[0m\n",
      "\u001b[34m\u001b[1mArchitect agent failed creating a valid agent: 'NoneType' object has no attribute 'description'\u001b[0m\n",
      "100%|██████████| 2/2 [01:09<00:00, 34.99s/it]\n",
      "\u001b[34m\u001b[1mAgent initialization cost: 0.01604262\u001b[0m\n",
      "\u001b[1mPopulation initialized with 1 agents\u001b[0m\n",
      "\u001b[1mInitialization of 1 agents took 0:01:10.011399\u001b[0m\n",
      "\u001b[1mBudget left after initialization: -0.00604262 $\u001b[0m\n",
      "\u001b[1m****** Running generation 0 ******\u001b[0m\n",
      "\u001b[1mEvaluating current population of 1 agents...\u001b[0m\n",
      "100%|██████████| 1/1 [00:00<00:00, 1145.67it/s]\n",
      "\u001b[34m\u001b[1mAgent agent-c7254cbb-8de1-4c02-9c05-3cbbb8dcd67c fitness: 0.7645708662128131, cost: 0.0\u001b[0m\n",
      "\u001b[1mEvaluation took 0:00:00.005552 for a total cost of 0.0 $\u001b[0m\n"
     ]
    },
    {
     "data": {
      "text/markdown": [
       "# Agent ID: agent-c7254cbb-8de1-4c02-9c05-3cbbb8dcd67c\n",
       "## Fitness: 0.7645708662128131\n",
       "```mermaid \n",
       "graph LR\n",
       "\tStart_Node[start_node] --> Math_Problem_Parser(MathProblemParser)\n",
       "\tMath_Problem_Parser(MathProblemParser) --> Operation_Selector(OperationSelector)\n",
       "\tOperation_Selector(OperationSelector) --> Calculation_Executor(CalculationExecutor)\n",
       "\tCalculation_Executor(CalculationExecutor) --> End_Node[end_node]\n",
       " \n",
       "``` \n",
       "## Prompts:\n",
       "##### Shared context prompt\n",
       "You are part of a collaborative network designed to solve math word problems. Each node in this graph has a specific role. The StartNode initiates the process, the LLM nodes perform specialized tasks to analyze and solve the problem, and the EndNode presents the final solution. Your contributions will involve processing information, reasoning through steps, and providing feedback to ensure accurate conclusions. Focus on clarity, precision, and logical reasoning in your outputs.\n",
       "##### MathProblemParser\n",
       "You are tasked with interpreting a math word problem. Begin by identifying key components such as numbers, operations (addition, subtraction, multiplication, division), and relationships among them. Break down the problem into smaller parts, and outline the steps needed to solve it. Provide a clear description of each identified component and the overall strategy for solving the problem. If any information is ambiguous or unclear, reflect on it and suggest clarifications or assumptions that could be made. Your output will serve as a foundation for the subsequent steps in the problem-solving process.\n",
       "##### OperationSelector\n",
       "Based on the parsed information from MathProblemParser, determine which mathematical operations are required to solve the problem. Analyze the relationships between the identified numbers and decide if you need to perform addition, subtraction, multiplication, or division. Justify your choice of operations, detailing how each operation will contribute to reaching the final solution. Your output will guide the next node in executing the calculations.\n",
       "##### CalculationExecutor\n",
       "Using the operations selected by the OperationSelector, perform the calculations needed to solve the math word problem. Clearly show each step of your calculations, ensuring that all arithmetic is correct and follows the order of operations. If you encounter any discrepancies or unusual results, reflect on your calculations and verify their accuracy before proceeding. Your output will provide the numerical answer for the problem.\n",
       "\n"
      ],
      "text/plain": [
       "<IPython.core.display.Markdown object>"
      ]
     },
     "metadata": {},
     "output_type": "display_data"
    },
    {
     "name": "stderr",
     "output_type": "stream",
     "text": [
      "\u001b[34m\u001b[1mSaving current state to ../data/2025-03-04_23-36-52/generation=0\u001b[0m\n",
      "\u001b[1mStarting crossover and mutation...\u001b[0m\n"
     ]
    },
    {
     "ename": "ValueError",
     "evalue": "Sample larger than population or is negative",
     "output_type": "error",
     "traceback": [
      "\u001b[31m---------------------------------------------------------------------------\u001b[39m",
      "\u001b[31mValueError\u001b[39m                                Traceback (most recent call last)",
      "\u001b[36mCell\u001b[39m\u001b[36m \u001b[39m\u001b[32mIn[10]\u001b[39m\u001b[32m, line 27\u001b[39m\n\u001b[32m     17\u001b[39m BUDGET = \u001b[32m0.01\u001b[39m\n\u001b[32m     19\u001b[39m cycle_config = EvoForgingCylceConfig(\n\u001b[32m     20\u001b[39m     budget=BUDGET,\n\u001b[32m     21\u001b[39m     n_agents_in_population=\u001b[32m2\u001b[39m,\n\u001b[32m   (...)\u001b[39m\u001b[32m     24\u001b[39m     save_path=SAVE_PATH\n\u001b[32m     25\u001b[39m )\n\u001b[32m---> \u001b[39m\u001b[32m27\u001b[39m final_agents, final_fitness = \u001b[43masyncio\u001b[49m\u001b[43m.\u001b[49m\u001b[43mrun\u001b[49m\u001b[43m(\u001b[49m\n\u001b[32m     28\u001b[39m \u001b[43m    \u001b[49m\u001b[43mforge\u001b[49m\u001b[43m.\u001b[49m\u001b[43mrun_new_cycle\u001b[49m\u001b[43m(\u001b[49m\u001b[43mconfig\u001b[49m\u001b[43m=\u001b[49m\u001b[43mcycle_config\u001b[49m\u001b[43m)\u001b[49m\n\u001b[32m     29\u001b[39m \u001b[43m)\u001b[49m\n",
      "\u001b[36mFile \u001b[39m\u001b[32m~/dev/ebiose-core/.venv/lib/python3.12/site-packages/nest_asyncio.py:30\u001b[39m, in \u001b[36m_patch_asyncio.<locals>.run\u001b[39m\u001b[34m(main, debug)\u001b[39m\n\u001b[32m     28\u001b[39m task = asyncio.ensure_future(main)\n\u001b[32m     29\u001b[39m \u001b[38;5;28;01mtry\u001b[39;00m:\n\u001b[32m---> \u001b[39m\u001b[32m30\u001b[39m     \u001b[38;5;28;01mreturn\u001b[39;00m \u001b[43mloop\u001b[49m\u001b[43m.\u001b[49m\u001b[43mrun_until_complete\u001b[49m\u001b[43m(\u001b[49m\u001b[43mtask\u001b[49m\u001b[43m)\u001b[49m\n\u001b[32m     31\u001b[39m \u001b[38;5;28;01mfinally\u001b[39;00m:\n\u001b[32m     32\u001b[39m     \u001b[38;5;28;01mif\u001b[39;00m \u001b[38;5;129;01mnot\u001b[39;00m task.done():\n",
      "\u001b[36mFile \u001b[39m\u001b[32m~/dev/ebiose-core/.venv/lib/python3.12/site-packages/nest_asyncio.py:98\u001b[39m, in \u001b[36m_patch_loop.<locals>.run_until_complete\u001b[39m\u001b[34m(self, future)\u001b[39m\n\u001b[32m     95\u001b[39m \u001b[38;5;28;01mif\u001b[39;00m \u001b[38;5;129;01mnot\u001b[39;00m f.done():\n\u001b[32m     96\u001b[39m     \u001b[38;5;28;01mraise\u001b[39;00m \u001b[38;5;167;01mRuntimeError\u001b[39;00m(\n\u001b[32m     97\u001b[39m         \u001b[33m'\u001b[39m\u001b[33mEvent loop stopped before Future completed.\u001b[39m\u001b[33m'\u001b[39m)\n\u001b[32m---> \u001b[39m\u001b[32m98\u001b[39m \u001b[38;5;28;01mreturn\u001b[39;00m \u001b[43mf\u001b[49m\u001b[43m.\u001b[49m\u001b[43mresult\u001b[49m\u001b[43m(\u001b[49m\u001b[43m)\u001b[49m\n",
      "\u001b[36mFile \u001b[39m\u001b[32m~/.local/share/uv/python/cpython-3.12.8-macos-x86_64-none/lib/python3.12/asyncio/futures.py:202\u001b[39m, in \u001b[36mFuture.result\u001b[39m\u001b[34m(self)\u001b[39m\n\u001b[32m    200\u001b[39m \u001b[38;5;28mself\u001b[39m.__log_traceback = \u001b[38;5;28;01mFalse\u001b[39;00m\n\u001b[32m    201\u001b[39m \u001b[38;5;28;01mif\u001b[39;00m \u001b[38;5;28mself\u001b[39m._exception \u001b[38;5;129;01mis\u001b[39;00m \u001b[38;5;129;01mnot\u001b[39;00m \u001b[38;5;28;01mNone\u001b[39;00m:\n\u001b[32m--> \u001b[39m\u001b[32m202\u001b[39m     \u001b[38;5;28;01mraise\u001b[39;00m \u001b[38;5;28mself\u001b[39m._exception.with_traceback(\u001b[38;5;28mself\u001b[39m._exception_tb)\n\u001b[32m    203\u001b[39m \u001b[38;5;28;01mreturn\u001b[39;00m \u001b[38;5;28mself\u001b[39m._result\n",
      "\u001b[36mFile \u001b[39m\u001b[32m~/.local/share/uv/python/cpython-3.12.8-macos-x86_64-none/lib/python3.12/asyncio/tasks.py:314\u001b[39m, in \u001b[36mTask.__step_run_and_handle_result\u001b[39m\u001b[34m(***failed resolving arguments***)\u001b[39m\n\u001b[32m    310\u001b[39m \u001b[38;5;28;01mtry\u001b[39;00m:\n\u001b[32m    311\u001b[39m     \u001b[38;5;28;01mif\u001b[39;00m exc \u001b[38;5;129;01mis\u001b[39;00m \u001b[38;5;28;01mNone\u001b[39;00m:\n\u001b[32m    312\u001b[39m         \u001b[38;5;66;03m# We use the `send` method directly, because coroutines\u001b[39;00m\n\u001b[32m    313\u001b[39m         \u001b[38;5;66;03m# don't have `__iter__` and `__next__` methods.\u001b[39;00m\n\u001b[32m--> \u001b[39m\u001b[32m314\u001b[39m         result = \u001b[43mcoro\u001b[49m\u001b[43m.\u001b[49m\u001b[43msend\u001b[49m\u001b[43m(\u001b[49m\u001b[38;5;28;43;01mNone\u001b[39;49;00m\u001b[43m)\u001b[49m\n\u001b[32m    315\u001b[39m     \u001b[38;5;28;01melse\u001b[39;00m:\n\u001b[32m    316\u001b[39m         result = coro.throw(exc)\n",
      "\u001b[36mFile \u001b[39m\u001b[32m~/dev/ebiose-core/ebiose/core/agent_forge.py:52\u001b[39m, in \u001b[36mAgentForge.run_new_cycle\u001b[39m\u001b[34m(self, config, ecosystem)\u001b[39m\n\u001b[32m     49\u001b[39m ecosystem.add_forge(\u001b[38;5;28mself\u001b[39m)\n\u001b[32m     50\u001b[39m \u001b[38;5;66;03m# try to select agents from the ecocystem to enter the forge cycle\u001b[39;00m\n\u001b[32m     51\u001b[39m \u001b[38;5;66;03m# if not, architect agents will handle creating new agents in the forge cycle\u001b[39;00m\n\u001b[32m---> \u001b[39m\u001b[32m52\u001b[39m \u001b[38;5;28;01mreturn\u001b[39;00m \u001b[38;5;28;01mawait\u001b[39;00m cycle.execute_a_cycle(ecosystem)\n",
      "\u001b[36mFile \u001b[39m\u001b[32m~/dev/ebiose-core/ebiose/core/evo_forging_cycle.py:190\u001b[39m, in \u001b[36mEvoForgingCycle.execute_a_cycle\u001b[39m\u001b[34m(self, ecosystem)\u001b[39m\n\u001b[32m    188\u001b[39m \u001b[38;5;66;03m# running generation 0\u001b[39;00m\n\u001b[32m    189\u001b[39m generation = \u001b[32m0\u001b[39m\n\u001b[32m--> \u001b[39m\u001b[32m190\u001b[39m first_generation_cost = \u001b[38;5;28;01mawait\u001b[39;00m \u001b[38;5;28mself\u001b[39m.run_generation(generation)\n\u001b[32m    191\u001b[39m total_cycle_cost += first_generation_cost\n\u001b[32m    192\u001b[39m logger.info(\u001b[33mf\u001b[39m\u001b[33m\"\u001b[39m\u001b[33mBudget left after first generation: \u001b[39m\u001b[38;5;132;01m{\u001b[39;00m\u001b[38;5;28mself\u001b[39m.config.budget\u001b[38;5;250m \u001b[39m-\u001b[38;5;250m \u001b[39mComputeIntensiveBatchProcessor.get_master_token_cost()\u001b[38;5;132;01m}\u001b[39;00m\u001b[33m $\u001b[39m\u001b[33m\"\u001b[39m)\n",
      "\u001b[36mFile \u001b[39m\u001b[32m~/dev/ebiose-core/ebiose/core/evo_forging_cycle.py:252\u001b[39m, in \u001b[36mEvoForgingCycle.run_generation\u001b[39m\u001b[34m(self, cur_generation)\u001b[39m\n\u001b[32m    250\u001b[39m \u001b[38;5;66;03m# Tournament selection for crossover\u001b[39;00m\n\u001b[32m    251\u001b[39m logger.info(\u001b[33m\"\u001b[39m\u001b[33mStarting crossover and mutation...\u001b[39m\u001b[33m\"\u001b[39m)\n\u001b[32m--> \u001b[39m\u001b[32m252\u001b[39m selected_parent_ids_for_crossover = \u001b[38;5;28;43mself\u001b[39;49m\u001b[43m.\u001b[49m\u001b[43mtournament_selection\u001b[49m\u001b[43m(\u001b[49m\u001b[43mn_to_select\u001b[49m\u001b[43m=\u001b[49m\u001b[43mn_replaced\u001b[49m\u001b[43m)\u001b[49m\n\u001b[32m    253\u001b[39m t1 = time()\n\u001b[32m    254\u001b[39m offspring_agents, crossover_cost = \u001b[38;5;28;01mawait\u001b[39;00m \u001b[38;5;28mself\u001b[39m.crossover_and_mutate(selected_parent_ids_for_crossover)\n",
      "\u001b[36mFile \u001b[39m\u001b[32m~/dev/ebiose-core/ebiose/core/evo_forging_cycle.py:333\u001b[39m, in \u001b[36mEvoForgingCycle.tournament_selection\u001b[39m\u001b[34m(self, n_to_select)\u001b[39m\n\u001b[32m    331\u001b[39m tournament_agents = [agent]\n\u001b[32m    332\u001b[39m \u001b[38;5;66;03m# pick tournament_size agents at random, except the agent itself\u001b[39;00m\n\u001b[32m--> \u001b[39m\u001b[32m333\u001b[39m tournament_agents += \u001b[43mrandom\u001b[49m\u001b[43m.\u001b[49m\u001b[43msample\u001b[49m\u001b[43m(\u001b[49m\u001b[43magents\u001b[49m\u001b[43m[\u001b[49m\u001b[43m:\u001b[49m\u001b[43mi\u001b[49m\u001b[43m]\u001b[49m\u001b[43m \u001b[49m\u001b[43m+\u001b[49m\u001b[43m \u001b[49m\u001b[43magents\u001b[49m\u001b[43m[\u001b[49m\u001b[43mi\u001b[49m\u001b[43m+\u001b[49m\u001b[32;43m1\u001b[39;49m\u001b[43m:\u001b[49m\u001b[43m]\u001b[49m\u001b[43m,\u001b[49m\u001b[43m \u001b[49m\u001b[43mtournament_size\u001b[49m\u001b[43m-\u001b[49m\u001b[32;43m1\u001b[39;49m\u001b[43m)\u001b[49m\n\u001b[32m    334\u001b[39m tournament_fitness = [\u001b[38;5;28mself\u001b[39m.agents_fitness[agent.id] \u001b[38;5;28;01mfor\u001b[39;00m agent \u001b[38;5;129;01min\u001b[39;00m tournament_agents]\n\u001b[32m    335\u001b[39m best_agent = tournament_agents[tournament_fitness.index(\u001b[38;5;28mmax\u001b[39m(tournament_fitness))]\n",
      "\u001b[36mFile \u001b[39m\u001b[32m~/.local/share/uv/python/cpython-3.12.8-macos-x86_64-none/lib/python3.12/random.py:430\u001b[39m, in \u001b[36mRandom.sample\u001b[39m\u001b[34m(self, population, k, counts)\u001b[39m\n\u001b[32m    428\u001b[39m randbelow = \u001b[38;5;28mself\u001b[39m._randbelow\n\u001b[32m    429\u001b[39m \u001b[38;5;28;01mif\u001b[39;00m \u001b[38;5;129;01mnot\u001b[39;00m \u001b[32m0\u001b[39m <= k <= n:\n\u001b[32m--> \u001b[39m\u001b[32m430\u001b[39m     \u001b[38;5;28;01mraise\u001b[39;00m \u001b[38;5;167;01mValueError\u001b[39;00m(\u001b[33m\"\u001b[39m\u001b[33mSample larger than population or is negative\u001b[39m\u001b[33m\"\u001b[39m)\n\u001b[32m    431\u001b[39m result = [\u001b[38;5;28;01mNone\u001b[39;00m] * k\n\u001b[32m    432\u001b[39m setsize = \u001b[32m21\u001b[39m        \u001b[38;5;66;03m# size of a small set minus size of an empty list\u001b[39;00m\n",
      "\u001b[31mValueError\u001b[39m: Sample larger than population or is negative"
     ]
    }
   ],
   "source": [
    "import asyncio\n",
    "import nest_asyncio\n",
    "\n",
    "from ebiose.core.evo_forging_cycle import EvoForgingCylceConfig\n",
    "nest_asyncio.apply()\n",
    "\n",
    "from pathlib import Path\n",
    "from datetime import UTC, datetime\n",
    "\n",
    "# the path where results will be saved\n",
    "current_time = datetime.now(UTC).strftime(\"%Y-%m-%d_%H-%M-%S\")\n",
    "SAVE_PATH = Path(f\"./../data/\") / current_time\n",
    "if not SAVE_PATH.exists():\n",
    "    SAVE_PATH.mkdir(parents=True)\n",
    "\n",
    "# budget for the forge cycle, in dollars\n",
    "BUDGET = 0.01\n",
    "\n",
    "cycle_config = EvoForgingCylceConfig(\n",
    "    budget=BUDGET,\n",
    "    n_agents_in_population=2,\n",
    "    n_selected_agents_from_ecosystem=0,\n",
    "    replacement_ratio=0.5,\n",
    "    save_path=SAVE_PATH\n",
    ")\n",
    "\n",
    "final_agents, final_fitness = asyncio.run(\n",
    "    forge.run_new_cycle(config=cycle_config)\n",
    ")\n"
   ]
  },
  {
   "cell_type": "markdown",
   "metadata": {},
   "source": [
    "We can now display the best agents that have been returned as follows. Note that:\n",
    "- all agents can be found in the `SAVE_PATH` directory if you defined one;\n",
    "- here, the compute fitness only returns a random float, so the following displayed agents have not been truly evaluated. \n",
    "\n",
    "Go check [examples/math_forge/math_forge.py](./../examples/math_forge/math_forge.py) to see a fully implemeted forge with a non-random fitness evaluation function."
   ]
  },
  {
   "cell_type": "code",
   "execution_count": null,
   "metadata": {},
   "outputs": [
    {
     "data": {
      "text/markdown": [
       "# Agent ID: agent-69bee958-da80-4f75-9269-6308bb0f1935\n",
       "## Fitness: 0.7645708662128131\n",
       "```mermaid \n",
       "graph LR\n",
       "\tStart_Node[start_node] --> Llm_Node_1(Understanding the Problem)\n",
       "\tLlm_Node_1(Understanding the Problem) -->|valid interpretation| Llm_Node_2(Solving the Problem)\n",
       "\tLlm_Node_1(Understanding the Problem) -->|invalid interpretation| Llm_Node_1(Understanding the Problem)\n",
       "\tLlm_Node_2(Solving the Problem) --> End_Node[end_node]\n",
       " \n",
       "``` \n",
       "## Prompts:\n",
       "##### Shared context prompt\n",
       "You are part of a collaborative AI problem-solving network designed to tackle math word problems. Each node in this network has a specific role: The 'Understanding the Problem' node interprets the problem, identifies key components, and extracts relevant information. The 'Solving the Problem' node applies mathematical reasoning and operations to arrive at a solution. Your task is to work cohesively with the other nodes, ensuring that your outputs are clear, informative, and aligned with the overall goal of providing a solution to the given math word problem. Share insights and be open to feedback to enhance the problem-solving process.\n",
       "##### Understanding the Problem\n",
       "You are tasked with interpreting a math word problem. Begin by reading the provided problem carefully. Identify and list the key components, including any numbers, operations, and relationships between elements. Summarize the problem in your own words, highlighting the main question that needs to be answered. Ensure your interpretation is clear and comprehensive, as this will guide the next phase of problem-solving. Provide your insights and be ready to transmit this information to the next node.\n",
       "##### Solving the Problem\n",
       "You have received a summary and key components of a math word problem from the 'Understanding the Problem' node. Analyze this information and determine the necessary mathematical operations required to solve the problem. Outline the steps you will take, ensuring to explain your reasoning clearly at each stage. After computing the solution, summarize the final answer concisely, including any relevant details or assumptions made during your calculations. Your output will conclude the problem-solving process, so clarity is essential.\n",
       "\n",
       "# Agent ID: agent-caa93392-903d-46a5-8f19-09e7caf8e07c\n",
       "## Fitness: 0.573025940277384\n",
       "```mermaid \n",
       "graph LR\n",
       "\tStart_Node[start_node] --> Llm_Node_1(Understanding the Problem)\n",
       "\tLlm_Node_1(Understanding the Problem) -->|valid interpretation| Llm_Node_2(Solving the Problem)\n",
       "\tLlm_Node_1(Understanding the Problem) -->|invalid interpretation| Llm_Node_3(Feedback Loop)\n",
       "\tLlm_Node_2(Solving the Problem) --> Llm_Node_4(Final Verification)\n",
       "\tLlm_Node_3(Feedback Loop) --> Llm_Node_2(Solving the Problem)\n",
       "\tLlm_Node_4(Final Verification) --> End_Node[end_node]\n",
       " \n",
       "``` \n",
       "## Prompts:\n",
       "##### Shared context prompt\n",
       "You are part of a collaborative AI problem-solving network designed to tackle math word problems. Each node in this network has a specific role: The 'Understanding the Problem' node interprets the problem, identifies key components, and extracts relevant information. The 'Solving the Problem' node applies mathematical reasoning and operations to arrive at a solution. The 'Feedback Loop' node provides feedback for refining interpretations, while the 'Final Verification' node ensures the solution's accuracy. Your task is to work cohesively with the other nodes, ensuring that your outputs are clear, informative, and aligned with the overall goal of providing a solution to the given math word problem. Share insights and be open to feedback to enhance the problem-solving process.\n",
       "##### Understanding the Problem\n",
       "You are tasked with interpreting a math word problem. Begin by reading the provided problem carefully. Identify and list the key components, including any numbers, operations, and relationships between elements. Summarize the problem in your own words, highlighting the main question that needs to be answered. Ensure your interpretation is clear and comprehensive, as this will guide the next phase of problem-solving. Provide your insights and be ready to transmit this information to the next node.\n",
       "##### Solving the Problem\n",
       "You have received a summary and key components of a math word problem from the 'Understanding the Problem' node. Analyze this information and determine the necessary mathematical operations required to solve the problem. Outline the steps you will take, ensuring to explain your reasoning clearly at each stage. After computing the solution, summarize the final answer concisely, including any relevant details or assumptions made during your calculations. Your output will conclude the problem-solving process, so clarity is essential.\n",
       "##### Feedback Loop\n",
       "Review the interpretation provided by the 'Understanding the Problem' node. If the interpretation lacks clarity or contains inaccuracies, provide constructive feedback to help refine the interpretation. Indicate whether the interpretation is valid or needs revising, and guide the user on how to address any issues identified.\n",
       "##### Final Verification\n",
       "You have received the solution from the 'Solving the Problem' node. Verify the solution's accuracy and completeness. Confirm that all necessary steps were taken and that the final answer is reasonable within the context of the problem. If any discrepancies are found, return to the 'Solving the Problem' node with the necessary adjustments.\n",
       "\n"
      ],
      "text/plain": [
       "<IPython.core.display.Markdown object>"
      ]
     },
     "metadata": {},
     "output_type": "display_data"
    }
   ],
   "source": [
    "forge.display_results(final_agents, final_fitness)"
   ]
  }
 ],
 "metadata": {
  "kernelspec": {
   "display_name": ".venv",
   "language": "python",
   "name": "python3"
  },
  "language_info": {
   "codemirror_mode": {
    "name": "ipython",
    "version": 3
   },
   "file_extension": ".py",
   "mimetype": "text/x-python",
   "name": "python",
   "nbconvert_exporter": "python",
   "pygments_lexer": "ipython3",
   "version": "3.12.8"
  }
 },
 "nbformat": 4,
 "nbformat_minor": 2
}
