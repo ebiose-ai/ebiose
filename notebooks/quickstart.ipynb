{
 "cells": [
  {
   "cell_type": "markdown",
   "metadata": {},
   "source": [
    "# Create a forge and execute an evolution cycle\n",
    "In this notebook, we will go through the very few steps needed to run a forge cycle for a given budget. \n",
    "\n",
    "As of today, the easiest way to experiment with Ebiose is to use the OpenAI API. To do so, all you have to do is to set your OpenAI API key via an .env file or by replacing `\"your-open-api-key\"` in the following code block:"
   ]
  },
  {
   "cell_type": "code",
   "execution_count": 1,
   "metadata": {},
   "outputs": [],
   "source": [
    "import os \n",
    "from dotenv import load_dotenv\n",
    "load_dotenv()\n",
    "if \"OPENAI_API_KEY\" not in os.environ:\n",
    "    os.environ[\"OPENAI_API_KEY\"] = \"your-openai-api-key\""
   ]
  },
  {
   "cell_type": "markdown",
   "metadata": {},
   "source": [
    "> 💡 Recall that you may need to add the root of the repository to your `PYTHONPATH` environment variable. You may also use a `.env` file to do so or execute the following:\n"
   ]
  },
  {
   "cell_type": "code",
   "execution_count": 2,
   "metadata": {},
   "outputs": [],
   "source": [
    "import sys\n",
    "sys.path.append(\"./../\")\n"
   ]
  },
  {
   "cell_type": "markdown",
   "metadata": {},
   "source": [
    "## Creating a basic forge\n",
    "\n",
    "In ebiose, a **forge** is where custom agents are created to solve specific problems. The forge is the exclusive origin of new agents. Within each forge, architects agents orchestrate the creation and improvement of agents by reusing existing building blocks from the ecosystem.\n",
    "\n",
    "To create a forge and run a cycle, you must provide the following:\n",
    "- a description of the forge, which defines the problem that must be solved by generated agents;\n",
    "- the expected format of the agent's input and output, defined as Pydantic models;\n",
    "- an implementation of the `compute_fitness` abstract method that will be used by the forge to evaluate the generated agents.\n",
    "\n",
    "Let's say we wich to generate agents specialized in solving math problems. The forge description could be:"
   ]
  },
  {
   "cell_type": "code",
   "execution_count": 3,
   "metadata": {},
   "outputs": [],
   "source": [
    "forge_description = \"Solving math word problems\""
   ]
  },
  {
   "cell_type": "markdown",
   "metadata": {},
   "source": [
    "Next, we need to define the expected input and output formats of the generated agents. These formats are to be defined as Pydantic models. \n",
    "\n",
    "For instance, in our context of solving math problems, we want the agent input to be a string which will represent the math problem to be solved and the agent output to be composed of two fields:\n",
    "- `solution` which will be the final solution to the math problem, given as an integer;\n",
    "- `rationale` which will be the rationale behind the found solution.\n",
    "\n",
    "The IO Pydantic models will thus be:"
   ]
  },
  {
   "cell_type": "code",
   "execution_count": 4,
   "metadata": {},
   "outputs": [],
   "source": [
    "from pydantic import BaseModel\n",
    "\n",
    "class AgentInput(BaseModel):\n",
    "        math_problem: str\n",
    "\n",
    "class AgentOutput(BaseModel):\n",
    "    solution: int\n",
    "    rationale: str"
   ]
  },
  {
   "cell_type": "markdown",
   "metadata": {},
   "source": [
    "Lastly, we must provide a way of evaluating the generated agents through the implementation of the `compute_fitness` abstract method of `AgentForge` class. For the sake of demonstration, we will here return a random float between 0 and 1, so that we don't spend tokens at evaluation."
   ]
  },
  {
   "cell_type": "code",
   "execution_count": 5,
   "metadata": {},
   "outputs": [
    {
     "name": "stderr",
     "output_type": "stream",
     "text": [
      "/Users/xabier/dev/ebiose-core/.venv/lib/python3.12/site-packages/pydantic/_internal/_generate_schema.py:502: UserWarning: <built-in function any> is not a Python type (it may be an instance of an object), Pydantic will allow any object with no validation since we cannot even enforce that the input is an instance of the given type. To get rid of this error wrap the type with `pydantic.SkipValidation`.\n",
      "  warn(\n"
     ]
    }
   ],
   "source": [
    "import random\n",
    "random.seed(7)\n",
    "\n",
    "from ebiose.core.agent import Agent\n",
    "from ebiose.core.agent_forge import AgentForge\n",
    "\n",
    "class BasicForge(AgentForge):\n",
    "    async def compute_fitness(self, agent: Agent, compute_token_id: str, **kwargs: dict[str, any]) -> float:\n",
    "        return random.random()"
   ]
  },
  {
   "cell_type": "markdown",
   "metadata": {},
   "source": [
    "We can now instantiate the forge with the provided elements:"
   ]
  },
  {
   "cell_type": "code",
   "execution_count": 6,
   "metadata": {},
   "outputs": [],
   "source": [
    "forge = BasicForge(\n",
    "    name=\"Basic forge\",\n",
    "    description=forge_description,\n",
    "    agent_input_model=AgentInput,\n",
    "    agent_output_model=AgentOutput,\n",
    "    default_generated_agent_engine_type=\"langgraph_engine\",\n",
    "    default_model_endpoint_id=\"azure-gpt-4o-mini\"\n",
    ")"
   ]
  },
  {
   "cell_type": "markdown",
   "metadata": {},
   "source": [
    "# Running a forge cycle\n",
    "\n",
    "Once the forge is instantitated, we can start generating agents by running a **forge cycle**. \n",
    "\n",
    "We must first define a list of available LLMs. Here, we will use GPT 4o mini only. "
   ]
  },
  {
   "cell_type": "markdown",
   "metadata": {},
   "source": [
    "In Ebiose, all calls to LLMs (and, in a next future, for any other type of call that costs) are managed by the `ComputeIntensiveBatchProcessor` static class. This class must be initialized with the list of available models, as follows:"
   ]
  },
  {
   "cell_type": "code",
   "execution_count": null,
   "metadata": {},
   "outputs": [],
   "source": [
    "\n",
    "from ebiose.compute_intensive_batch_processor.compute_intensive_batch_processor import (\n",
    "    ComputeIntensiveBatchProcessor,\n",
    ")\n",
    "ComputeIntensiveBatchProcessor.initialize()"
   ]
  },
  {
   "cell_type": "markdown",
   "metadata": {},
   "source": [
    "The forge cycle is based on an evolutionary algorithm that requires two types of specialized agents: \n",
    "- **architect agents** which are agents that generate other agents from scratch;\n",
    "- **genetic operator agents** which generate agents from one or several other existing agents.\n",
    "\n",
    "For now, hand-made architect and crossover agents are provided in the `GraphUtils` class. We can load them as follows:"
   ]
  },
  {
   "cell_type": "code",
   "execution_count": 10,
   "metadata": {},
   "outputs": [],
   "source": [
    "from ebiose.core.engines.graph_engine.utils import GraphUtils\n",
    "\n",
    "architect_agent = GraphUtils.get_architect_agent(model_endpoint_id=\"azure-gpt-4o-mini\")\n",
    "crossover_agent = GraphUtils.get_crossover_agent(model_endpoint_id=\"azure-gpt-4o-mini\")"
   ]
  },
  {
   "cell_type": "markdown",
   "metadata": {},
   "source": [
    "These agents are required to instantiate an Ebiose ecosystem:"
   ]
  },
  {
   "cell_type": "code",
   "execution_count": 11,
   "metadata": {},
   "outputs": [],
   "source": [
    "from ebiose.core.ecosystem import Ecosystem\n",
    "\n",
    "ecosystem = Ecosystem(\n",
    "    initial_architect_agents=[architect_agent],\n",
    "    initial_genetic_operator_agents=[crossover_agent],\n",
    ")"
   ]
  },
  {
   "cell_type": "markdown",
   "metadata": {},
   "source": [
    "The forge cycle can now be launched by providing the created ecosystem, a budget in dollars (the forge cycle will end once this budget is exhausted) and, optionally, a path in which created agents and fitness will be saved accross generations. Note that we need to use `asyncio.run` to launch the forge cycle.\n",
    "\n",
    "> 🚨 Before executing the following cell, check the amount of budget you have allocated!\n",
    "\n",
    "> 💡 If you are using VSCode, install the [*Markdown Preview Mermaid Support* extension](https://marketplace.visualstudio.com/items?itemName=bierner.markdown-mermaid) to allow the display of the generated agent's graphs."
   ]
  },
  {
   "cell_type": "code",
   "execution_count": null,
   "metadata": {},
   "outputs": [
    {
     "name": "stderr",
     "output_type": "stream",
     "text": [
      "\u001b[1mStarting a new cycle for forge Basic forge\u001b[0m\n",
      "\u001b[1m****** Initializing agents population ******\u001b[0m\n",
      "\u001b[1mCreating 2 new agents with architect agents...\u001b[0m\n",
      "  0%|          | 0/2 [00:00<?, ?it/s]\u001b[34m\u001b[1mInitializing structured output agent for model with fields {'edges': FieldInfo(annotation=list[Edge], required=False, default_factory=list, description='list of edges in the graph'), 'nodes': FieldInfo(annotation=list[Union[StartNode, EndNode, LLMNode, PydanticValidatorNode, RegexRoutingNode]], required=False, default_factory=list, description='list of nodes in the graph'), 'description': FieldInfo(annotation=str, required=False, default=''), 'shared_context_prompt': FieldInfo(annotation=str, required=True, metadata=[MinLen(min_length=1)])} (1)\u001b[0m\n",
      "100%|██████████| 2/2 [00:36<00:00, 18.10s/it]\n",
      "\u001b[34m\u001b[1mAgent initialization cost: 0.007469220000000001\u001b[0m\n",
      "\u001b[1mPopulation initialized with 2 agents\u001b[0m\n",
      "\u001b[1mInitialization of 2 agents took 0:00:36.235720\u001b[0m\n",
      "\u001b[1mBudget left after initialization: 0.012530779999999998 $\u001b[0m\n",
      "\u001b[1m****** Running generation 0 ******\u001b[0m\n",
      "\u001b[1mEvaluating current population of 2 agents...\u001b[0m\n",
      "100%|██████████| 2/2 [00:00<00:00, 1485.76it/s]\n",
      "\u001b[34m\u001b[1mAgent agent-f337b468-86d6-4612-9540-2da9f3de9ca7 fitness: 0.7798296305842437, cost: 0.0\u001b[0m\n",
      "\u001b[34m\u001b[1mAgent agent-cb344596-6e33-49f4-9f08-476ced3dbcea fitness: 0.08185501079576984, cost: 0.0\u001b[0m\n",
      "\u001b[1mEvaluation took 0:00:00.010860 for a total cost of 0.0 $\u001b[0m\n"
     ]
    },
    {
     "data": {
      "text/markdown": [
       "# Agent ID: agent-f337b468-86d6-4612-9540-2da9f3de9ca7\n",
       "## Fitness: 0.7798296305842437\n",
       "```mermaid \n",
       "graph LR\n",
       "\tStart_Node[start_node] --> Math_Problem_Solver(Math Problem Solver)\n",
       "\tMath_Problem_Solver(Math Problem Solver) --> Equation_Formulator(Equation Formulator)\n",
       "\tEquation_Formulator(Equation Formulator) --> Problem_Solver(Problem Solver)\n",
       "\tProblem_Solver(Problem Solver) --> Solution_Verifier(Solution Verifier)\n",
       "\tSolution_Verifier(Solution Verifier) --> Alternative_Methods_Explorer(Alternative Methods Explorer)\n",
       "\tAlternative_Methods_Explorer(Alternative Methods Explorer) --> Contextual_Reflection(Contextual Reflection)\n",
       "\tContextual_Reflection(Contextual Reflection) --> Feedback_Generator(Feedback Generator)\n",
       "\tFeedback_Generator(Feedback Generator) --> Summary_Creator(Summary Creator)\n",
       "\tSummary_Creator(Summary Creator) --> Knowledge_Integrator(Knowledge Integrator)\n",
       "\tKnowledge_Integrator(Knowledge Integrator) --> Final_Output_Formatter(Final Output Formatter)\n",
       "\tFinal_Output_Formatter(Final Output Formatter) --> End_Node[end_node]\n",
       " \n",
       "``` \n",
       "## Prompts:\n",
       "##### Shared context prompt\n",
       "Welcome to the collaborative math problem-solving network. This graph consists of multiple nodes, each representing a distinct stage in the problem-solving process.\n",
       "##### Math Problem Solver\n",
       "Analyze the following math word problem and identify the key components (numbers, operations, etc.): {problem_statement}\n",
       "##### Equation Formulator\n",
       "Based on the analysis from the Math Problem Solver, your role is to formulate an equation that accurately represents the problem identified. Ensure that the equation includes all relevant variables and constants derived from the previous node’s output.\n",
       "##### Problem Solver\n",
       "With the equation formulated, your task is to solve it. Apply appropriate mathematical techniques to find the solution, including algebraic manipulation or numerical methods as necessary.\n",
       "##### Solution Verifier\n",
       "Your responsibility is to evaluate the solution derived by the Problem Solver. Check for accuracy by substituting the solution back into the original equation.\n",
       "##### Alternative Methods Explorer\n",
       "Consider alternative methods that could be employed to solve the original problem. Discuss different strategies that could yield the same result.\n",
       "##### Contextual Reflection\n",
       "Reflect on the entire problem-solving process, including the strategies used, the effectiveness of the solutions obtained, and the communication between nodes.\n",
       "##### Feedback Generator\n",
       "Generate constructive feedback based on the evaluations provided by both the Solution Verifier and the Contextual Reflection nodes.\n",
       "##### Summary Creator\n",
       "Create a comprehensive summary of the entire problem-solving process. Include the original math word problem, the key findings from each node, the solution derived, and the feedback gathered.\n",
       "##### Knowledge Integrator\n",
       "Integrate knowledge and techniques from previous nodes to suggest additional resources or strategies that could assist in similar problem-solving scenarios.\n",
       "##### Final Output Formatter\n",
       "Your role is to format the final output of the problem-solving process for presentation.\n",
       "\n",
       "# Agent ID: agent-cb344596-6e33-49f4-9f08-476ced3dbcea\n",
       "## Fitness: 0.08185501079576984\n",
       "```mermaid \n",
       "graph LR\n",
       "\tStart_Node[StartNode] --> Problemunderstanding(ProblemUnderstanding)\n",
       "\tProblemunderstanding(ProblemUnderstanding) --> Problemsolving(ProblemSolving)\n",
       "\tProblemsolving(ProblemSolving) --> End_Node[EndNode]\n",
       " \n",
       "``` \n",
       "## Prompts:\n",
       "##### Shared context prompt\n",
       "You are part of a collaborative network designed to solve math word problems. Each of you plays a specific role in this problem-solving process. The flow of interaction begins with understanding the problem, followed by calculating the solution, and finally concluding with the output. Your task is to communicate effectively with other nodes, ensure clarity of thought, and utilize chain-of-thought reasoning, self-reflection, and evaluative feedback mechanisms in your responses.\n",
       "##### ProblemUnderstanding\n",
       "You are tasked with understanding a math word problem. Carefully analyze the text of the problem and identify the key variables, operations, and relationships involved. Break down the problem into its essential components and articulate the understanding in a clear and concise manner. If there are ambiguities or multiple interpretations, reflect on these and provide a brief analysis of each. Finally, convey your understanding to the next node, ensuring all necessary details are included for the subsequent steps.\n",
       "##### ProblemSolving\n",
       "You have received an interpretation of a math word problem from the previous node. Based on this understanding, apply appropriate mathematical techniques to derive a solution. Clearly outline the steps taken in your calculations, including any assumptions made during the process. If applicable, reflect on the accuracy of your approach and consider alternative methods that could lead to the same or a different solution. Present your final answer in a clear format, ensuring that all relevant information is communicated to the EndNode.\n",
       "\n"
      ],
      "text/plain": [
       "<IPython.core.display.Markdown object>"
      ]
     },
     "metadata": {},
     "output_type": "display_data"
    },
    {
     "name": "stderr",
     "output_type": "stream",
     "text": [
      "\u001b[34m\u001b[1mSaving current state to ../data/2025-03-04_18-51-10/generation=0\u001b[0m\n",
      "\u001b[1mStarting crossover and mutation...\u001b[0m\n",
      "\u001b[34m\u001b[1mInitializing structured output agent for model with fields {'edges': FieldInfo(annotation=list[Edge], required=False, default_factory=list, description='list of edges in the graph'), 'nodes': FieldInfo(annotation=list[Union[StartNode, EndNode, LLMNode, PydanticValidatorNode, RegexRoutingNode]], required=False, default_factory=list, description='list of nodes in the graph'), 'description': FieldInfo(annotation=str, required=False, default=''), 'shared_context_prompt': FieldInfo(annotation=str, required=True, metadata=[MinLen(min_length=1)])} (2)\u001b[0m\n",
      "\u001b[34m\u001b[1mNumber of offsprings: 1/1\u001b[0m\n",
      "\u001b[1mCrossover and mutation completed in 0:00:27.616214 for a total cost of 0.0028053300000000004 $\u001b[0m\n",
      "\u001b[1mGeneration 0 completed in 0:00:27.669116 with a total cost of 0.0028053300000000004 $\u001b[0m\n",
      "\u001b[1mBudget left after first generation: 0.00972545 $\u001b[0m\n",
      "\u001b[1m****** Running generation 1 ******\u001b[0m\n",
      "\u001b[1mEvaluating current population of 2 agents...\u001b[0m\n",
      "100%|██████████| 2/2 [00:00<00:00, 533.36it/s]\n",
      "\u001b[34m\u001b[1mAgent agent-f337b468-86d6-4612-9540-2da9f3de9ca7 fitness: 0.5580757526533747, cost: 0.0\u001b[0m\n",
      "\u001b[34m\u001b[1mAgent agent-758a6124-56c7-476c-a4dd-e4b411a1f525 fitness: 0.7890941714903549, cost: 0.0\u001b[0m\n",
      "\u001b[1mEvaluation took 0:00:00.008646 for a total cost of 0.0 $\u001b[0m\n"
     ]
    },
    {
     "data": {
      "text/markdown": [
       "# Agent ID: agent-758a6124-56c7-476c-a4dd-e4b411a1f525\n",
       "## Fitness: 0.7890941714903549\n",
       "```mermaid \n",
       "graph LR\n",
       "\tStart_Node[start_node] --> Math_Problem_Solver(Math Problem Solver)\n",
       "\tMath_Problem_Solver(Math Problem Solver) --> Equation_Formulator(Equation Formulator)\n",
       "\tEquation_Formulator(Equation Formulator) --> Problem_Solver(Problem Solver)\n",
       "\tProblem_Solver(Problem Solver) --> Solution_Verifier(Solution Verifier)\n",
       "\tSolution_Verifier(Solution Verifier) --> Alternative_Methods_Explorer(Alternative Methods Explorer)\n",
       "\tAlternative_Methods_Explorer(Alternative Methods Explorer) --> Contextual_Reflection(Contextual Reflection)\n",
       "\tContextual_Reflection(Contextual Reflection) --> Feedback_Generator(Feedback Generator)\n",
       "\tFeedback_Generator(Feedback Generator) --> Summary_Creator(Summary Creator)\n",
       "\tSummary_Creator(Summary Creator) --> Knowledge_Integrator(Knowledge Integrator)\n",
       "\tKnowledge_Integrator(Knowledge Integrator) --> Final_Output_Formatter(Final Output Formatter)\n",
       "\tFinal_Output_Formatter(Final Output Formatter) --> End_Node[end_node]\n",
       " \n",
       "``` \n",
       "## Prompts:\n",
       "##### Shared context prompt\n",
       "Welcome to the collaborative math problem-solving network. This graph consists of multiple nodes, each representing a distinct stage in the problem-solving process.\n",
       "##### Math Problem Solver\n",
       "Analyze the following math word problem and identify the key components (numbers, operations, etc.): {problem_statement}\n",
       "##### Equation Formulator\n",
       "Based on the analysis from the Math Problem Solver, your role is to formulate an equation that accurately represents the problem identified. Include alternative formulations if applicable.\n",
       "##### Problem Solver\n",
       "With the equation formulated, your task is to solve it. Apply appropriate mathematical techniques, including algebraic manipulation, numerical methods, or graphical representation as necessary.\n",
       "##### Solution Verifier\n",
       "Your responsibility is to evaluate the solution derived by the Problem Solver. Check for accuracy by substituting the solution back into the original equation and validate with alternative methods.\n",
       "##### Alternative Methods Explorer\n",
       "Consider alternative methods that could be employed to solve the original problem. Discuss different strategies that could yield the same result and their potential advantages.\n",
       "##### Contextual Reflection\n",
       "Reflect on the entire problem-solving process, including the strategies used, the effectiveness of the solutions obtained, and the communication between nodes. Suggest improvements for future problem-solving scenarios.\n",
       "##### Feedback Generator\n",
       "Generate constructive feedback based on the evaluations provided by both the Solution Verifier and the Contextual Reflection nodes. Identify areas for improvement.\n",
       "##### Summary Creator\n",
       "Create a comprehensive summary of the entire problem-solving process. Include the original math word problem, the key findings from each node, the solution derived, and the feedback gathered.\n",
       "##### Knowledge Integrator\n",
       "Integrate knowledge and techniques from previous nodes to suggest additional resources or strategies that could assist in similar problem-solving scenarios.\n",
       "##### Final Output Formatter\n",
       "Your role is to format the final output of the problem-solving process for presentation.\n",
       "\n",
       "# Agent ID: agent-f337b468-86d6-4612-9540-2da9f3de9ca7\n",
       "## Fitness: 0.5580757526533747\n",
       "```mermaid \n",
       "graph LR\n",
       "\tStart_Node[start_node] --> Math_Problem_Solver(Math Problem Solver)\n",
       "\tMath_Problem_Solver(Math Problem Solver) --> Equation_Formulator(Equation Formulator)\n",
       "\tEquation_Formulator(Equation Formulator) --> Problem_Solver(Problem Solver)\n",
       "\tProblem_Solver(Problem Solver) --> Solution_Verifier(Solution Verifier)\n",
       "\tSolution_Verifier(Solution Verifier) --> Alternative_Methods_Explorer(Alternative Methods Explorer)\n",
       "\tAlternative_Methods_Explorer(Alternative Methods Explorer) --> Contextual_Reflection(Contextual Reflection)\n",
       "\tContextual_Reflection(Contextual Reflection) --> Feedback_Generator(Feedback Generator)\n",
       "\tFeedback_Generator(Feedback Generator) --> Summary_Creator(Summary Creator)\n",
       "\tSummary_Creator(Summary Creator) --> Knowledge_Integrator(Knowledge Integrator)\n",
       "\tKnowledge_Integrator(Knowledge Integrator) --> Final_Output_Formatter(Final Output Formatter)\n",
       "\tFinal_Output_Formatter(Final Output Formatter) --> End_Node[end_node]\n",
       " \n",
       "``` \n",
       "## Prompts:\n",
       "##### Shared context prompt\n",
       "Welcome to the collaborative math problem-solving network. This graph consists of multiple nodes, each representing a distinct stage in the problem-solving process.\n",
       "##### Math Problem Solver\n",
       "Analyze the following math word problem and identify the key components (numbers, operations, etc.): {problem_statement}\n",
       "##### Equation Formulator\n",
       "Based on the analysis from the Math Problem Solver, your role is to formulate an equation that accurately represents the problem identified. Ensure that the equation includes all relevant variables and constants derived from the previous node’s output.\n",
       "##### Problem Solver\n",
       "With the equation formulated, your task is to solve it. Apply appropriate mathematical techniques to find the solution, including algebraic manipulation or numerical methods as necessary.\n",
       "##### Solution Verifier\n",
       "Your responsibility is to evaluate the solution derived by the Problem Solver. Check for accuracy by substituting the solution back into the original equation.\n",
       "##### Alternative Methods Explorer\n",
       "Consider alternative methods that could be employed to solve the original problem. Discuss different strategies that could yield the same result.\n",
       "##### Contextual Reflection\n",
       "Reflect on the entire problem-solving process, including the strategies used, the effectiveness of the solutions obtained, and the communication between nodes.\n",
       "##### Feedback Generator\n",
       "Generate constructive feedback based on the evaluations provided by both the Solution Verifier and the Contextual Reflection nodes.\n",
       "##### Summary Creator\n",
       "Create a comprehensive summary of the entire problem-solving process. Include the original math word problem, the key findings from each node, the solution derived, and the feedback gathered.\n",
       "##### Knowledge Integrator\n",
       "Integrate knowledge and techniques from previous nodes to suggest additional resources or strategies that could assist in similar problem-solving scenarios.\n",
       "##### Final Output Formatter\n",
       "Your role is to format the final output of the problem-solving process for presentation.\n",
       "\n"
      ],
      "text/plain": [
       "<IPython.core.display.Markdown object>"
      ]
     },
     "metadata": {},
     "output_type": "display_data"
    },
    {
     "name": "stderr",
     "output_type": "stream",
     "text": [
      "\u001b[34m\u001b[1mSaving current state to ../data/2025-03-04_18-51-10/generation=1\u001b[0m\n",
      "\u001b[1mStarting crossover and mutation...\u001b[0m\n",
      "\u001b[34m\u001b[1mNumber of offsprings: 1/1\u001b[0m\n",
      "\u001b[1mCrossover and mutation completed in 0:00:28.646283 for a total cost of 0.002836845 $\u001b[0m\n",
      "\u001b[1mGeneration 1 completed in 0:00:28.668077 with a total cost of 0.002836845 $\u001b[0m\n",
      "\u001b[1mBudget left after new generation: 0.006888604999999999 $\u001b[0m\n",
      "\u001b[1m****** Running generation 2 ******\u001b[0m\n",
      "\u001b[1mEvaluating current population of 2 agents...\u001b[0m\n",
      "100%|██████████| 2/2 [00:00<00:00, 2840.71it/s]\n",
      "\u001b[34m\u001b[1mAgent agent-758a6124-56c7-476c-a4dd-e4b411a1f525 fitness: 0.4456407672509217, cost: 0.0\u001b[0m\n",
      "\u001b[34m\u001b[1mAgent agent-6802069f-577f-4d2e-b539-b3de3f59d36e fitness: 0.7166277943983036, cost: 0.0\u001b[0m\n",
      "\u001b[1mEvaluation took 0:00:00.003577 for a total cost of 0.0 $\u001b[0m\n"
     ]
    },
    {
     "data": {
      "text/markdown": [
       "# Agent ID: agent-6802069f-577f-4d2e-b539-b3de3f59d36e\n",
       "## Fitness: 0.7166277943983036\n",
       "```mermaid \n",
       "graph LR\n",
       "\tStart_Node[start_node] --> Math_Problem_Solver(Math Problem Solver)\n",
       "\tMath_Problem_Solver(Math Problem Solver) --> Equation_Formulator(Equation Formulator)\n",
       "\tEquation_Formulator(Equation Formulator) --> Problem_Solver(Problem Solver)\n",
       "\tProblem_Solver(Problem Solver) --> Solution_Verifier(Solution Verifier)\n",
       "\tSolution_Verifier(Solution Verifier) --> Alternative_Methods_Explorer(Alternative Methods Explorer)\n",
       "\tAlternative_Methods_Explorer(Alternative Methods Explorer) --> Contextual_Reflection(Contextual Reflection)\n",
       "\tContextual_Reflection(Contextual Reflection) --> Feedback_Generator(Feedback Generator)\n",
       "\tFeedback_Generator(Feedback Generator) --> Summary_Creator(Summary Creator)\n",
       "\tSummary_Creator(Summary Creator) --> Knowledge_Integrator(Knowledge Integrator)\n",
       "\tKnowledge_Integrator(Knowledge Integrator) --> Final_Output_Formatter(Final Output Formatter)\n",
       "\tFinal_Output_Formatter(Final Output Formatter) --> End_Node[end_node]\n",
       " \n",
       "``` \n",
       "## Prompts:\n",
       "##### Shared context prompt\n",
       "Welcome to the collaborative math problem-solving network. This graph consists of multiple nodes, each representing a distinct stage in the problem-solving process.\n",
       "##### Math Problem Solver\n",
       "Analyze the following math word problem and identify the key components (numbers, operations, etc.): {problem_statement}\n",
       "##### Equation Formulator\n",
       "Based on the analysis from the Math Problem Solver, your role is to formulate an equation that accurately represents the problem identified. Include alternative formulations if applicable.\n",
       "##### Problem Solver\n",
       "With the equation formulated, your task is to solve it. Apply appropriate mathematical techniques, including algebraic manipulation, numerical methods, or graphical representation as necessary.\n",
       "##### Solution Verifier\n",
       "Your responsibility is to evaluate the solution derived by the Problem Solver. Check for accuracy by substituting the solution back into the original equation and validate with alternative methods.\n",
       "##### Alternative Methods Explorer\n",
       "Consider alternative methods that could be employed to solve the original problem. Discuss different strategies that could yield the same result and their potential advantages.\n",
       "##### Contextual Reflection\n",
       "Reflect on the entire problem-solving process, including the strategies used, the effectiveness of the solutions obtained, and the communication between nodes. Suggest improvements for future problem-solving scenarios.\n",
       "##### Feedback Generator\n",
       "Generate constructive feedback based on the evaluations provided by both the Solution Verifier and the Contextual Reflection nodes. Identify areas for improvement.\n",
       "##### Summary Creator\n",
       "Create a comprehensive summary of the entire problem-solving process. Include the original math word problem, the key findings from each node, the solution derived, and the feedback gathered.\n",
       "##### Knowledge Integrator\n",
       "Integrate knowledge and techniques from previous nodes to suggest additional resources or strategies that could assist in similar problem-solving scenarios.\n",
       "##### Final Output Formatter\n",
       "Your role is to format the final output of the problem-solving process for presentation.\n",
       "\n",
       "# Agent ID: agent-758a6124-56c7-476c-a4dd-e4b411a1f525\n",
       "## Fitness: 0.4456407672509217\n",
       "```mermaid \n",
       "graph LR\n",
       "\tStart_Node[start_node] --> Math_Problem_Solver(Math Problem Solver)\n",
       "\tMath_Problem_Solver(Math Problem Solver) --> Equation_Formulator(Equation Formulator)\n",
       "\tEquation_Formulator(Equation Formulator) --> Problem_Solver(Problem Solver)\n",
       "\tProblem_Solver(Problem Solver) --> Solution_Verifier(Solution Verifier)\n",
       "\tSolution_Verifier(Solution Verifier) --> Alternative_Methods_Explorer(Alternative Methods Explorer)\n",
       "\tAlternative_Methods_Explorer(Alternative Methods Explorer) --> Contextual_Reflection(Contextual Reflection)\n",
       "\tContextual_Reflection(Contextual Reflection) --> Feedback_Generator(Feedback Generator)\n",
       "\tFeedback_Generator(Feedback Generator) --> Summary_Creator(Summary Creator)\n",
       "\tSummary_Creator(Summary Creator) --> Knowledge_Integrator(Knowledge Integrator)\n",
       "\tKnowledge_Integrator(Knowledge Integrator) --> Final_Output_Formatter(Final Output Formatter)\n",
       "\tFinal_Output_Formatter(Final Output Formatter) --> End_Node[end_node]\n",
       " \n",
       "``` \n",
       "## Prompts:\n",
       "##### Shared context prompt\n",
       "Welcome to the collaborative math problem-solving network. This graph consists of multiple nodes, each representing a distinct stage in the problem-solving process.\n",
       "##### Math Problem Solver\n",
       "Analyze the following math word problem and identify the key components (numbers, operations, etc.): {problem_statement}\n",
       "##### Equation Formulator\n",
       "Based on the analysis from the Math Problem Solver, your role is to formulate an equation that accurately represents the problem identified. Include alternative formulations if applicable.\n",
       "##### Problem Solver\n",
       "With the equation formulated, your task is to solve it. Apply appropriate mathematical techniques, including algebraic manipulation, numerical methods, or graphical representation as necessary.\n",
       "##### Solution Verifier\n",
       "Your responsibility is to evaluate the solution derived by the Problem Solver. Check for accuracy by substituting the solution back into the original equation and validate with alternative methods.\n",
       "##### Alternative Methods Explorer\n",
       "Consider alternative methods that could be employed to solve the original problem. Discuss different strategies that could yield the same result and their potential advantages.\n",
       "##### Contextual Reflection\n",
       "Reflect on the entire problem-solving process, including the strategies used, the effectiveness of the solutions obtained, and the communication between nodes. Suggest improvements for future problem-solving scenarios.\n",
       "##### Feedback Generator\n",
       "Generate constructive feedback based on the evaluations provided by both the Solution Verifier and the Contextual Reflection nodes. Identify areas for improvement.\n",
       "##### Summary Creator\n",
       "Create a comprehensive summary of the entire problem-solving process. Include the original math word problem, the key findings from each node, the solution derived, and the feedback gathered.\n",
       "##### Knowledge Integrator\n",
       "Integrate knowledge and techniques from previous nodes to suggest additional resources or strategies that could assist in similar problem-solving scenarios.\n",
       "##### Final Output Formatter\n",
       "Your role is to format the final output of the problem-solving process for presentation.\n",
       "\n"
      ],
      "text/plain": [
       "<IPython.core.display.Markdown object>"
      ]
     },
     "metadata": {},
     "output_type": "display_data"
    },
    {
     "name": "stderr",
     "output_type": "stream",
     "text": [
      "\u001b[34m\u001b[1mSaving current state to ../data/2025-03-04_18-51-10/generation=2\u001b[0m\n",
      "\u001b[1mStarting crossover and mutation...\u001b[0m\n",
      "\u001b[34m\u001b[1mNumber of offsprings: 1/1\u001b[0m\n",
      "\u001b[1mCrossover and mutation completed in 0:00:21.560459 for a total cost of 0.0028281 $\u001b[0m\n",
      "\u001b[1mGeneration 2 completed in 0:00:21.571426 with a total cost of 0.0028281 $\u001b[0m\n",
      "\u001b[1mBudget left after new generation: 0.004060504999999999 $\u001b[0m\n",
      "\u001b[1m****** Running generation 3 ******\u001b[0m\n",
      "\u001b[1mEvaluating current population of 2 agents...\u001b[0m\n",
      "100%|██████████| 2/2 [00:00<00:00, 3675.99it/s]\n",
      "\u001b[34m\u001b[1mAgent agent-6802069f-577f-4d2e-b539-b3de3f59d36e fitness: 0.44918740094933096, cost: 0.0\u001b[0m\n",
      "\u001b[34m\u001b[1mAgent agent-d384aba8-f8ab-4421-bdf0-2df377fb326a fitness: 0.5494399091440374, cost: 0.0\u001b[0m\n",
      "\u001b[1mEvaluation took 0:00:00.003385 for a total cost of 0.0 $\u001b[0m\n"
     ]
    },
    {
     "data": {
      "text/markdown": [
       "# Agent ID: agent-d384aba8-f8ab-4421-bdf0-2df377fb326a\n",
       "## Fitness: 0.5494399091440374\n",
       "```mermaid \n",
       "graph LR\n",
       "\tStart_Node[start_node] --> Math_Problem_Solver(Math Problem Solver)\n",
       "\tMath_Problem_Solver(Math Problem Solver) --> Equation_Formulator(Equation Formulator)\n",
       "\tEquation_Formulator(Equation Formulator) --> Problem_Solver(Enhanced Problem Solver)\n",
       "\tProblem_Solver(Enhanced Problem Solver) --> Solution_Verifier(Solution Verifier)\n",
       "\tSolution_Verifier(Solution Verifier) --> Alternative_Methods_Explorer(Alternative Methods Explorer)\n",
       "\tAlternative_Methods_Explorer(Alternative Methods Explorer) --> Contextual_Reflection(Contextual Reflection)\n",
       "\tContextual_Reflection(Contextual Reflection) --> Feedback_Generator(Feedback Generator)\n",
       "\tFeedback_Generator(Feedback Generator) --> Summary_Creator(Summary Creator)\n",
       "\tSummary_Creator(Summary Creator) --> Knowledge_Integrator(Knowledge Integrator)\n",
       "\tKnowledge_Integrator(Knowledge Integrator) --> Final_Output_Formatter(Final Output Formatter)\n",
       "\tFinal_Output_Formatter(Final Output Formatter) --> End_Node[end_node]\n",
       " \n",
       "``` \n",
       "## Prompts:\n",
       "##### Shared context prompt\n",
       "Welcome to the collaborative math problem-solving network. This graph consists of multiple nodes, each representing a distinct stage in the problem-solving process.\n",
       "##### Math Problem Solver\n",
       "Analyze the following math word problem and identify the key components (numbers, operations, etc.): {problem_statement}\n",
       "##### Equation Formulator\n",
       "Based on the analysis from the Math Problem Solver, your role is to formulate an equation that accurately represents the problem identified. Include alternative formulations if applicable.\n",
       "##### Enhanced Problem Solver\n",
       "With the equation formulated, your task is to solve it. Apply appropriate mathematical techniques, including algebraic manipulation, numerical methods, or graphical representation as necessary. Provide detailed steps.\n",
       "##### Solution Verifier\n",
       "Your responsibility is to evaluate the solution derived by the Problem Solver. Check for accuracy by substituting the solution back into the original equation and validate with alternative methods.\n",
       "##### Alternative Methods Explorer\n",
       "Consider alternative methods that could be employed to solve the original problem. Discuss different strategies that could yield the same result and their potential advantages.\n",
       "##### Contextual Reflection\n",
       "Reflect on the entire problem-solving process, including the strategies used, the effectiveness of the solutions obtained, and the communication between nodes. Suggest improvements for future problem-solving scenarios.\n",
       "##### Feedback Generator\n",
       "Generate constructive feedback based on the evaluations provided by both the Solution Verifier and the Contextual Reflection nodes. Identify areas for improvement.\n",
       "##### Summary Creator\n",
       "Create a comprehensive summary of the entire problem-solving process. Include the original math word problem, the key findings from each node, the solution derived, and the feedback gathered.\n",
       "##### Knowledge Integrator\n",
       "Integrate knowledge and techniques from previous nodes to suggest additional resources or strategies that could assist in similar problem-solving scenarios.\n",
       "##### Final Output Formatter\n",
       "Your role is to format the final output of the problem-solving process for presentation.\n",
       "\n",
       "# Agent ID: agent-6802069f-577f-4d2e-b539-b3de3f59d36e\n",
       "## Fitness: 0.44918740094933096\n",
       "```mermaid \n",
       "graph LR\n",
       "\tStart_Node[start_node] --> Math_Problem_Solver(Math Problem Solver)\n",
       "\tMath_Problem_Solver(Math Problem Solver) --> Equation_Formulator(Equation Formulator)\n",
       "\tEquation_Formulator(Equation Formulator) --> Problem_Solver(Problem Solver)\n",
       "\tProblem_Solver(Problem Solver) --> Solution_Verifier(Solution Verifier)\n",
       "\tSolution_Verifier(Solution Verifier) --> Alternative_Methods_Explorer(Alternative Methods Explorer)\n",
       "\tAlternative_Methods_Explorer(Alternative Methods Explorer) --> Contextual_Reflection(Contextual Reflection)\n",
       "\tContextual_Reflection(Contextual Reflection) --> Feedback_Generator(Feedback Generator)\n",
       "\tFeedback_Generator(Feedback Generator) --> Summary_Creator(Summary Creator)\n",
       "\tSummary_Creator(Summary Creator) --> Knowledge_Integrator(Knowledge Integrator)\n",
       "\tKnowledge_Integrator(Knowledge Integrator) --> Final_Output_Formatter(Final Output Formatter)\n",
       "\tFinal_Output_Formatter(Final Output Formatter) --> End_Node[end_node]\n",
       " \n",
       "``` \n",
       "## Prompts:\n",
       "##### Shared context prompt\n",
       "Welcome to the collaborative math problem-solving network. This graph consists of multiple nodes, each representing a distinct stage in the problem-solving process.\n",
       "##### Math Problem Solver\n",
       "Analyze the following math word problem and identify the key components (numbers, operations, etc.): {problem_statement}\n",
       "##### Equation Formulator\n",
       "Based on the analysis from the Math Problem Solver, your role is to formulate an equation that accurately represents the problem identified. Include alternative formulations if applicable.\n",
       "##### Problem Solver\n",
       "With the equation formulated, your task is to solve it. Apply appropriate mathematical techniques, including algebraic manipulation, numerical methods, or graphical representation as necessary.\n",
       "##### Solution Verifier\n",
       "Your responsibility is to evaluate the solution derived by the Problem Solver. Check for accuracy by substituting the solution back into the original equation and validate with alternative methods.\n",
       "##### Alternative Methods Explorer\n",
       "Consider alternative methods that could be employed to solve the original problem. Discuss different strategies that could yield the same result and their potential advantages.\n",
       "##### Contextual Reflection\n",
       "Reflect on the entire problem-solving process, including the strategies used, the effectiveness of the solutions obtained, and the communication between nodes. Suggest improvements for future problem-solving scenarios.\n",
       "##### Feedback Generator\n",
       "Generate constructive feedback based on the evaluations provided by both the Solution Verifier and the Contextual Reflection nodes. Identify areas for improvement.\n",
       "##### Summary Creator\n",
       "Create a comprehensive summary of the entire problem-solving process. Include the original math word problem, the key findings from each node, the solution derived, and the feedback gathered.\n",
       "##### Knowledge Integrator\n",
       "Integrate knowledge and techniques from previous nodes to suggest additional resources or strategies that could assist in similar problem-solving scenarios.\n",
       "##### Final Output Formatter\n",
       "Your role is to format the final output of the problem-solving process for presentation.\n",
       "\n"
      ],
      "text/plain": [
       "<IPython.core.display.Markdown object>"
      ]
     },
     "metadata": {},
     "output_type": "display_data"
    },
    {
     "name": "stderr",
     "output_type": "stream",
     "text": [
      "\u001b[34m\u001b[1mSaving current state to ../data/2025-03-04_18-51-10/generation=3\u001b[0m\n",
      "\u001b[1mStarting crossover and mutation...\u001b[0m\n",
      "\u001b[1mBudgetExceededError: Master budget limit exceeded. Limit: 0.02, New total: 0.020730105. Finishing process.\u001b[0m\n",
      "\u001b[34m\u001b[1mError when calling azure-gpt-4o-mini: Master budget limit exceeded. Limit: 0.02, New total: 0.020730105\u001b[0m\n",
      "\u001b[1mBudgetExceededError: Master budget limit exceeded. Limit: 0.02, New total: 0.022508145. Finishing process.\u001b[0m\n",
      "\u001b[34m\u001b[1mError when calling azure-gpt-4o-mini: Master budget limit exceeded. Limit: 0.02, New total: 0.022508145\u001b[0m\n",
      "\u001b[1mBudgetExceededError: Master budget limit exceeded. Limit: 0.02, New total: 0.02429196. Finishing process.\u001b[0m\n",
      "\u001b[34m\u001b[1mError when calling azure-gpt-4o-mini: Master budget limit exceeded. Limit: 0.02, New total: 0.02429196\u001b[0m\n",
      "\u001b[31m\u001b[1mError while running agent agent-127fa11b-4d18-420d-b8cd-bdcd2dc8b9af: Recursion limit of 7 reached without hitting a stop condition. You can increase the limit by setting the `recursion_limit` config key.\n",
      "For troubleshooting, visit: https://python.langchain.com/docs/troubleshooting/errors/GRAPH_RECURSION_LIMIT\u001b[0m\n",
      "\u001b[34m\u001b[1mCrossover agent failed creating a valid agent: 'NoneType' object has no attribute 'description'\u001b[0m\n",
      "\u001b[31m\u001b[1mError while generating offspring from ['agent-d384aba8-f8ab-4421-bdf0-2df377fb326a', 'agent-d384aba8-f8ab-4421-bdf0-2df377fb326a']. Falling back to architect agent.\u001b[0m\n",
      "\u001b[34m\u001b[1mNumber of offsprings: 1/1\u001b[0m\n",
      "\u001b[1mCrossover and mutation completed in 0:00:56.066388 for a total cost of 0.008352465 $\u001b[0m\n",
      "\u001b[34m\u001b[1mError while adding an agent: 'AttributeError' object has no attribute 'id', 'NoneType' object has no attribute 'agent_engine'\u001b[0m\n",
      "\u001b[1mGeneration 3 completed in 0:00:56.077377 with a total cost of 0.008352465 $\u001b[0m\n",
      "\u001b[1mBudget left after new generation: -0.004291960000000001 $\u001b[0m\n",
      "100%|██████████| 1/1 [00:00<00:00, 2816.86it/s]\n",
      "\u001b[34m\u001b[1mAgent agent-d384aba8-f8ab-4421-bdf0-2df377fb326a fitness: 0.125491512495977, cost: 0.0\u001b[0m\n",
      "\u001b[34m\u001b[1mSaving current state to ../data/2025-03-04_18-51-10/generation=4\u001b[0m\n",
      "\u001b[1mCycle completed in 0:02:50.245283 with a total cost of 0.02429196 $\u001b[0m\n",
      "\u001b[1mBudget left at final: -0.004291960000000001 $\u001b[0m\n",
      "\u001b[1mReturning 10 best agents\u001b[0m\n"
     ]
    }
   ],
   "source": [
    "import asyncio\n",
    "import nest_asyncio\n",
    "\n",
    "from ebiose.core.evo_forging_cycle import EvoForgingCylceConfig\n",
    "nest_asyncio.apply()\n",
    "\n",
    "from pathlib import Path\n",
    "from datetime import UTC, datetime\n",
    "\n",
    "# the path where results will be saved\n",
    "current_time = datetime.now(UTC).strftime(\"%Y-%m-%d_%H-%M-%S\")\n",
    "SAVE_PATH = Path(f\"./../data/\") / current_time\n",
    "if not SAVE_PATH.exists():\n",
    "    SAVE_PATH.mkdir(parents=True)\n",
    "\n",
    "# budget for the forge cycle, in dollars\n",
    "BUDGET = 0.01\n",
    "\n",
    "cycle_config = EvoForgingCylceConfig(\n",
    "    budget=BUDGET,\n",
    "    n_agents_in_population=2,\n",
    "    n_selected_agents_from_ecosystem=0,\n",
    "    replacement_ratio=0.5,\n",
    "    save_path=SAVE_PATH\n",
    ")\n",
    "\n",
    "final_agents, final_fitness = asyncio.run(forge.run_new_cycle(ecosystem, cycle_config=cycle_config))\n"
   ]
  },
  {
   "cell_type": "markdown",
   "metadata": {},
   "source": [
    "We can now display the best agents that have been returned as follows. Note that:\n",
    "- all agents can be found in the `SAVE_PATH` directory if you defined one;\n",
    "- here, the compute fitness only returns a random float, so the following displayed agents have not been truly evaluated. \n",
    "\n",
    "Go check [examples/math_forge/math_forge.py](./../examples/math_forge/math_forge.py) to see a fully implemeted forge with a non-random fitness evaluation function."
   ]
  },
  {
   "cell_type": "code",
   "execution_count": 13,
   "metadata": {},
   "outputs": [
    {
     "data": {
      "text/markdown": [
       "# Agent ID: agent-d384aba8-f8ab-4421-bdf0-2df377fb326a\n",
       "## Fitness: 0.125491512495977\n",
       "```mermaid \n",
       "graph LR\n",
       "\tStart_Node[start_node] --> Math_Problem_Solver(Math Problem Solver)\n",
       "\tMath_Problem_Solver(Math Problem Solver) --> Equation_Formulator(Equation Formulator)\n",
       "\tEquation_Formulator(Equation Formulator) --> Problem_Solver(Enhanced Problem Solver)\n",
       "\tProblem_Solver(Enhanced Problem Solver) --> Solution_Verifier(Solution Verifier)\n",
       "\tSolution_Verifier(Solution Verifier) --> Alternative_Methods_Explorer(Alternative Methods Explorer)\n",
       "\tAlternative_Methods_Explorer(Alternative Methods Explorer) --> Contextual_Reflection(Contextual Reflection)\n",
       "\tContextual_Reflection(Contextual Reflection) --> Feedback_Generator(Feedback Generator)\n",
       "\tFeedback_Generator(Feedback Generator) --> Summary_Creator(Summary Creator)\n",
       "\tSummary_Creator(Summary Creator) --> Knowledge_Integrator(Knowledge Integrator)\n",
       "\tKnowledge_Integrator(Knowledge Integrator) --> Final_Output_Formatter(Final Output Formatter)\n",
       "\tFinal_Output_Formatter(Final Output Formatter) --> End_Node[end_node]\n",
       " \n",
       "``` \n",
       "## Prompts:\n",
       "##### Shared context prompt\n",
       "Welcome to the collaborative math problem-solving network. This graph consists of multiple nodes, each representing a distinct stage in the problem-solving process.\n",
       "##### Math Problem Solver\n",
       "Analyze the following math word problem and identify the key components (numbers, operations, etc.): {problem_statement}\n",
       "##### Equation Formulator\n",
       "Based on the analysis from the Math Problem Solver, your role is to formulate an equation that accurately represents the problem identified. Include alternative formulations if applicable.\n",
       "##### Enhanced Problem Solver\n",
       "With the equation formulated, your task is to solve it. Apply appropriate mathematical techniques, including algebraic manipulation, numerical methods, or graphical representation as necessary. Provide detailed steps.\n",
       "##### Solution Verifier\n",
       "Your responsibility is to evaluate the solution derived by the Problem Solver. Check for accuracy by substituting the solution back into the original equation and validate with alternative methods.\n",
       "##### Alternative Methods Explorer\n",
       "Consider alternative methods that could be employed to solve the original problem. Discuss different strategies that could yield the same result and their potential advantages.\n",
       "##### Contextual Reflection\n",
       "Reflect on the entire problem-solving process, including the strategies used, the effectiveness of the solutions obtained, and the communication between nodes. Suggest improvements for future problem-solving scenarios.\n",
       "##### Feedback Generator\n",
       "Generate constructive feedback based on the evaluations provided by both the Solution Verifier and the Contextual Reflection nodes. Identify areas for improvement.\n",
       "##### Summary Creator\n",
       "Create a comprehensive summary of the entire problem-solving process. Include the original math word problem, the key findings from each node, the solution derived, and the feedback gathered.\n",
       "##### Knowledge Integrator\n",
       "Integrate knowledge and techniques from previous nodes to suggest additional resources or strategies that could assist in similar problem-solving scenarios.\n",
       "##### Final Output Formatter\n",
       "Your role is to format the final output of the problem-solving process for presentation.\n",
       "\n"
      ],
      "text/plain": [
       "<IPython.core.display.Markdown object>"
      ]
     },
     "metadata": {},
     "output_type": "display_data"
    }
   ],
   "source": [
    "forge.display_results(final_agents, final_fitness)"
   ]
  }
 ],
 "metadata": {
  "kernelspec": {
   "display_name": ".venv",
   "language": "python",
   "name": "python3"
  },
  "language_info": {
   "codemirror_mode": {
    "name": "ipython",
    "version": 3
   },
   "file_extension": ".py",
   "mimetype": "text/x-python",
   "name": "python",
   "nbconvert_exporter": "python",
   "pygments_lexer": "ipython3",
   "version": "3.12.8"
  }
 },
 "nbformat": 4,
 "nbformat_minor": 2
}
