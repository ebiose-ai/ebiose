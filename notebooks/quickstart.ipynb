{
 "cells": [
  {
   "cell_type": "markdown",
   "metadata": {},
   "source": [
    "# Create a forge and execute an evolution cycle\n",
    "In this notebook, we will go through the very few steps needed to run a forge cycle for a given budget. \n",
    "Before running this notebook, you must set up a few things:\n",
    "\n",
    "**Your access to LLM's providers:**\n",
    "\n",
    "To try Ebiose, you must have access to at least one LLM provider. To provide the credentials, copy-paste the [`model_endpoints_template.yml`](./../model_endpoints_template.yml) file, rename it as `model_endpoints.yml` and fill it with your own credentials.\n",
    "\n",
    "**Add the root directory to your Python path**\n",
    "\n",
    "Depending on your settings, you may need to add the root of the repository to your `PYTHONPATH` environment variable. You may also use a `.env` file to do so. copy-paste the [`.env.template`](./../.env.template) file, rename it as `.env` and fill it with your own root directory.\n",
    "\n",
    "**Use LangFuse for tracing**\n",
    "\n",
    "Ebiose has chosen LangFuse to provide easy and free observability, through its self-hosted capability. Refer to [Langfuse official documentation](https://langfuse.com/self-hosting) to set it up. Once done, fill `LANGFUSE_SECRET_KEY`, `LANGFUSE_PUBLIC_KEY` and `LANGFUSE_HOST` in the `.env` file.\n",
    "\n",
    "Other observability tools might be used but are not configured yet.\n",
    "\n",
    "**Load .env file**\n",
    "\n",
    "To load the `.env` file, execute:"
   ]
  },
  {
   "cell_type": "code",
   "execution_count": 1,
   "metadata": {},
   "outputs": [
    {
     "data": {
      "text/plain": [
       "True"
      ]
     },
     "execution_count": 1,
     "metadata": {},
     "output_type": "execute_result"
    }
   ],
   "source": [
    "from dotenv import load_dotenv\n",
    "load_dotenv()"
   ]
  },
  {
   "cell_type": "markdown",
   "metadata": {},
   "source": [
    "## Creating a basic forge\n",
    "\n",
    "In ebiose, a **forge** is where custom agents are created to solve specific problems. The forge is the exclusive origin of new agents. Within each forge, architects agents orchestrate the creation and improvement of agents by reusing existing building blocks from the ecosystem.\n",
    "\n",
    "To create a forge and run a cycle, you must provide the following:\n",
    "- a description of the forge, which defines the problem that must be solved by generated agents;\n",
    "- the expected format of the agent's input and output, defined as Pydantic models;\n",
    "- an implementation of the `compute_fitness` abstract method that will be used by the forge to evaluate the generated agents.\n",
    "\n",
    "Let's say we wich to generate agents specialized in solving math problems. The forge description could be:"
   ]
  },
  {
   "cell_type": "code",
   "execution_count": 2,
   "metadata": {},
   "outputs": [],
   "source": [
    "forge_description = \"Solving math word problems\""
   ]
  },
  {
   "cell_type": "markdown",
   "metadata": {},
   "source": [
    "Next, we need to define the expected input and output formats of the generated agents. These formats are to be defined as Pydantic models. \n",
    "\n",
    "For instance, in our context of solving math problems, we want the agent input to be a string which will represent the math problem to be solved and the agent output to be composed of two fields:\n",
    "- `solution` which will be the final solution to the math problem, given as an integer;\n",
    "- `rationale` which will be the rationale behind the found solution.\n",
    "\n",
    "The IO Pydantic models will thus be:"
   ]
  },
  {
   "cell_type": "code",
   "execution_count": 3,
   "metadata": {},
   "outputs": [],
   "source": [
    "from pydantic import BaseModel\n",
    "\n",
    "class AgentInput(BaseModel):\n",
    "        math_problem: str\n",
    "\n",
    "class AgentOutput(BaseModel):\n",
    "    solution: int\n",
    "    rationale: str"
   ]
  },
  {
   "cell_type": "markdown",
   "metadata": {},
   "source": [
    "Lastly, we must provide a way of evaluating the generated agents through the implementation of the `compute_fitness` abstract method of `AgentForge` class. For the sake of demonstration, we will here return a random float between 0 and 1, so that we don't spend tokens at evaluation."
   ]
  },
  {
   "cell_type": "code",
   "execution_count": 4,
   "metadata": {},
   "outputs": [
    {
     "name": "stderr",
     "output_type": "stream",
     "text": [
      "/Users/xabier/dev/ebiose-core/.venv/lib/python3.12/site-packages/pydantic/_internal/_generate_schema.py:502: UserWarning: <built-in function any> is not a Python type (it may be an instance of an object), Pydantic will allow any object with no validation since we cannot even enforce that the input is an instance of the given type. To get rid of this error wrap the type with `pydantic.SkipValidation`.\n",
      "  warn(\n"
     ]
    }
   ],
   "source": [
    "import random\n",
    "random.seed(7)\n",
    "\n",
    "from ebiose.core.agent import Agent\n",
    "from ebiose.core.agent_forge import AgentForge\n",
    "\n",
    "class BasicForge(AgentForge):\n",
    "    async def compute_fitness(self, agent: Agent, compute_token_id: str, **kwargs: dict[str, any]) -> float:\n",
    "        return random.random()"
   ]
  },
  {
   "cell_type": "markdown",
   "metadata": {},
   "source": [
    "We can now instantiate the forge with the provided elements:"
   ]
  },
  {
   "cell_type": "code",
   "execution_count": 5,
   "metadata": {},
   "outputs": [],
   "source": [
    "forge = BasicForge(\n",
    "    name=\"Basic forge\",\n",
    "    description=forge_description,\n",
    "    agent_input_model=AgentInput,\n",
    "    agent_output_model=AgentOutput,\n",
    "    default_generated_agent_engine_type=\"langgraph_engine\",\n",
    "    default_model_endpoint_id=\"azure-gpt-4o-mini\"\n",
    ")"
   ]
  },
  {
   "cell_type": "markdown",
   "metadata": {},
   "source": [
    "## Running a forge cycle\n",
    "\n",
    "Once the forge is instantiated, we can start generating agents by running a **forge cycle**. \n",
    "\n",
    "To do so, you must define:\n",
    "- a budget in dollars (the forge cycle will end once this budget is exhausted);\n",
    "- optionally, a path in which created agents and fitness will be saved accross generations. \n",
    "\n",
    "> ⚠️ Note that we need to use `asyncio.run` to launch the forge cycle.\n",
    "\n",
    "> 🚨 Before executing the following cell, check the amount of budget you have allocated!\n",
    "\n",
    "> 💡 If you are using VSCode, install the [*Markdown Preview Mermaid Support* extension](https://marketplace.visualstudio.com/items?itemName=bierner.markdown-mermaid) to allow the display of the generated agent's graphs."
   ]
  },
  {
   "cell_type": "code",
   "execution_count": 6,
   "metadata": {},
   "outputs": [
    {
     "name": "stderr",
     "output_type": "stream",
     "text": [
      "\u001b[1mStarting a new cycle for forge Basic forge\u001b[0m\n",
      "\u001b[1m****** Initializing agents population ******\u001b[0m\n",
      "\u001b[1mCreating 2 new agents with architect agents...\u001b[0m\n",
      "  0%|          | 0/2 [00:00<?, ?it/s]\u001b[34m\u001b[1m\n",
      "Initializing structured output agent for model AgentOutput (1)\u001b[0m\n",
      "100%|██████████| 2/2 [00:24<00:00, 12.20s/it]\n",
      "\u001b[34m\u001b[1mAgent initialization cost: 0.005875155\u001b[0m\n",
      "\u001b[1mPopulation initialized with 2 agents\u001b[0m\n",
      "\u001b[1mInitialization of 2 agents took 0:00:24.439670\u001b[0m\n",
      "\u001b[1mBudget left after initialization: 0.004124845 $\u001b[0m\n",
      "\u001b[1m****** Running generation 0 ******\u001b[0m\n",
      "\u001b[1mEvaluating current population of 2 agents...\u001b[0m\n",
      "100%|██████████| 2/2 [00:00<00:00, 2045.00it/s]\n",
      "\u001b[34m\u001b[1mAgent agent-ef206995-0054-4e56-a257-3fffc2357a63 fitness: 0.45318437637077535, cost: 0.0\u001b[0m\n",
      "\u001b[34m\u001b[1mAgent agent-946999c7-25b2-4819-bf5b-ddb0e426bb53 fitness: 0.29976699686368236, cost: 0.0\u001b[0m\n",
      "\u001b[1mEvaluation took 0:00:00.003985 for a total cost of 0.0 $\u001b[0m\n"
     ]
    },
    {
     "data": {
      "text/markdown": [
       "# Agent ID: agent-ef206995-0054-4e56-a257-3fffc2357a63\n",
       "## Fitness: 0.45318437637077535\n",
       "```mermaid \n",
       "graph LR\n",
       "\tStart_Node[start_node] --> Math_Solver_Llm(MathSolverLLM)\n",
       "\tMath_Solver_Llm(MathSolverLLM) --> End_Node[end_node]\n",
       " \n",
       "``` \n",
       "## Prompts:\n",
       "##### Shared context prompt\n",
       "You are part of a collaborative AI model designed to solve math word problems through a structured graph network. Your role is to analyze, interpret, and calculate solutions based on the information provided. You will engage in a series of steps to break down the problem, evaluate your reasoning, and ensure that the solution is accurate and clear. Your output will help guide the next stage of the process. Remember to communicate your thought process clearly and provide all necessary information for the next node to function effectively.\n",
       "##### MathSolverLLM\n",
       "You are the MathSolverLLM responsible for interpreting and solving math word problems. Read the following math word problem carefully.\n",
       "\n",
       "1. Identify the key components of the problem, such as numbers, operations, and relationships between quantities.\n",
       "2. Break down the problem step by step, explaining your thought process clearly as you go.\n",
       "3. Perform the necessary calculations to arrive at a solution, and ensure that each step is logical and justified.\n",
       "4. After arriving at the solution, reflect on your reasoning to confirm the accuracy and validity of your answer. Ask yourself: Did I consider all aspects of the problem? Is my solution reasonable?\n",
       "5. Finally, present your solution in a clear and concise manner, including any relevant explanations that may help the next stage of the process understand your reasoning.\n",
       "\n",
       "Make sure to detail every step of your reasoning and provide the final answer in a format that is easy to interpret.\n",
       "\n",
       "# Agent ID: agent-946999c7-25b2-4819-bf5b-ddb0e426bb53\n",
       "## Fitness: 0.29976699686368236\n",
       "```mermaid \n",
       "graph LR\n",
       "\tStart_Node[start_node] --> Llm_Node_1(Problem Understanding LLM)\n",
       "\tLlm_Node_1(Problem Understanding LLM) -->|understood| Llm_Node_2(Solution Generation LLM)\n",
       "\tLlm_Node_1(Problem Understanding LLM) -->|not understood| Llm_Node_1(Problem Understanding LLM)\n",
       "\tLlm_Node_2(Solution Generation LLM) --> End_Node[end_node]\n",
       " \n",
       "``` \n",
       "## Prompts:\n",
       "##### Shared context prompt\n",
       "You are part of a collaborative AI model designed to solve math word problems through a structured process. Each node in this graph has a specific role:\n",
       "\n",
       "1. The Problem Understanding LLM will analyze the math word problem and extract key components, identifying data and operations required.\n",
       "2. The Solution Generation LLM will utilize the information provided by the Problem Understanding LLM to perform calculations and derive the solution.\n",
       "3. The flow of information is directed from the Problem Understanding LLM to the Solution Generation LLM, and finally to the conclusion of the process.\n",
       "\n",
       "Your task is to communicate effectively with the other nodes while executing your specific role.\n",
       "##### Problem Understanding LLM\n",
       "Your role is to carefully analyze the given math word problem and extract its essential components.\n",
       "\n",
       "1. Read the problem statement thoroughly.\n",
       "2. Identify the key data points, including numbers, units, and any relevant relationships.\n",
       "3. Determine the mathematical operations that may be required to solve the problem (e.g., addition, subtraction, multiplication, division).\n",
       "4. Formulate a clear summary of your understanding of the problem, including the identified data and operations.\n",
       "\n",
       "After completing your analysis, present your findings in a concise format, ensuring that you include all necessary details that the next LLM will require to generate a solution. Make sure to communicate any ambiguities or uncertainties in the problem.\n",
       "##### Solution Generation LLM\n",
       "Your role is to generate a solution based on the information provided by the Problem Understanding LLM.\n",
       "\n",
       "1. Review the summary provided by the Problem Understanding LLM carefully.\n",
       "2. Verify that you have all the necessary data points and operations required to solve the problem.\n",
       "3. Execute the calculations step-by-step, ensuring that each operation is performed correctly.\n",
       "4. If you encounter any uncertainties or require additional clarification, reflect on the information provided and communicate any questions back to the Problem Understanding LLM.\n",
       "5. Present the final solution clearly, along with any relevant explanations or justifications for your calculations.\n",
       "\n",
       "Your output should be comprehensive, allowing for easy understanding of how the solution was derived from the given problem. Ensure that your response is structured logically to facilitate the next steps in the process.\n",
       "\n"
      ],
      "text/plain": [
       "<IPython.core.display.Markdown object>"
      ]
     },
     "metadata": {},
     "output_type": "display_data"
    },
    {
     "name": "stderr",
     "output_type": "stream",
     "text": [
      "\u001b[34m\u001b[1mSaving current state to ../data/2025-03-10_10-21-36/generation=0\u001b[0m\n",
      "\u001b[1mStarting crossover and mutation...\u001b[0m\n",
      "\u001b[34m\u001b[1m\n",
      "Initializing structured output agent for model AgentOutput (2)\u001b[0m\n",
      "\u001b[34m\u001b[1mNumber of offsprings: 1/1\u001b[0m\n",
      "\u001b[1mCrossover and mutation completed in 0:00:16.862569 for a total cost of 0.0017174850000000001 $\u001b[0m\n",
      "\u001b[1mGeneration 0 completed in 0:00:16.882985 with a total cost of 0.0017174850000000001 $\u001b[0m\n",
      "\u001b[1mBudget left after first generation: 0.0024073600000000007 $\u001b[0m\n",
      "\u001b[1m****** Running generation 1 ******\u001b[0m\n",
      "\u001b[1mEvaluating current population of 2 agents...\u001b[0m\n",
      "100%|██████████| 2/2 [00:00<00:00, 1834.78it/s]\n",
      "\u001b[34m\u001b[1mAgent agent-946999c7-25b2-4819-bf5b-ddb0e426bb53 fitness: 0.03920725704743766, cost: 0.0\u001b[0m\n",
      "\u001b[34m\u001b[1mAgent agent-3a75311f-f164-4283-87a5-37b2f9388d49 fitness: 0.6682158565343952, cost: 0.0\u001b[0m\n",
      "\u001b[1mEvaluation took 0:00:00.009856 for a total cost of 0.0 $\u001b[0m\n"
     ]
    },
    {
     "data": {
      "text/markdown": [
       "# Agent ID: agent-3a75311f-f164-4283-87a5-37b2f9388d49\n",
       "## Fitness: 0.6682158565343952\n",
       "```mermaid \n",
       "graph LR\n",
       "\tStart_Node[start_node] --> Math_Solver_Llm(MathSolverLLM)\n",
       "\tMath_Solver_Llm(MathSolverLLM) --> Reasoning_Llm(ReasoningLLM)\n",
       "\tReasoning_Llm(ReasoningLLM) --> End_Node[end_node]\n",
       " \n",
       "``` \n",
       "## Prompts:\n",
       "##### Shared context prompt\n",
       "You are part of a collaborative AI model designed to solve math word problems through a structured graph network. Your role is to analyze, interpret, and calculate solutions based on the information provided. You will engage in a series of steps to break down the problem, evaluate your reasoning, and ensure that the solution is accurate and clear. Your output will help guide the next stage of the process. Remember to communicate your thought process clearly and provide all necessary information for the next node to function effectively.\n",
       "##### MathSolverLLM\n",
       "You are the MathSolverLLM responsible for interpreting and solving math word problems. Read the following math word problem carefully.\n",
       "\n",
       "1. Identify the key components of the problem, such as numbers, operations, and relationships between quantities.\n",
       "2. Break down the problem step by step, explaining your thought process clearly as you go.\n",
       "3. Perform the necessary calculations to arrive at a solution, and ensure that each step is logical and justified.\n",
       "4. After arriving at the solution, reflect on your reasoning to confirm the accuracy and validity of your answer. Ask yourself: Did I consider all aspects of the problem? Is my solution reasonable?\n",
       "5. Finally, present your solution in a clear and concise manner, including any relevant explanations that may help the next stage of the process understand your reasoning.\n",
       "\n",
       "Make sure to detail every step of your reasoning and provide the final answer in a format that is easy to interpret.\n",
       "##### ReasoningLLM\n",
       "You are the ReasoningLLM responsible for evaluating the output from the MathSolverLLM. Analyze the provided solution for clarity and correctness. Check if the reasoning is logically consistent and if all components of the problem have been addressed. Provide feedback on areas of improvement, if necessary, and confirm if the solution is valid based on the information presented.\n",
       "\n",
       "# Agent ID: agent-946999c7-25b2-4819-bf5b-ddb0e426bb53\n",
       "## Fitness: 0.03920725704743766\n",
       "```mermaid \n",
       "graph LR\n",
       "\tStart_Node[start_node] --> Llm_Node_1(Problem Understanding LLM)\n",
       "\tLlm_Node_1(Problem Understanding LLM) -->|understood| Llm_Node_2(Solution Generation LLM)\n",
       "\tLlm_Node_1(Problem Understanding LLM) -->|not understood| Llm_Node_1(Problem Understanding LLM)\n",
       "\tLlm_Node_2(Solution Generation LLM) --> End_Node[end_node]\n",
       " \n",
       "``` \n",
       "## Prompts:\n",
       "##### Shared context prompt\n",
       "You are part of a collaborative AI model designed to solve math word problems through a structured process. Each node in this graph has a specific role:\n",
       "\n",
       "1. The Problem Understanding LLM will analyze the math word problem and extract key components, identifying data and operations required.\n",
       "2. The Solution Generation LLM will utilize the information provided by the Problem Understanding LLM to perform calculations and derive the solution.\n",
       "3. The flow of information is directed from the Problem Understanding LLM to the Solution Generation LLM, and finally to the conclusion of the process.\n",
       "\n",
       "Your task is to communicate effectively with the other nodes while executing your specific role.\n",
       "##### Problem Understanding LLM\n",
       "Your role is to carefully analyze the given math word problem and extract its essential components.\n",
       "\n",
       "1. Read the problem statement thoroughly.\n",
       "2. Identify the key data points, including numbers, units, and any relevant relationships.\n",
       "3. Determine the mathematical operations that may be required to solve the problem (e.g., addition, subtraction, multiplication, division).\n",
       "4. Formulate a clear summary of your understanding of the problem, including the identified data and operations.\n",
       "\n",
       "After completing your analysis, present your findings in a concise format, ensuring that you include all necessary details that the next LLM will require to generate a solution. Make sure to communicate any ambiguities or uncertainties in the problem.\n",
       "##### Solution Generation LLM\n",
       "Your role is to generate a solution based on the information provided by the Problem Understanding LLM.\n",
       "\n",
       "1. Review the summary provided by the Problem Understanding LLM carefully.\n",
       "2. Verify that you have all the necessary data points and operations required to solve the problem.\n",
       "3. Execute the calculations step-by-step, ensuring that each operation is performed correctly.\n",
       "4. If you encounter any uncertainties or require additional clarification, reflect on the information provided and communicate any questions back to the Problem Understanding LLM.\n",
       "5. Present the final solution clearly, along with any relevant explanations or justifications for your calculations.\n",
       "\n",
       "Your output should be comprehensive, allowing for easy understanding of how the solution was derived from the given problem. Ensure that your response is structured logically to facilitate the next steps in the process.\n",
       "\n"
      ],
      "text/plain": [
       "<IPython.core.display.Markdown object>"
      ]
     },
     "metadata": {},
     "output_type": "display_data"
    },
    {
     "name": "stderr",
     "output_type": "stream",
     "text": [
      "\u001b[34m\u001b[1mSaving current state to ../data/2025-03-10_10-21-36/generation=1\u001b[0m\n",
      "\u001b[1mStarting crossover and mutation...\u001b[0m\n",
      "\u001b[34m\u001b[1mNumber of offsprings: 1/1\u001b[0m\n",
      "\u001b[1mCrossover and mutation completed in 0:00:18.284970 for a total cost of 0.001957065 $\u001b[0m\n",
      "\u001b[1mGeneration 1 completed in 0:00:18.314629 with a total cost of 0.001957065 $\u001b[0m\n",
      "\u001b[1mBudget left after new generation: 0.0004502950000000016 $\u001b[0m\n",
      "100%|██████████| 2/2 [00:00<00:00, 3938.31it/s]\n",
      "\u001b[34m\u001b[1mAgent agent-3a75311f-f164-4283-87a5-37b2f9388d49 fitness: 0.9930959394666341, cost: 0.0\u001b[0m\n",
      "\u001b[34m\u001b[1mAgent agent-c1437455-a1ed-4dde-b567-07ee1aaf6d9a fitness: 0.8219247866097149, cost: 0.0\u001b[0m\n",
      "\u001b[34m\u001b[1mSaving current state to ../data/2025-03-10_10-21-36/generation=2\u001b[0m\n",
      "\u001b[1mCycle completed in 0:00:59.658504 with a total cost of 0.009549705 $\u001b[0m\n",
      "\u001b[1mBudget left at final: 0.0004502950000000016 $\u001b[0m\n",
      "\u001b[1mReturning 2 best agents\u001b[0m\n"
     ]
    }
   ],
   "source": [
    "import asyncio\n",
    "import nest_asyncio\n",
    "\n",
    "from ebiose.core.evo_forging_cycle import EvoForgingCylceConfig\n",
    "nest_asyncio.apply()\n",
    "\n",
    "from pathlib import Path\n",
    "from datetime import UTC, datetime\n",
    "\n",
    "# the path where results will be saved\n",
    "current_time = datetime.now(UTC).strftime(\"%Y-%m-%d_%H-%M-%S\")\n",
    "SAVE_PATH = Path(f\"./../data/\") / current_time\n",
    "if not SAVE_PATH.exists():\n",
    "    SAVE_PATH.mkdir(parents=True)\n",
    "\n",
    "\n",
    "cycle_config = EvoForgingCylceConfig(\n",
    "    budget=0.01, # the budget for the forge cycle in dollas\n",
    "    n_agents_in_population=2, # number of agents in the population, at each generation\n",
    "    n_selected_agents_from_ecosystem=0, # number of agents selected from the ecosystem at initialization\n",
    "    n_best_agents_to_return=2, # number of best agents to return at the end of the cycle\n",
    "    replacement_ratio=0.5, # ratio of agents replaced at each generation\n",
    "    save_path=SAVE_PATH, # the path where results will be saved (optional)\n",
    ")\n",
    "\n",
    "best_agents, best_fitness = asyncio.run(\n",
    "    forge.run_new_cycle(config=cycle_config)\n",
    ")\n"
   ]
  },
  {
   "cell_type": "markdown",
   "metadata": {},
   "source": [
    "We can now display the best agents that have been returned as follows. Note that:\n",
    "- all agents can be found in the `SAVE_PATH` directory if you defined one;\n",
    "- here, the compute fitness only returns a random float, so the following displayed agents have not been truly evaluated. \n",
    "\n",
    "Go check [examples/math_forge/math_forge.py](./../examples/math_forge/math_forge.py) to see a fully implemeted forge with a non-random fitness evaluation function."
   ]
  },
  {
   "cell_type": "markdown",
   "metadata": {},
   "source": [
    "## Display best agents"
   ]
  },
  {
   "cell_type": "code",
   "execution_count": 7,
   "metadata": {},
   "outputs": [
    {
     "data": {
      "text/markdown": [
       "# Agent ID: agent-3a75311f-f164-4283-87a5-37b2f9388d49\n",
       "## Fitness: 0.9930959394666341\n",
       "```mermaid \n",
       "graph LR\n",
       "\tStart_Node[start_node] --> Math_Solver_Llm(MathSolverLLM)\n",
       "\tMath_Solver_Llm(MathSolverLLM) --> Reasoning_Llm(ReasoningLLM)\n",
       "\tReasoning_Llm(ReasoningLLM) --> End_Node[end_node]\n",
       " \n",
       "``` \n",
       "## Prompts:\n",
       "##### Shared context prompt\n",
       "You are part of a collaborative AI model designed to solve math word problems through a structured graph network. Your role is to analyze, interpret, and calculate solutions based on the information provided. You will engage in a series of steps to break down the problem, evaluate your reasoning, and ensure that the solution is accurate and clear. Your output will help guide the next stage of the process. Remember to communicate your thought process clearly and provide all necessary information for the next node to function effectively.\n",
       "##### MathSolverLLM\n",
       "You are the MathSolverLLM responsible for interpreting and solving math word problems. Read the following math word problem carefully.\n",
       "\n",
       "1. Identify the key components of the problem, such as numbers, operations, and relationships between quantities.\n",
       "2. Break down the problem step by step, explaining your thought process clearly as you go.\n",
       "3. Perform the necessary calculations to arrive at a solution, and ensure that each step is logical and justified.\n",
       "4. After arriving at the solution, reflect on your reasoning to confirm the accuracy and validity of your answer. Ask yourself: Did I consider all aspects of the problem? Is my solution reasonable?\n",
       "5. Finally, present your solution in a clear and concise manner, including any relevant explanations that may help the next stage of the process understand your reasoning.\n",
       "\n",
       "Make sure to detail every step of your reasoning and provide the final answer in a format that is easy to interpret.\n",
       "##### ReasoningLLM\n",
       "You are the ReasoningLLM responsible for evaluating the output from the MathSolverLLM. Analyze the provided solution for clarity and correctness. Check if the reasoning is logically consistent and if all components of the problem have been addressed. Provide feedback on areas of improvement, if necessary, and confirm if the solution is valid based on the information presented.\n",
       "\n",
       "# Agent ID: agent-c1437455-a1ed-4dde-b567-07ee1aaf6d9a\n",
       "## Fitness: 0.8219247866097149\n",
       "```mermaid \n",
       "graph LR\n",
       "\tStart_Node[start_node] --> Math_Solver_Llm(MathSolverLLM)\n",
       "\tMath_Solver_Llm(MathSolverLLM) --> Reasoning_Llm(ReasoningLLM)\n",
       "\tReasoning_Llm(ReasoningLLM) --> Verification_Llm(VerificationLLM)\n",
       "\tVerification_Llm(VerificationLLM) --> End_Node[end_node]\n",
       " \n",
       "``` \n",
       "## Prompts:\n",
       "##### Shared context prompt\n",
       "You are part of a collaborative AI model designed to solve math word problems through a structured graph network. Your role is to analyze, interpret, and calculate solutions based on the information provided. You will engage in a series of steps to break down the problem, evaluate your reasoning, and ensure that the solution is accurate and clear. Your output will help guide the next stage of the process. Remember to communicate your thought process clearly and provide all necessary information for the next node to function effectively.\n",
       "##### MathSolverLLM\n",
       "You are the MathSolverLLM responsible for interpreting and solving math word problems. Read the following math word problem carefully.\n",
       "\n",
       "1. Identify the key components of the problem, such as numbers, operations, and relationships between quantities.\n",
       "2. Break down the problem step by step, explaining your thought process clearly as you go.\n",
       "3. Perform the necessary calculations to arrive at a solution, and ensure that each step is logical and justified.\n",
       "4. After arriving at the solution, reflect on your reasoning to confirm the accuracy and validity of your answer. Ask yourself: Did I consider all aspects of the problem? Is my solution reasonable?\n",
       "5. Finally, present your solution in a clear and concise manner, including any relevant explanations that may help the next stage of the process understand your reasoning.\n",
       "\n",
       "Make sure to detail every step of your reasoning and provide the final answer in a format that is easy to interpret.\n",
       "##### ReasoningLLM\n",
       "You are the ReasoningLLM responsible for evaluating the output from the MathSolverLLM. Analyze the provided solution for clarity and correctness. Check if the reasoning is logically consistent and if all components of the problem have been addressed. Provide feedback on areas of improvement, if necessary, and confirm if the solution is valid based on the information presented.\n",
       "##### VerificationLLM\n",
       "You are the VerificationLLM tasked with ensuring that the solution provided by the ReasoningLLM is comprehensive and correct. Review the solution for completeness, accuracy, and clarity. Confirm that all relevant aspects of the math word problem have been addressed before finalizing the output.\n",
       "\n"
      ],
      "text/plain": [
       "<IPython.core.display.Markdown object>"
      ]
     },
     "metadata": {},
     "output_type": "display_data"
    }
   ],
   "source": [
    "forge.display_results(best_agents, best_fitness)"
   ]
  }
 ],
 "metadata": {
  "kernelspec": {
   "display_name": ".venv",
   "language": "python",
   "name": "python3"
  },
  "language_info": {
   "codemirror_mode": {
    "name": "ipython",
    "version": 3
   },
   "file_extension": ".py",
   "mimetype": "text/x-python",
   "name": "python",
   "nbconvert_exporter": "python",
   "pygments_lexer": "ipython3",
   "version": "3.12.8"
  }
 },
 "nbformat": 4,
 "nbformat_minor": 2
}
