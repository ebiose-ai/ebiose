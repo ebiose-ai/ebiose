{
 "cells": [
  {
   "cell_type": "markdown",
   "metadata": {},
   "source": [
    "# Create a forge and execute an evolution cycle\n",
    "In this notebook, we will go through the very few steps needed to run a forge cycle for a given budget. \n",
    "\n",
    "As of today, the easiest way to experiment with Ebiose is to use the OpenAI API. To do so, all you have to do is to set your OpenAI API key via an .env file or by replacing `\"your-open-api-key\"` in the following code block:"
   ]
  },
  {
   "cell_type": "code",
   "execution_count": 1,
   "metadata": {},
   "outputs": [],
   "source": [
    "import os \n",
    "from dotenv import load_dotenv\n",
    "load_dotenv()\n",
    "if \"OPENAI_API_KEY\" not in os.environ:\n",
    "    os.environ[\"OPENAI_API_KEY\"] = \"your-openai-api-key\""
   ]
  },
  {
   "cell_type": "markdown",
   "metadata": {},
   "source": [
    "> 💡 Recall that you may need to add the root of the repository to your `PYTHONPATH` environment variable. You may also use a `.env` file to do so or execute the following:\n"
   ]
  },
  {
   "cell_type": "code",
   "execution_count": 2,
   "metadata": {},
   "outputs": [],
   "source": [
    "import sys\n",
    "sys.path.append(\"./../\")\n"
   ]
  },
  {
   "cell_type": "markdown",
   "metadata": {},
   "source": [
    "## Creating a basic forge\n",
    "\n",
    "In ebiose, a **forge** is where custom agents are created to solve specific problems. The forge is the exclusive origin of new agents. Within each forge, architects agents orchestrate the creation and improvement of agents by reusing existing building blocks from the ecosystem.\n",
    "\n",
    "To create a forge and run a cycle, you must provide the following:\n",
    "- a description of the forge, which defines the problem that must be solved by generated agents;\n",
    "- the expected format of the agent's input and output, defined as Pydantic models;\n",
    "- an implementation of the `compute_fitness` abstract method that will be used by the forge to evaluate the generated agents.\n",
    "\n",
    "Let's say we wich to generate agents specialized in solving math problems. The forge description could be:"
   ]
  },
  {
   "cell_type": "code",
   "execution_count": 3,
   "metadata": {},
   "outputs": [],
   "source": [
    "forge_description = \"Solving math word problems\""
   ]
  },
  {
   "cell_type": "markdown",
   "metadata": {},
   "source": [
    "Next, we need to define the expected input and output formats of the generated agents. These formats are to be defined as Pydantic models. \n",
    "\n",
    "For instance, in our context of solving math problems, we want the agent input to be a string which will represent the math problem to be solved and the agent output to be composed of two fields:\n",
    "- `solution` which will be the final solution to the math problem, given as an integer;\n",
    "- `rationale` which will be the rationale behind the found solution.\n",
    "\n",
    "The IO Pydantic models will thus be:"
   ]
  },
  {
   "cell_type": "code",
   "execution_count": 4,
   "metadata": {},
   "outputs": [],
   "source": [
    "from pydantic import BaseModel\n",
    "\n",
    "class AgentInput(BaseModel):\n",
    "        math_problem: str\n",
    "\n",
    "class AgentOutput(BaseModel):\n",
    "    solution: int\n",
    "    rationale: str"
   ]
  },
  {
   "cell_type": "markdown",
   "metadata": {},
   "source": [
    "Lastly, we must provide a way of evaluating the generated agents through the implementation of the `compute_fitness` abstract method of `AgentForge` class. For the sake of demonstration, we will here return a random float between 0 and 1, so that we don't spend tokens at evaluation."
   ]
  },
  {
   "cell_type": "code",
   "execution_count": 5,
   "metadata": {},
   "outputs": [
    {
     "name": "stderr",
     "output_type": "stream",
     "text": [
      "/Users/xabier/dev/ebiose-core/.venv/lib/python3.12/site-packages/pydantic/_internal/_generate_schema.py:502: UserWarning: <built-in function any> is not a Python type (it may be an instance of an object), Pydantic will allow any object with no validation since we cannot even enforce that the input is an instance of the given type. To get rid of this error wrap the type with `pydantic.SkipValidation`.\n",
      "  warn(\n"
     ]
    }
   ],
   "source": [
    "import random\n",
    "random.seed(7)\n",
    "\n",
    "from ebiose.core.agent import Agent\n",
    "from ebiose.core.agent_forge import AgentForge\n",
    "\n",
    "class BasicForge(AgentForge):\n",
    "    async def compute_fitness(self, agent: Agent, compute_token_id: str, **kwargs: dict[str, any]) -> float:\n",
    "        return random.random()"
   ]
  },
  {
   "cell_type": "markdown",
   "metadata": {},
   "source": [
    "We can now instantiate the forge with the provided elements:"
   ]
  },
  {
   "cell_type": "code",
   "execution_count": 6,
   "metadata": {},
   "outputs": [],
   "source": [
    "forge = BasicForge(\n",
    "    name=\"Basic forge\",\n",
    "    description=forge_description,\n",
    "    agent_input_model=AgentInput,\n",
    "    agent_output_model=AgentOutput,\n",
    "    default_generated_agent_engine_type=\"langgraph_engine\",\n",
    "    default_model_endpoint_id=\"azure-gpt-4o-mini\"\n",
    ")"
   ]
  },
  {
   "cell_type": "markdown",
   "metadata": {},
   "source": [
    "# Running a forge cycle\n",
    "\n",
    "Once the forge is instantiated, we can start generating agents by running a **forge cycle**. \n",
    "\n",
    "We must first define a list of available LLMs. Here, we will use GPT 4o mini only. "
   ]
  },
  {
   "cell_type": "code",
   "execution_count": 7,
   "metadata": {},
   "outputs": [],
   "source": [
    "\n",
    "# from ebiose.compute_intensive_batch_processor.compute_intensive_batch_processor import (\n",
    "#     ComputeIntensiveBatchProcessor,\n",
    "# )\n",
    "# ComputeIntensiveBatchProcessor.initialize()"
   ]
  },
  {
   "cell_type": "markdown",
   "metadata": {},
   "source": [
    "The forge cycle is based on an evolutionary algorithm that requires two types of specialized agents: \n",
    "- **architect agents** which are agents that generate other agents from scratch;\n",
    "- **genetic operator agents** which generate agents from one or several other existing agents.\n",
    "\n",
    "For now, hand-made architect and crossover agents are provided in the `GraphUtils` class. We can load them as follows:"
   ]
  },
  {
   "cell_type": "code",
   "execution_count": 8,
   "metadata": {},
   "outputs": [],
   "source": [
    "# from ebiose.core.engines.graph_engine.utils import GraphUtils\n",
    "\n",
    "# architect_agent = GraphUtils.get_architect_agent(model_endpoint_id=\"azure-gpt-4o-mini\")\n",
    "# crossover_agent = GraphUtils.get_crossover_agent(model_endpoint_id=\"azure-gpt-4o-mini\")"
   ]
  },
  {
   "cell_type": "markdown",
   "metadata": {},
   "source": [
    "These agents are required to instantiate an Ebiose ecosystem:"
   ]
  },
  {
   "cell_type": "code",
   "execution_count": 9,
   "metadata": {},
   "outputs": [],
   "source": [
    "# from ebiose.core.ecosystem import Ecosystem\n",
    "\n",
    "# ecosystem = Ecosystem(\n",
    "#     initial_architect_agents=[architect_agent],\n",
    "#     initial_genetic_operator_agents=[crossover_agent],\n",
    "# )"
   ]
  },
  {
   "cell_type": "markdown",
   "metadata": {},
   "source": [
    "The forge cycle can now be launched by providing the created ecosystem, a budget in dollars (the forge cycle will end once this budget is exhausted) and, optionally, a path in which created agents and fitness will be saved accross generations. Note that we need to use `asyncio.run` to launch the forge cycle.\n",
    "\n",
    "> 🚨 Before executing the following cell, check the amount of budget you have allocated!\n",
    "\n",
    "> 💡 If you are using VSCode, install the [*Markdown Preview Mermaid Support* extension](https://marketplace.visualstudio.com/items?itemName=bierner.markdown-mermaid) to allow the display of the generated agent's graphs."
   ]
  },
  {
   "cell_type": "code",
   "execution_count": 10,
   "metadata": {},
   "outputs": [
    {
     "name": "stderr",
     "output_type": "stream",
     "text": [
      "\u001b[1mStarting a new cycle for forge Basic forge\u001b[0m\n",
      "\u001b[1m****** Initializing agents population ******\u001b[0m\n",
      "\u001b[1mCreating 2 new agents with architect agents...\u001b[0m\n"
     ]
    },
    {
     "name": "stderr",
     "output_type": "stream",
     "text": [
      "  0%|          | 0/2 [00:00<?, ?it/s]\u001b[34m\u001b[1m\n",
      "Initializing structured output agent for model AgentOutput (1)\u001b[0m\n",
      "100%|██████████| 2/2 [00:20<00:00, 10.26s/it]\n",
      "\u001b[34m\u001b[1mAgent initialization cost: 0.0057550349999999995\u001b[0m\n",
      "\u001b[1mPopulation initialized with 2 agents\u001b[0m\n",
      "\u001b[1mInitialization of 2 agents took 0:00:20.541315\u001b[0m\n",
      "\u001b[1mBudget left after initialization: 0.004244965000000001 $\u001b[0m\n",
      "\u001b[1m****** Running generation 0 ******\u001b[0m\n",
      "\u001b[1mEvaluating current population of 2 agents...\u001b[0m\n",
      "100%|██████████| 2/2 [00:00<00:00, 826.14it/s]\n",
      "\u001b[34m\u001b[1mAgent agent-abee9a02-a5b8-4d75-84f9-16c005d2ff20 fitness: 0.45318437637077535, cost: 0.0\u001b[0m\n",
      "\u001b[34m\u001b[1mAgent agent-cf7039ea-969b-4a35-9b6b-7aa6cb19cb66 fitness: 0.29976699686368236, cost: 0.0\u001b[0m\n",
      "\u001b[1mEvaluation took 0:00:00.006082 for a total cost of 0.0 $\u001b[0m\n"
     ]
    },
    {
     "data": {
      "text/markdown": [
       "# Agent ID: agent-abee9a02-a5b8-4d75-84f9-16c005d2ff20\n",
       "## Fitness: 0.45318437637077535\n",
       "```mermaid \n",
       "graph LR\n",
       "\tStart_Node[start_node] --> Math_Problem_Solver(MathProblemSolver)\n",
       "\tMath_Problem_Solver(MathProblemSolver) --> End_Node[end_node]\n",
       " \n",
       "``` \n",
       "## Prompts:\n",
       "##### Shared context prompt\n",
       "You are part of a collaborative network of Large Language Models designed to solve math word problems through a structured and systematic approach. Each node in this network has a specific role: \n",
       "\n",
       "- The StartNode initiates the problem-solving process. \n",
       "- The LLM nodes analyze, reason, and generate solutions to the math word problems based on structured prompts, utilizing techniques like chain-of-thought reasoning and self-reflection. \n",
       "- The EndNode concludes the process by summarizing the findings.\n",
       "\n",
       "Your goal is to contribute meaningfully to the problem-solving cycle by effectively processing the information, generating insights, and seamlessly passing the results to the next node in the network.\n",
       "##### MathProblemSolver\n",
       "Given the math word problem presented to you, follow these steps to generate a structured approach for solving it:\n",
       "\n",
       "1. **Analysis**: Read the problem carefully and identify the key components, including the question, known variables, and any relationships between them.\n",
       "\n",
       "2. **Breakdown**: Decompose the problem into manageable parts. What information is directly given? What needs to be calculated?\n",
       "\n",
       "3. **Plan**: Develop a step-by-step plan to solve the problem. Clearly outline the mathematical operations you will use.\n",
       "\n",
       "4. **Execution**: Perform the calculations required and derive the answer. \n",
       "\n",
       "5. **Self-Reflection**: After reaching a solution, verify the process:\n",
       "   - Did you use the correct formulas and methods?\n",
       "   - Is the answer reasonable given the context of the problem?\n",
       "   - Are there alternative methods to reach the same solution?\n",
       "\n",
       "6. **Communication**: Summarize your findings, including the answer to the problem and the methodology used. Ensure that the output is clear and concise for the next node in the network.\n",
       "\n",
       "You are encouraged to think critically and creatively as you navigate through this problem. Your output will be crucial for the next node in the graph.\n",
       "\n",
       "# Agent ID: agent-cf7039ea-969b-4a35-9b6b-7aa6cb19cb66\n",
       "## Fitness: 0.29976699686368236\n",
       "```mermaid \n",
       "graph LR\n",
       "\tStart_Node[start_node] --> Llm_Node_1(Understanding Problem)\n",
       "\tLlm_Node_1(Understanding Problem) --> Llm_Node_2(Solving Problem)\n",
       "\tLlm_Node_2(Solving Problem) --> End_Node[end_node]\n",
       " \n",
       "``` \n",
       "## Prompts:\n",
       "##### Shared context prompt\n",
       "You are an AI model designed to solve math word problems through a collaborative network of Large Language Models (LLMs). Your task is to work within a structured graph consisting of distinct nodes that guide you through the problem-solving process. The nodes include an understanding phase, a solving phase, and an endpoint for delivering the final answer. Each node has a specific role:\n",
       "\n",
       "1. **Understanding Problem (LLMNode 1)**: Your goal is to comprehend the math word problem and extract key information required for solving it, including identifying the mathematical operations involved.\n",
       "\n",
       "2. **Solving Problem (LLMNode 2)**: Your task is to perform the necessary calculations and provide the solution based on the information received from the previous node.\n",
       "\n",
       "Remember to communicate clearly and effectively to ensure a seamless flow of information between nodes, and reflect on your reasoning process where applicable.\n",
       "##### Understanding Problem\n",
       "Read the following math word problem carefully. Your task is to extract the key information needed to solve it. Identify any numerical values, relationships, and mathematical operations implied by the problem. After gathering this information, summarize what you have understood and specify the mathematical operations you believe are involved. Ensure you provide clear reasoning for your choices. Here is the problem: [Insert math word problem here].\n",
       "##### Solving Problem\n",
       "Based on the information and mathematical operations identified by the previous node, perform the necessary calculations to solve the problem. Ensure that you clearly outline each step in your reasoning, detailing how you arrived at the solution. If there are multiple steps involved, break them down methodically. After completing the calculations, present the final answer and reflect on whether this solution seems correct, offering any additional insights or clarifications if necessary.\n",
       "\n"
      ],
      "text/plain": [
       "<IPython.core.display.Markdown object>"
      ]
     },
     "metadata": {},
     "output_type": "display_data"
    },
    {
     "name": "stderr",
     "output_type": "stream",
     "text": [
      "\u001b[34m\u001b[1mSaving current state to ../data/2025-03-04_19-41-52/generation=0\u001b[0m\n",
      "\u001b[1mStarting crossover and mutation...\u001b[0m\n",
      "\u001b[34m\u001b[1m\n",
      "Initializing structured output agent for model AgentOutput (2)\u001b[0m\n",
      "\u001b[34m\u001b[1mNumber of offsprings: 1/1\u001b[0m\n",
      "\u001b[1mCrossover and mutation completed in 0:00:14.073210 for a total cost of 0.00176121 $\u001b[0m\n",
      "\u001b[1mGeneration 0 completed in 0:00:14.103145 with a total cost of 0.00176121 $\u001b[0m\n",
      "\u001b[1mBudget left after first generation: 0.0024837550000000007 $\u001b[0m\n",
      "\u001b[1m****** Running generation 1 ******\u001b[0m\n",
      "\u001b[1mEvaluating current population of 2 agents...\u001b[0m\n",
      "100%|██████████| 2/2 [00:00<00:00, 2167.04it/s]\n",
      "\u001b[34m\u001b[1mAgent agent-cf7039ea-969b-4a35-9b6b-7aa6cb19cb66 fitness: 0.03920725704743766, cost: 0.0\u001b[0m\n",
      "\u001b[34m\u001b[1mAgent agent-e47992e7-babc-4ee7-b253-d3520b1de2c5 fitness: 0.6682158565343952, cost: 0.0\u001b[0m\n",
      "\u001b[1mEvaluation took 0:00:00.013505 for a total cost of 0.0 $\u001b[0m\n"
     ]
    },
    {
     "data": {
      "text/markdown": [
       "# Agent ID: agent-e47992e7-babc-4ee7-b253-d3520b1de2c5\n",
       "## Fitness: 0.6682158565343952\n",
       "```mermaid \n",
       "graph LR\n",
       "\tStart_Node[start_node] --> Math_Problem_Solver(MathProblemSolver)\n",
       "\tMath_Problem_Solver(MathProblemSolver) --> Math_Problem_Analyst(MathProblemAnalyst)\n",
       "\tMath_Problem_Analyst(MathProblemAnalyst) --> End_Node[end_node]\n",
       " \n",
       "``` \n",
       "## Prompts:\n",
       "##### Shared context prompt\n",
       "You are part of a collaborative network of Large Language Models designed to solve math word problems through a structured and systematic approach. Each node in this network has a specific role: \\n\\n- The StartNode initiates the problem-solving process. \\n- The LLM nodes analyze, reason, and generate solutions to the math word problems based on structured prompts, utilizing techniques like chain-of-thought reasoning and self-reflection. \\n- The EndNode concludes the process by summarizing the findings.\\n\\nYour goal is to contribute meaningfully to the problem-solving cycle by effectively processing the information, generating insights, and seamlessly passing the results to the next node in the network.\n",
       "##### MathProblemSolver\n",
       "Given the math word problem presented to you, follow these steps to generate a structured approach for solving it:\\n\\n1. **Analysis**: Identify the key components, including the question, known variables, and relationships.\\n\\n2. **Breakdown**: Decompose the problem into manageable parts. What is given? What needs calculation?\\n\\n3. **Plan**: Develop a step-by-step plan for solving the problem, detailing the mathematical operations required.\\n\\n4. **Execution**: Perform the required calculations to derive the answer.\\n\\n5. **Self-Reflection**: Verify the process:\\n   - Did you use the correct formulas?\\n   - Is the answer reasonable?\\n   - Are there alternative methods?\\n\\n6. **Communication**: Summarize your findings, including the answer and methodology. Ensure clarity for the next node.\n",
       "##### MathProblemAnalyst\n",
       "Review the structured approach generated by the Math Problem Solver. Consider:\\n1. Are there any logical flaws or missing steps?\\n2. Is the proposed solution efficient and clear?\\n3. Suggest alternative methods or simplifications if applicable.\\n\\nProvide a summary of your assessment and any recommendations for refining the solution.\n",
       "\n",
       "# Agent ID: agent-cf7039ea-969b-4a35-9b6b-7aa6cb19cb66\n",
       "## Fitness: 0.03920725704743766\n",
       "```mermaid \n",
       "graph LR\n",
       "\tStart_Node[start_node] --> Llm_Node_1(Understanding Problem)\n",
       "\tLlm_Node_1(Understanding Problem) --> Llm_Node_2(Solving Problem)\n",
       "\tLlm_Node_2(Solving Problem) --> End_Node[end_node]\n",
       " \n",
       "``` \n",
       "## Prompts:\n",
       "##### Shared context prompt\n",
       "You are an AI model designed to solve math word problems through a collaborative network of Large Language Models (LLMs). Your task is to work within a structured graph consisting of distinct nodes that guide you through the problem-solving process. The nodes include an understanding phase, a solving phase, and an endpoint for delivering the final answer. Each node has a specific role:\n",
       "\n",
       "1. **Understanding Problem (LLMNode 1)**: Your goal is to comprehend the math word problem and extract key information required for solving it, including identifying the mathematical operations involved.\n",
       "\n",
       "2. **Solving Problem (LLMNode 2)**: Your task is to perform the necessary calculations and provide the solution based on the information received from the previous node.\n",
       "\n",
       "Remember to communicate clearly and effectively to ensure a seamless flow of information between nodes, and reflect on your reasoning process where applicable.\n",
       "##### Understanding Problem\n",
       "Read the following math word problem carefully. Your task is to extract the key information needed to solve it. Identify any numerical values, relationships, and mathematical operations implied by the problem. After gathering this information, summarize what you have understood and specify the mathematical operations you believe are involved. Ensure you provide clear reasoning for your choices. Here is the problem: [Insert math word problem here].\n",
       "##### Solving Problem\n",
       "Based on the information and mathematical operations identified by the previous node, perform the necessary calculations to solve the problem. Ensure that you clearly outline each step in your reasoning, detailing how you arrived at the solution. If there are multiple steps involved, break them down methodically. After completing the calculations, present the final answer and reflect on whether this solution seems correct, offering any additional insights or clarifications if necessary.\n",
       "\n"
      ],
      "text/plain": [
       "<IPython.core.display.Markdown object>"
      ]
     },
     "metadata": {},
     "output_type": "display_data"
    },
    {
     "name": "stderr",
     "output_type": "stream",
     "text": [
      "\u001b[34m\u001b[1mSaving current state to ../data/2025-03-04_19-41-52/generation=1\u001b[0m\n",
      "\u001b[1mStarting crossover and mutation...\u001b[0m\n",
      "\u001b[34m\u001b[1mNumber of offsprings: 1/1\u001b[0m\n",
      "\u001b[1mCrossover and mutation completed in 0:00:16.400448 for a total cost of 0.00200541 $\u001b[0m\n",
      "\u001b[1mGeneration 1 completed in 0:00:16.447155 with a total cost of 0.00200541 $\u001b[0m\n",
      "\u001b[1mBudget left after new generation: 0.0004783449999999998 $\u001b[0m\n",
      "100%|██████████| 2/2 [00:00<00:00, 2477.44it/s]\n",
      "\u001b[34m\u001b[1mAgent agent-e47992e7-babc-4ee7-b253-d3520b1de2c5 fitness: 0.9930959394666341, cost: 0.0\u001b[0m\n",
      "\u001b[34m\u001b[1mAgent agent-6e32241e-d0a5-4731-a3c6-8e63b63973db fitness: 0.8219247866097149, cost: 0.0\u001b[0m\n",
      "\u001b[34m\u001b[1mSaving current state to ../data/2025-03-04_19-41-52/generation=2\u001b[0m\n",
      "\u001b[1mCycle completed in 0:00:51.127876 with a total cost of 0.009521655 $\u001b[0m\n",
      "\u001b[1mBudget left at final: 0.0004783449999999998 $\u001b[0m\n",
      "\u001b[1mReturning 10 best agents\u001b[0m\n"
     ]
    }
   ],
   "source": [
    "import asyncio\n",
    "import nest_asyncio\n",
    "\n",
    "from ebiose.core.evo_forging_cycle import EvoForgingCylceConfig\n",
    "nest_asyncio.apply()\n",
    "\n",
    "from pathlib import Path\n",
    "from datetime import UTC, datetime\n",
    "\n",
    "# the path where results will be saved\n",
    "current_time = datetime.now(UTC).strftime(\"%Y-%m-%d_%H-%M-%S\")\n",
    "SAVE_PATH = Path(f\"./../data/\") / current_time\n",
    "if not SAVE_PATH.exists():\n",
    "    SAVE_PATH.mkdir(parents=True)\n",
    "\n",
    "# budget for the forge cycle, in dollars\n",
    "BUDGET = 0.01\n",
    "\n",
    "cycle_config = EvoForgingCylceConfig(\n",
    "    budget=BUDGET,\n",
    "    n_agents_in_population=2,\n",
    "    n_selected_agents_from_ecosystem=0,\n",
    "    replacement_ratio=0.5,\n",
    "    save_path=SAVE_PATH\n",
    ")\n",
    "\n",
    "final_agents, final_fitness = asyncio.run(\n",
    "    forge.run_new_cycle(config=cycle_config)\n",
    ")\n"
   ]
  },
  {
   "cell_type": "markdown",
   "metadata": {},
   "source": [
    "We can now display the best agents that have been returned as follows. Note that:\n",
    "- all agents can be found in the `SAVE_PATH` directory if you defined one;\n",
    "- here, the compute fitness only returns a random float, so the following displayed agents have not been truly evaluated. \n",
    "\n",
    "Go check [examples/math_forge/math_forge.py](./../examples/math_forge/math_forge.py) to see a fully implemeted forge with a non-random fitness evaluation function."
   ]
  },
  {
   "cell_type": "code",
   "execution_count": 11,
   "metadata": {},
   "outputs": [
    {
     "data": {
      "text/markdown": [
       "# Agent ID: agent-e47992e7-babc-4ee7-b253-d3520b1de2c5\n",
       "## Fitness: 0.9930959394666341\n",
       "```mermaid \n",
       "graph LR\n",
       "\tStart_Node[start_node] --> Math_Problem_Solver(MathProblemSolver)\n",
       "\tMath_Problem_Solver(MathProblemSolver) --> Math_Problem_Analyst(MathProblemAnalyst)\n",
       "\tMath_Problem_Analyst(MathProblemAnalyst) --> End_Node[end_node]\n",
       " \n",
       "``` \n",
       "## Prompts:\n",
       "##### Shared context prompt\n",
       "You are part of a collaborative network of Large Language Models designed to solve math word problems through a structured and systematic approach. Each node in this network has a specific role: \\n\\n- The StartNode initiates the problem-solving process. \\n- The LLM nodes analyze, reason, and generate solutions to the math word problems based on structured prompts, utilizing techniques like chain-of-thought reasoning and self-reflection. \\n- The EndNode concludes the process by summarizing the findings.\\n\\nYour goal is to contribute meaningfully to the problem-solving cycle by effectively processing the information, generating insights, and seamlessly passing the results to the next node in the network.\n",
       "##### MathProblemSolver\n",
       "Given the math word problem presented to you, follow these steps to generate a structured approach for solving it:\\n\\n1. **Analysis**: Identify the key components, including the question, known variables, and relationships.\\n\\n2. **Breakdown**: Decompose the problem into manageable parts. What is given? What needs calculation?\\n\\n3. **Plan**: Develop a step-by-step plan for solving the problem, detailing the mathematical operations required.\\n\\n4. **Execution**: Perform the required calculations to derive the answer.\\n\\n5. **Self-Reflection**: Verify the process:\\n   - Did you use the correct formulas?\\n   - Is the answer reasonable?\\n   - Are there alternative methods?\\n\\n6. **Communication**: Summarize your findings, including the answer and methodology. Ensure clarity for the next node.\n",
       "##### MathProblemAnalyst\n",
       "Review the structured approach generated by the Math Problem Solver. Consider:\\n1. Are there any logical flaws or missing steps?\\n2. Is the proposed solution efficient and clear?\\n3. Suggest alternative methods or simplifications if applicable.\\n\\nProvide a summary of your assessment and any recommendations for refining the solution.\n",
       "\n",
       "# Agent ID: agent-6e32241e-d0a5-4731-a3c6-8e63b63973db\n",
       "## Fitness: 0.8219247866097149\n",
       "```mermaid \n",
       "graph LR\n",
       "\tStart_Node[start_node] --> Math_Problem_Solver(MathProblemSolver)\n",
       "\tMath_Problem_Solver(MathProblemSolver) --> Math_Problem_Analyst(MathProblemAnalyst)\n",
       "\tMath_Problem_Analyst(MathProblemAnalyst) --> Math_Problem_Reflector(MathProblemReflector)\n",
       "\tMath_Problem_Reflector(MathProblemReflector) --> End_Node[end_node]\n",
       " \n",
       "``` \n",
       "## Prompts:\n",
       "##### Shared context prompt\n",
       "You are part of a collaborative network of Large Language Models designed to solve math word problems through a structured and systematic approach. Each node in this network has a specific role: \\\\n\\\\n- The StartNode initiates the problem-solving process. \\\\n- The LLM nodes analyze, reason, and generate solutions to the math word problems based on structured prompts, utilizing techniques like chain-of-thought reasoning and self-reflection. \\\\n- The EndNode concludes the process by summarizing the findings.\\\\n\\\\nYour goal is to contribute meaningfully to the problem-solving cycle by effectively processing the information, generating insights, and seamlessly passing the results to the next node in the network.\n",
       "##### MathProblemSolver\n",
       "Given the math word problem presented to you, follow these steps to generate a structured approach for solving it:\\\\n\\\\n1. **Analysis**: Identify the key components, including the question, known variables, and relationships.\\\\n\\\\n2. **Breakdown**: Decompose the problem into manageable parts. What is given? What needs calculation?\\\\n\\\\n3. **Plan**: Develop a step-by-step plan for solving the problem, detailing the mathematical operations required.\\\\n\\\\n4. **Execution**: Perform the required calculations to derive the answer.\\\\n\\\\n5. **Self-Reflection**: Verify the process:\\\\n   - Did you use the correct formulas?\\\\n   - Is the answer reasonable?\\\\n   - Are there alternative methods?\\\\n\\\\n6. **Communication**: Summarize your findings, including the answer and methodology. Ensure clarity for the next node.\n",
       "##### MathProblemAnalyst\n",
       "Review the structured approach generated by the Math Problem Solver. Consider:\\\\n1. Are there any logical flaws or missing steps?\\\\n2. Is the proposed solution efficient and clear?\\\\n3. Suggest alternative methods or simplifications if applicable.\\\\n\\\\nProvide a summary of your assessment and any recommendations for refining the solution.\n",
       "##### MathProblemReflector\n",
       "Based on the feedback from the Math Problem Analyst, consider the following:\\\\n1. What specific aspects of the approach can be improved?\\\\n2. Are there any new angles to consider that haven't been addressed?\\\\n3. How can the methodology be adjusted for greater clarity and efficiency?\\\\n\\\\nProvide a revised structured approach for solving the problem.\n",
       "\n"
      ],
      "text/plain": [
       "<IPython.core.display.Markdown object>"
      ]
     },
     "metadata": {},
     "output_type": "display_data"
    }
   ],
   "source": [
    "forge.display_results(final_agents, final_fitness)"
   ]
  }
 ],
 "metadata": {
  "kernelspec": {
   "display_name": ".venv",
   "language": "python",
   "name": "python3"
  },
  "language_info": {
   "codemirror_mode": {
    "name": "ipython",
    "version": 3
   },
   "file_extension": ".py",
   "mimetype": "text/x-python",
   "name": "python",
   "nbconvert_exporter": "python",
   "pygments_lexer": "ipython3",
   "version": "3.12.8"
  }
 },
 "nbformat": 4,
 "nbformat_minor": 2
}
