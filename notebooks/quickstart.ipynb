{
 "cells": [
  {
   "cell_type": "markdown",
   "metadata": {},
   "source": [
    "# Create a forge and execute an evolution cycle\n",
    "In this notebook, we will go through the very few steps needed to run a forge cycle for a given budget. \n",
    "Before running this notebook, you must set up a few things:\n",
    "\n",
    "**Your access to LLM's providers:**\n",
    "\n",
    "To try Ebiose, you must have access to at least one LLM provider. To provide the credentials, copy-paste the [`model_endpoints_template.yml`](./../model_endpoints_template.yml) file, rename it as `model_endpoints.yml` and fill it with your own credentials.\n",
    "\n",
    "**Add the root directory to your Python path**\n",
    "\n",
    "Depending on your settings, you may need to add the root of the repository to your `PYTHONPATH` environment variable. You may also use a `.env` file to do so. copy-paste the [`.env.template`](./../.env.template) file, rename it as `.env` and fill it with your own root directory.\n",
    "\n",
    "**Use LangFuse for tracing**\n",
    "\n",
    "Ebiose has chosen LangFuse to provide easy and free observability, through its self-hosted capability. Refer to [Langfuse official documentation](https://langfuse.com/self-hosting) to set it up. Once done, fill `LANGFUSE_SECRET_KEY`, `LANGFUSE_PUBLIC_KEY` and `LANGFUSE_HOST` in the `.env` file.\n",
    "\n",
    "Other observability tools might be used but are not configured yet.\n",
    "\n",
    "**Load .env file**\n",
    "\n",
    "To load the `.env` file, execute:"
   ]
  },
  {
   "cell_type": "code",
   "execution_count": 1,
   "metadata": {},
   "outputs": [
    {
     "data": {
      "text/plain": [
       "True"
      ]
     },
     "execution_count": 1,
     "metadata": {},
     "output_type": "execute_result"
    }
   ],
   "source": [
    "from dotenv import load_dotenv\n",
    "load_dotenv()"
   ]
  },
  {
   "cell_type": "markdown",
   "metadata": {},
   "source": [
    "## Creating a basic forge\n",
    "\n",
    "In ebiose, a **forge** is where custom agents are created to solve specific problems. The forge is the exclusive origin of new agents. Within each forge, architects agents orchestrate the creation and improvement of agents by reusing existing building blocks from the ecosystem.\n",
    "\n",
    "To create a forge and run a cycle, you must provide the following:\n",
    "- a description of the forge, which defines the problem that must be solved by generated agents;\n",
    "- the expected format of the agent's input and output, defined as Pydantic models;\n",
    "- an implementation of the `compute_fitness` abstract method that will be used by the forge to evaluate the generated agents.\n",
    "\n",
    "Let's say we wich to generate agents specialized in solving math problems. The forge description could be:"
   ]
  },
  {
   "cell_type": "code",
   "execution_count": 2,
   "metadata": {},
   "outputs": [],
   "source": [
    "forge_description = \"Solving math word problems\""
   ]
  },
  {
   "cell_type": "markdown",
   "metadata": {},
   "source": [
    "Next, we need to define the expected input and output formats of the generated agents. These formats are to be defined as Pydantic models. \n",
    "\n",
    "For instance, in our context of solving math problems, we want the agent input to be a string which will represent the math problem to be solved and the agent output to be composed of two fields:\n",
    "- `solution` which will be the final solution to the math problem, given as an integer;\n",
    "- `rationale` which will be the rationale behind the found solution.\n",
    "\n",
    "The IO Pydantic models will thus be:"
   ]
  },
  {
   "cell_type": "code",
   "execution_count": 3,
   "metadata": {},
   "outputs": [],
   "source": [
    "from pydantic import BaseModel\n",
    "\n",
    "class AgentInput(BaseModel):\n",
    "        math_problem: str\n",
    "\n",
    "class AgentOutput(BaseModel):\n",
    "    solution: int\n",
    "    rationale: str"
   ]
  },
  {
   "cell_type": "markdown",
   "metadata": {},
   "source": [
    "Lastly, we must provide a way of evaluating the generated agents through the implementation of the `compute_fitness` abstract method of `AgentForge` class. For the sake of demonstration, we will here return a random float between 0 and 1, so that we don't spend tokens at evaluation."
   ]
  },
  {
   "cell_type": "code",
   "execution_count": 4,
   "metadata": {},
   "outputs": [
    {
     "name": "stderr",
     "output_type": "stream",
     "text": [
      "/Users/xabier/dev/ebiose-core/.venv/lib/python3.12/site-packages/pydantic/_internal/_generate_schema.py:502: UserWarning: <built-in function any> is not a Python type (it may be an instance of an object), Pydantic will allow any object with no validation since we cannot even enforce that the input is an instance of the given type. To get rid of this error wrap the type with `pydantic.SkipValidation`.\n",
      "  warn(\n"
     ]
    }
   ],
   "source": [
    "import random\n",
    "random.seed(7)\n",
    "\n",
    "from ebiose.core.agent import Agent\n",
    "from ebiose.core.agent_forge import AgentForge\n",
    "\n",
    "class BasicForge(AgentForge):\n",
    "    async def compute_fitness(self, agent: Agent, compute_token_id: str, **kwargs: dict[str, any]) -> float:\n",
    "        return random.random()"
   ]
  },
  {
   "cell_type": "markdown",
   "metadata": {},
   "source": [
    "We can now instantiate the forge with the provided elements:"
   ]
  },
  {
   "cell_type": "code",
   "execution_count": 5,
   "metadata": {},
   "outputs": [],
   "source": [
    "forge = BasicForge(\n",
    "    name=\"Basic forge\",\n",
    "    description=forge_description,\n",
    "    agent_input_model=AgentInput,\n",
    "    agent_output_model=AgentOutput,\n",
    "    default_generated_agent_engine_type=\"langgraph_engine\",\n",
    "    default_model_endpoint_id=\"azure-gpt-4o-mini\"\n",
    ")"
   ]
  },
  {
   "cell_type": "markdown",
   "metadata": {},
   "source": [
    "# Running a forge cycle\n",
    "\n",
    "Once the forge is instantiated, we can start generating agents by running a **forge cycle**. \n",
    "\n",
    "To do so, you must define:\n",
    "- a budget in dollars (the forge cycle will end once this budget is exhausted);\n",
    "- optionally, a path in which created agents and fitness will be saved accross generations. \n",
    "\n",
    "> ⚠️ Note that we need to use `asyncio.run` to launch the forge cycle.\n",
    "\n",
    "> 🚨 Before executing the following cell, check the amount of budget you have allocated!\n",
    "\n",
    "> 💡 If you are using VSCode, install the [*Markdown Preview Mermaid Support* extension](https://marketplace.visualstudio.com/items?itemName=bierner.markdown-mermaid) to allow the display of the generated agent's graphs."
   ]
  },
  {
   "cell_type": "code",
   "execution_count": 6,
   "metadata": {},
   "outputs": [
    {
     "name": "stderr",
     "output_type": "stream",
     "text": [
      "\u001b[1mStarting a new cycle for forge Basic forge\u001b[0m\n",
      "\u001b[1m****** Initializing agents population ******\u001b[0m\n",
      "\u001b[1mCreating 2 new agents with architect agents...\u001b[0m\n",
      "  0%|          | 0/2 [00:00<?, ?it/s]\u001b[34m\u001b[1m\n",
      "Initializing structured output agent for model AgentOutput (1)\u001b[0m\n",
      "100%|██████████| 2/2 [00:22<00:00, 11.34s/it]\n",
      "\u001b[34m\u001b[1mAgent initialization cost: 0.006066885\u001b[0m\n",
      "\u001b[1mPopulation initialized with 2 agents\u001b[0m\n",
      "\u001b[1mInitialization of 2 agents took 0:00:22.713719\u001b[0m\n",
      "\u001b[1mBudget left after initialization: 0.003933115 $\u001b[0m\n",
      "\u001b[1m****** Running generation 0 ******\u001b[0m\n",
      "\u001b[1mEvaluating current population of 2 agents...\u001b[0m\n",
      "100%|██████████| 2/2 [00:00<00:00, 2789.69it/s]\n",
      "\u001b[34m\u001b[1mAgent agent-36a33679-be06-4249-8504-77537d9e14ef fitness: 0.45318437637077535, cost: 0.0\u001b[0m\n",
      "\u001b[34m\u001b[1mAgent agent-81110ef2-e25a-4778-9074-31486c138f40 fitness: 0.29976699686368236, cost: 0.0\u001b[0m\n",
      "\u001b[1mEvaluation took 0:00:00.003377 for a total cost of 0.0 $\u001b[0m\n"
     ]
    },
    {
     "data": {
      "text/markdown": [
       "# Agent ID: agent-36a33679-be06-4249-8504-77537d9e14ef\n",
       "## Fitness: 0.45318437637077535\n",
       "```mermaid \n",
       "graph LR\n",
       "\tStart_Node[start_node] --> Llm_Node(Math Problem Understanding LLM)\n",
       "\tLlm_Node(Math Problem Understanding LLM) --> End_Node[end_node]\n",
       " \n",
       "``` \n",
       "## Prompts:\n",
       "##### Shared context prompt\n",
       "You are part of an AI model designed to collaboratively solve math word problems. Each node in this network has a specific role in the problem-solving process. Your task is to process information, draw insights, and communicate effectively with other nodes. The Math Problem Understanding LLM node will analyze the input problem, extracting key information and formulating an approach. You must ensure that your responses are clear, logical, and conducive to further problem-solving steps. Each interaction with the next node should provide all necessary information derived from your analysis.\n",
       "##### Math Problem Understanding LLM\n",
       "Analyze the following math word problem and identify the key elements necessary for solving it. Break down the problem into its components, such as the quantities involved, the operations required, and any relationships between the elements. Use chain-of-thought reasoning to articulate your understanding clearly. After your analysis, summarize the approach you recommend for solving the problem, including any assumptions you make. Finally, reflect on whether the problem has any ambiguities that need clarification, and prepare a concise summary of your findings to pass on to the next node. \n",
       "\n",
       "Here is the math word problem: 'A farmer has 20 apples. He gives 5 apples to his friend and then buys 10 more apples. How many apples does he have now?'\n",
       "\n",
       "# Agent ID: agent-81110ef2-e25a-4778-9074-31486c138f40\n",
       "## Fitness: 0.29976699686368236\n",
       "```mermaid \n",
       "graph LR\n",
       "\tStart_Node[start_node] --> Llm_Node_1(Information Extractor)\n",
       "\tLlm_Node_1(Information Extractor) --> Llm_Node_2(Solution Generator)\n",
       "\tLlm_Node_2(Solution Generator) --> End_Node[end_node]\n",
       " \n",
       "``` \n",
       "## Prompts:\n",
       "##### Shared context prompt\n",
       "You are part of a collaborative AI model designed to solve math word problems. Each node in this system has a specific role: \n",
       "1. The Information Extractor identifies and extracts key information and variables from the word problem.\n",
       "2. The Solution Generator creates a structured mathematical representation and outlines a potential solution approach.\n",
       "\n",
       "Work together to ensure a seamless flow of information. Pay attention to the outputs of the previous node and leverage your unique capabilities to enhance the problem-solving process. Provide clear and comprehensive outputs that can be easily understood by the next node in the sequence.\n",
       "##### Information Extractor\n",
       "Your task is to read the provided math word problem and extract essential information, including numbers, operations, and relationships between variables.\n",
       "\n",
       "1. Identify key elements of the problem: What are the main subjects involved? What quantities are given, and what is being asked?\n",
       "2. Clearly list the relevant information you find, including any mathematical terms or phrases that indicate operations (e.g., sum, difference, product, etc.).\n",
       "3. Ensure that you present the extracted information in a structured format that the next node can easily interpret.\n",
       "\n",
       "For example, if the problem is: \"Alice has 5 apples, and Bob gives her 3 more. How many apples does she have now?\" your output should indicate:\n",
       "- Subjects: Alice, Bob\n",
       "- Given quantities: 5 apples (Alice), 3 apples (Bob)\n",
       "- Operation: Addition (5 + 3)\n",
       "- Question: How many apples does Alice have now?\n",
       "\n",
       "Please proceed with the extraction process now.\n",
       "##### Solution Generator\n",
       "Your role is to take the information provided by the Information Extractor and formulate a structured mathematical representation of the problem, along with a proposed solution strategy.\n",
       "\n",
       "1. Begin by reviewing the extracted information from the previous node. Ensure that you understand the key variables and the relationships identified.\n",
       "2. Create a mathematical equation or model based on the information provided. Clearly articulate the steps needed to arrive at the solution.\n",
       "3. Explain your reasoning and decision-making process. If necessary, provide alternative methods or approaches to solve the problem.\n",
       "4. Clearly present the final answer to the problem, ensuring it is well-formulated and easy to understand.\n",
       "\n",
       "For example, if the extracted information indicated: \n",
       "- Subjects: Alice, Bob\n",
       "- Given quantities: 5 apples, 3 apples\n",
       "- Operation: Addition\n",
       "You might respond with: \"To find the total number of apples Alice has, we can express this as an equation: Total apples = 5 + 3. Therefore, Alice has 8 apples.\"\n",
       "\n",
       "Please generate the structured mathematical representation and the solution now.\n",
       "\n"
      ],
      "text/plain": [
       "<IPython.core.display.Markdown object>"
      ]
     },
     "metadata": {},
     "output_type": "display_data"
    },
    {
     "name": "stderr",
     "output_type": "stream",
     "text": [
      "\u001b[34m\u001b[1mSaving current state to ../data/2025-03-05_21-36-46/generation=0\u001b[0m\n",
      "\u001b[1mStarting crossover and mutation...\u001b[0m\n",
      "\u001b[34m\u001b[1m\n",
      "Initializing structured output agent for model AgentOutput (2)\u001b[0m\n",
      "\u001b[34m\u001b[1mNumber of offsprings: 1/1\u001b[0m\n",
      "\u001b[1mCrossover and mutation completed in 0:00:14.930166 for a total cost of 0.00157839 $\u001b[0m\n",
      "\u001b[1mGeneration 0 completed in 0:00:14.978140 with a total cost of 0.00157839 $\u001b[0m\n",
      "\u001b[1mBudget left after first generation: 0.0023547250000000002 $\u001b[0m\n",
      "\u001b[1m****** Running generation 1 ******\u001b[0m\n",
      "\u001b[1mEvaluating current population of 2 agents...\u001b[0m\n",
      "100%|██████████| 2/2 [00:00<00:00, 2864.96it/s]\n",
      "\u001b[34m\u001b[1mAgent agent-81110ef2-e25a-4778-9074-31486c138f40 fitness: 0.03920725704743766, cost: 0.0\u001b[0m\n",
      "\u001b[34m\u001b[1mAgent agent-0fbe36fc-3c48-4c6b-8ec6-b98d72328505 fitness: 0.6682158565343952, cost: 0.0\u001b[0m\n",
      "\u001b[1mEvaluation took 0:00:00.003313 for a total cost of 0.0 $\u001b[0m\n"
     ]
    },
    {
     "data": {
      "text/markdown": [
       "# Agent ID: agent-0fbe36fc-3c48-4c6b-8ec6-b98d72328505\n",
       "## Fitness: 0.6682158565343952\n",
       "```mermaid \n",
       "graph LR\n",
       "\tStart_Node[start_node] --> Llm_Node_1(Math Problem Understanding LLM)\n",
       "\tLlm_Node_1(Math Problem Understanding LLM) --> Llm_Node_2(Math Problem Solution LLM)\n",
       "\tLlm_Node_2(Math Problem Solution LLM) --> End_Node[end_node]\n",
       " \n",
       "``` \n",
       "## Prompts:\n",
       "##### Shared context prompt\n",
       "You are part of an AI model designed to collaboratively solve math word problems. Each node in this network has a specific role in the problem-solving process. Your task is to process information, draw insights, and communicate effectively with other nodes. The Math Problem Understanding LLM node will analyze the input problem, extracting key information and formulating an approach. The Math Problem Solution LLM will compute the answer based on the first node's analysis. You must ensure that your responses are clear, logical, and conducive to further problem-solving steps. Each interaction with the next node should provide all necessary information derived from your analysis.\n",
       "##### Math Problem Understanding LLM\n",
       "Analyze the following math word problem and identify the key elements necessary for solving it. Break down the problem into its components, such as the quantities involved, the operations required, and any relationships between the elements. Use chain-of-thought reasoning to articulate your understanding clearly. After your analysis, summarize the approach you recommend for solving the problem, including any assumptions you make. Finally, reflect on whether the problem has any ambiguities that need clarification, and prepare a concise summary of your findings to pass on to the next node. \n",
       "\n",
       "Here is the math word problem: 'A farmer has 20 apples. He gives 5 apples to his friend and then buys 10 more apples. How many apples does he have now?'\n",
       "##### Math Problem Solution LLM\n",
       "Using the analysis provided, compute the final answer to the math word problem. Ensure that all steps are clearly shown, and check for any potential mistakes or misunderstandings in the previous analysis. Provide a clear explanation of how you arrived at the answer.\n",
       "\n",
       "# Agent ID: agent-81110ef2-e25a-4778-9074-31486c138f40\n",
       "## Fitness: 0.03920725704743766\n",
       "```mermaid \n",
       "graph LR\n",
       "\tStart_Node[start_node] --> Llm_Node_1(Information Extractor)\n",
       "\tLlm_Node_1(Information Extractor) --> Llm_Node_2(Solution Generator)\n",
       "\tLlm_Node_2(Solution Generator) --> End_Node[end_node]\n",
       " \n",
       "``` \n",
       "## Prompts:\n",
       "##### Shared context prompt\n",
       "You are part of a collaborative AI model designed to solve math word problems. Each node in this system has a specific role: \n",
       "1. The Information Extractor identifies and extracts key information and variables from the word problem.\n",
       "2. The Solution Generator creates a structured mathematical representation and outlines a potential solution approach.\n",
       "\n",
       "Work together to ensure a seamless flow of information. Pay attention to the outputs of the previous node and leverage your unique capabilities to enhance the problem-solving process. Provide clear and comprehensive outputs that can be easily understood by the next node in the sequence.\n",
       "##### Information Extractor\n",
       "Your task is to read the provided math word problem and extract essential information, including numbers, operations, and relationships between variables.\n",
       "\n",
       "1. Identify key elements of the problem: What are the main subjects involved? What quantities are given, and what is being asked?\n",
       "2. Clearly list the relevant information you find, including any mathematical terms or phrases that indicate operations (e.g., sum, difference, product, etc.).\n",
       "3. Ensure that you present the extracted information in a structured format that the next node can easily interpret.\n",
       "\n",
       "For example, if the problem is: \"Alice has 5 apples, and Bob gives her 3 more. How many apples does she have now?\" your output should indicate:\n",
       "- Subjects: Alice, Bob\n",
       "- Given quantities: 5 apples (Alice), 3 apples (Bob)\n",
       "- Operation: Addition (5 + 3)\n",
       "- Question: How many apples does Alice have now?\n",
       "\n",
       "Please proceed with the extraction process now.\n",
       "##### Solution Generator\n",
       "Your role is to take the information provided by the Information Extractor and formulate a structured mathematical representation of the problem, along with a proposed solution strategy.\n",
       "\n",
       "1. Begin by reviewing the extracted information from the previous node. Ensure that you understand the key variables and the relationships identified.\n",
       "2. Create a mathematical equation or model based on the information provided. Clearly articulate the steps needed to arrive at the solution.\n",
       "3. Explain your reasoning and decision-making process. If necessary, provide alternative methods or approaches to solve the problem.\n",
       "4. Clearly present the final answer to the problem, ensuring it is well-formulated and easy to understand.\n",
       "\n",
       "For example, if the extracted information indicated: \n",
       "- Subjects: Alice, Bob\n",
       "- Given quantities: 5 apples, 3 apples\n",
       "- Operation: Addition\n",
       "You might respond with: \"To find the total number of apples Alice has, we can express this as an equation: Total apples = 5 + 3. Therefore, Alice has 8 apples.\"\n",
       "\n",
       "Please generate the structured mathematical representation and the solution now.\n",
       "\n"
      ],
      "text/plain": [
       "<IPython.core.display.Markdown object>"
      ]
     },
     "metadata": {},
     "output_type": "display_data"
    },
    {
     "name": "stderr",
     "output_type": "stream",
     "text": [
      "\u001b[34m\u001b[1mSaving current state to ../data/2025-03-05_21-36-46/generation=1\u001b[0m\n",
      "\u001b[1mStarting crossover and mutation...\u001b[0m\n",
      "\u001b[34m\u001b[1mNumber of offsprings: 1/1\u001b[0m\n",
      "\u001b[1mCrossover and mutation completed in 0:00:15.501519 for a total cost of 0.0019148250000000002 $\u001b[0m\n",
      "\u001b[1mGeneration 1 completed in 0:00:15.512495 with a total cost of 0.0019148250000000002 $\u001b[0m\n",
      "\u001b[1mBudget left after new generation: 0.0004399 $\u001b[0m\n",
      "100%|██████████| 2/2 [00:00<00:00, 3269.14it/s]\n",
      "\u001b[34m\u001b[1mAgent agent-0fbe36fc-3c48-4c6b-8ec6-b98d72328505 fitness: 0.9930959394666341, cost: 0.0\u001b[0m\n",
      "\u001b[34m\u001b[1mAgent agent-3ad00409-8ad3-4376-b188-3969aa3b05c8 fitness: 0.8219247866097149, cost: 0.0\u001b[0m\n",
      "\u001b[34m\u001b[1mSaving current state to ../data/2025-03-05_21-36-46/generation=2\u001b[0m\n",
      "\u001b[1mCycle completed in 0:00:53.218038 with a total cost of 0.0095601 $\u001b[0m\n",
      "\u001b[1mBudget left at final: 0.0004399 $\u001b[0m\n",
      "\u001b[1mReturning 2 best agents\u001b[0m\n"
     ]
    }
   ],
   "source": [
    "import asyncio\n",
    "import nest_asyncio\n",
    "\n",
    "from ebiose.core.evo_forging_cycle import EvoForgingCylceConfig\n",
    "nest_asyncio.apply()\n",
    "\n",
    "from pathlib import Path\n",
    "from datetime import UTC, datetime\n",
    "\n",
    "# the path where results will be saved\n",
    "current_time = datetime.now(UTC).strftime(\"%Y-%m-%d_%H-%M-%S\")\n",
    "SAVE_PATH = Path(f\"./../data/\") / current_time\n",
    "if not SAVE_PATH.exists():\n",
    "    SAVE_PATH.mkdir(parents=True)\n",
    "\n",
    "\n",
    "cycle_config = EvoForgingCylceConfig(\n",
    "    budget=0.01, # the budget for the forge cycle in dollas\n",
    "    n_agents_in_population=2, # number of agents in the population, at each generation\n",
    "    n_selected_agents_from_ecosystem=0, # number of agents selected from the ecosystem at initialization\n",
    "    n_best_agents_to_return=2, # number of best agents to return at the end of the cycle\n",
    "    replacement_ratio=0.5, # ratio of agents replaced at each generation\n",
    "    save_path=SAVE_PATH, # the path where results will be saved (optional)\n",
    ")\n",
    "\n",
    "final_agents, final_fitness = asyncio.run(\n",
    "    forge.run_new_cycle(config=cycle_config)\n",
    ")\n"
   ]
  },
  {
   "cell_type": "markdown",
   "metadata": {},
   "source": [
    "We can now display the best agents that have been returned as follows. Note that:\n",
    "- all agents can be found in the `SAVE_PATH` directory if you defined one;\n",
    "- here, the compute fitness only returns a random float, so the following displayed agents have not been truly evaluated. \n",
    "\n",
    "Go check [examples/math_forge/math_forge.py](./../examples/math_forge/math_forge.py) to see a fully implemeted forge with a non-random fitness evaluation function."
   ]
  },
  {
   "cell_type": "code",
   "execution_count": 7,
   "metadata": {},
   "outputs": [
    {
     "data": {
      "text/markdown": [
       "# Agent ID: agent-0fbe36fc-3c48-4c6b-8ec6-b98d72328505\n",
       "## Fitness: 0.9930959394666341\n",
       "```mermaid \n",
       "graph LR\n",
       "\tStart_Node[start_node] --> Llm_Node_1(Math Problem Understanding LLM)\n",
       "\tLlm_Node_1(Math Problem Understanding LLM) --> Llm_Node_2(Math Problem Solution LLM)\n",
       "\tLlm_Node_2(Math Problem Solution LLM) --> End_Node[end_node]\n",
       " \n",
       "``` \n",
       "## Prompts:\n",
       "##### Shared context prompt\n",
       "You are part of an AI model designed to collaboratively solve math word problems. Each node in this network has a specific role in the problem-solving process. Your task is to process information, draw insights, and communicate effectively with other nodes. The Math Problem Understanding LLM node will analyze the input problem, extracting key information and formulating an approach. The Math Problem Solution LLM will compute the answer based on the first node's analysis. You must ensure that your responses are clear, logical, and conducive to further problem-solving steps. Each interaction with the next node should provide all necessary information derived from your analysis.\n",
       "##### Math Problem Understanding LLM\n",
       "Analyze the following math word problem and identify the key elements necessary for solving it. Break down the problem into its components, such as the quantities involved, the operations required, and any relationships between the elements. Use chain-of-thought reasoning to articulate your understanding clearly. After your analysis, summarize the approach you recommend for solving the problem, including any assumptions you make. Finally, reflect on whether the problem has any ambiguities that need clarification, and prepare a concise summary of your findings to pass on to the next node. \n",
       "\n",
       "Here is the math word problem: 'A farmer has 20 apples. He gives 5 apples to his friend and then buys 10 more apples. How many apples does he have now?'\n",
       "##### Math Problem Solution LLM\n",
       "Using the analysis provided, compute the final answer to the math word problem. Ensure that all steps are clearly shown, and check for any potential mistakes or misunderstandings in the previous analysis. Provide a clear explanation of how you arrived at the answer.\n",
       "\n",
       "# Agent ID: agent-3ad00409-8ad3-4376-b188-3969aa3b05c8\n",
       "## Fitness: 0.8219247866097149\n",
       "```mermaid \n",
       "graph LR\n",
       "\tStart_Node[start_node] --> Llm_Node_1(Math Problem Understanding LLM)\n",
       "\tLlm_Node_1(Math Problem Understanding LLM) --> Llm_Node_2(Math Problem Validation LLM)\n",
       "\tLlm_Node_2(Math Problem Validation LLM) --> Llm_Node_3(Math Problem Solution LLM)\n",
       "\tLlm_Node_3(Math Problem Solution LLM) --> End_Node[end_node]\n",
       " \n",
       "``` \n",
       "## Prompts:\n",
       "##### Shared context prompt\n",
       "You are part of an AI model designed to collaboratively solve math word problems. Each node in this network has a specific role in the problem-solving process. Your task is to process information, draw insights, and communicate effectively with other nodes. The Math Problem Understanding LLM node will analyze the input problem, extracting key information and formulating an approach. The Math Problem Validation LLM will review the analysis for any potential errors. The Math Problem Solution LLM will compute the answer based on the validated analysis. You must ensure that your responses are clear, logical, and conducive to further problem-solving steps. Each interaction with the next node should provide all necessary information derived from your analysis.\n",
       "##### Math Problem Understanding LLM\n",
       "Analyze the following math word problem and identify the key elements necessary for solving it. Break down the problem into its components, such as the quantities involved, the operations required, and any relationships between the elements. Use chain-of-thought reasoning to articulate your understanding clearly. After your analysis, summarize the approach you recommend for solving the problem, including any assumptions you make. Finally, reflect on whether the problem has any ambiguities that need clarification, and prepare a concise summary of your findings to pass on to the next node. \\n\\nHere is the math word problem: 'A farmer has 20 apples. He gives 5 apples to his friend and then buys 10 more apples. How many apples does he have now?'\n",
       "##### Math Problem Validation LLM\n",
       "Based on the analysis from the previous step, validate the approach and check for any potential misunderstandings or oversights. Highlight any ambiguities or critical points that need clarification before proceeding to compute the final answer. Provide feedback for improvement if necessary.\n",
       "##### Math Problem Solution LLM\n",
       "Using the validated analysis provided, compute the final answer to the math word problem. Ensure that all steps are clearly shown, and check for any potential mistakes or misunderstandings in the previous analysis. Provide a clear explanation of how you arrived at the answer.\n",
       "\n"
      ],
      "text/plain": [
       "<IPython.core.display.Markdown object>"
      ]
     },
     "metadata": {},
     "output_type": "display_data"
    }
   ],
   "source": [
    "forge.display_results(final_agents, final_fitness)"
   ]
  }
 ],
 "metadata": {
  "kernelspec": {
   "display_name": ".venv",
   "language": "python",
   "name": "python3"
  },
  "language_info": {
   "codemirror_mode": {
    "name": "ipython",
    "version": 3
   },
   "file_extension": ".py",
   "mimetype": "text/x-python",
   "name": "python",
   "nbconvert_exporter": "python",
   "pygments_lexer": "ipython3",
   "version": "3.12.8"
  }
 },
 "nbformat": 4,
 "nbformat_minor": 2
}
