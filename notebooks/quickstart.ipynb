{
 "cells": [
  {
   "cell_type": "markdown",
   "metadata": {},
   "source": [
    "# Create a forge and execute an evolution cycle\n",
    "In this notebook, we will go through the very few steps needed to run a forge cycle for a given budget. \n",
    "\n",
    "As of today, the easiest way to experiment with Ebiose is to use the OpenAI API. To do so, all you have to do is to set your OpenAI API key via an .env file or by replacing `\"your-open-api-key\"` in the following code block:"
   ]
  },
  {
   "cell_type": "code",
   "execution_count": 1,
   "metadata": {},
   "outputs": [],
   "source": [
    "import os \n",
    "from dotenv import load_dotenv\n",
    "load_dotenv()\n",
    "if \"OPENAI_API_KEY\" not in os.environ:\n",
    "    os.environ[\"OPENAI_API_KEY\"] = \"your-openai-api-key\""
   ]
  },
  {
   "cell_type": "markdown",
   "metadata": {},
   "source": [
    "> 💡 Recall that you may need to add the root of the repository to your `PYTHONPATH` environment variable. You may also use a `.env` file to do so or execute the following:\n"
   ]
  },
  {
   "cell_type": "code",
   "execution_count": 2,
   "metadata": {},
   "outputs": [],
   "source": [
    "import sys\n",
    "sys.path.append(\"./../\")\n"
   ]
  },
  {
   "cell_type": "markdown",
   "metadata": {},
   "source": [
    "## Creating a basic forge\n",
    "\n",
    "In ebiose, a **forge** is where custom agents are created to solve specific problems. The forge is the exclusive origin of new agents. Within each forge, architects agents orchestrate the creation and improvement of agents by reusing existing building blocks from the ecosystem.\n",
    "\n",
    "To create a forge and run a cycle, you must provide the following:\n",
    "- a description of the forge, which defines the problem that must be solved by generated agents;\n",
    "- the expected format of the agent's input and output, defined as Pydantic models;\n",
    "- an implementation of the `compute_fitness` abstract method that will be used by the forge to evaluate the generated agents.\n",
    "\n",
    "Let's say we wich to generate agents specialized in solving math problems. The forge description could be:"
   ]
  },
  {
   "cell_type": "code",
   "execution_count": 3,
   "metadata": {},
   "outputs": [],
   "source": [
    "forge_description = \"Solving math word problems\""
   ]
  },
  {
   "cell_type": "markdown",
   "metadata": {},
   "source": [
    "Next, we need to define the expected input and output formats of the generated agents. These formats are to be defined as Pydantic models. \n",
    "\n",
    "For instance, in our context of solving math problems, we want the agent input to be a string which will represent the math problem to be solved and the agent output to be composed of two fields:\n",
    "- `solution` which will be the final solution to the math problem, given as an integer;\n",
    "- `rationale` which will be the rationale behind the found solution.\n",
    "\n",
    "The IO Pydantic models will thus be:"
   ]
  },
  {
   "cell_type": "code",
   "execution_count": 4,
   "metadata": {},
   "outputs": [],
   "source": [
    "from pydantic import BaseModel\n",
    "\n",
    "class AgentInput(BaseModel):\n",
    "        math_problem: str\n",
    "\n",
    "class AgentOutput(BaseModel):\n",
    "    solution: int\n",
    "    rationale: str"
   ]
  },
  {
   "cell_type": "markdown",
   "metadata": {},
   "source": [
    "Lastly, we must provide a way of evaluating the generated agents through the implementation of the `compute_fitness` abstract method of `AgentForge` class. For the sake of demonstration, we will here return a random float between 0 and 1, so that we don't spend tokens at evaluation."
   ]
  },
  {
   "cell_type": "code",
   "execution_count": 5,
   "metadata": {},
   "outputs": [
    {
     "name": "stderr",
     "output_type": "stream",
     "text": [
      "/Users/xabier/dev/ebiose-core/.venv/lib/python3.12/site-packages/pydantic/_internal/_generate_schema.py:502: UserWarning: <built-in function any> is not a Python type (it may be an instance of an object), Pydantic will allow any object with no validation since we cannot even enforce that the input is an instance of the given type. To get rid of this error wrap the type with `pydantic.SkipValidation`.\n",
      "  warn(\n"
     ]
    }
   ],
   "source": [
    "import random\n",
    "random.seed(7)\n",
    "\n",
    "from ebiose.core.agent import Agent\n",
    "from ebiose.core.agent_forge import AgentForge\n",
    "\n",
    "class BasicForge(AgentForge):\n",
    "    async def compute_fitness(self, agent: Agent, compute_token_id: str, **kwargs: dict[str, any]) -> float:\n",
    "        return random.random()"
   ]
  },
  {
   "cell_type": "markdown",
   "metadata": {},
   "source": [
    "We can now instantiate the forge with the provided elements:"
   ]
  },
  {
   "cell_type": "code",
   "execution_count": 6,
   "metadata": {},
   "outputs": [],
   "source": [
    "forge = BasicForge(\n",
    "    name=\"Basic forge\",\n",
    "    description=forge_description,\n",
    "    agent_input_model=AgentInput,\n",
    "    agent_output_model=AgentOutput,\n",
    "    default_generated_agent_engine_type=\"langgraph_engine\",\n",
    "    default_model_endpoint_id=\"gpt-4o-mini\"\n",
    ")"
   ]
  },
  {
   "cell_type": "markdown",
   "metadata": {},
   "source": [
    "# Running a forge cycle\n",
    "\n",
    "Once the forge is instantitated, we can start generating agents by running a **forge cycle**. \n",
    "\n",
    "We must first define a list of available LLMs. Here, we will use GPT 4o mini only. "
   ]
  },
  {
   "cell_type": "code",
   "execution_count": 7,
   "metadata": {},
   "outputs": [],
   "source": [
    "\n",
    "from ebiose.core.model_endpoint import ModelEndpoint, ModelSize, ModelType\n",
    "\n",
    "available_models = [\n",
    "    ModelEndpoint(\n",
    "        endpoint_id=\"gpt-4o-mini\",\n",
    "        model_name=\"GPT-4o-mini\",\n",
    "    ),\n",
    "]"
   ]
  },
  {
   "cell_type": "markdown",
   "metadata": {},
   "source": [
    "In Ebiose, all calls to LLMs (and, in a next future, for any other type of call that costs) are managed by the `ComputeIntensiveBatchProcessor` static class. This class must be initialized with the list of available models, as follows:"
   ]
  },
  {
   "cell_type": "code",
   "execution_count": 8,
   "metadata": {},
   "outputs": [],
   "source": [
    "from ebiose.compute_intensive_batch_processor.compute_intensive_batch_processor import (\n",
    "    ComputeIntensiveBatchProcessor,\n",
    ")\n",
    "ComputeIntensiveBatchProcessor.initialize(available_models)"
   ]
  },
  {
   "cell_type": "markdown",
   "metadata": {},
   "source": [
    "The forge cycle is based on an evolutionary algorithm that requires two types of specialized agents: \n",
    "- **architect agents** which are agents that generate other agents from scratch;\n",
    "- **genetic operator agents** which generate agents from one or several other existing agents.\n",
    "\n",
    "For now, hand-made architect and crossover agents are provided in the `GraphUtils` class. We can load them as follows:"
   ]
  },
  {
   "cell_type": "code",
   "execution_count": 9,
   "metadata": {},
   "outputs": [],
   "source": [
    "from ebiose.core.engines.graph_engine.utils import GraphUtils\n",
    "\n",
    "architect_agent = GraphUtils.get_architect_agent(model_endpoint_id=\"gpt-4o-mini\")\n",
    "crossover_agent = GraphUtils.get_crossover_agent(model_endpoint_id=\"gpt-4o-mini\")"
   ]
  },
  {
   "cell_type": "markdown",
   "metadata": {},
   "source": [
    "These agents are required to instantiate an Ebiose ecosystem:"
   ]
  },
  {
   "cell_type": "code",
   "execution_count": 10,
   "metadata": {},
   "outputs": [],
   "source": [
    "from ebiose.core.ecosystem import Ecosystem\n",
    "\n",
    "ecosystem = Ecosystem(\n",
    "    initial_architect_agents=[architect_agent],\n",
    "    initial_genetic_operator_agents=[crossover_agent],\n",
    ")"
   ]
  },
  {
   "cell_type": "markdown",
   "metadata": {},
   "source": [
    "The forge cycle can now be launched by providing the created ecosystem, a budget in dollars (the forge cycle will end once this budget is exhausted) and, optionally, a path in which created agents and fitness will be saved accross generations. Note that we need to use `asyncio.run` to launch the forge cycle.\n",
    "\n",
    "> 🚨 Before executing the following cell, check the amount of budget you have allocated!\n",
    "\n",
    "> 💡 If you are using VSCode, install the [*Markdown Preview Mermaid Support* extension](https://marketplace.visualstudio.com/items?itemName=bierner.markdown-mermaid) to allow the display of the generated agent's graphs."
   ]
  },
  {
   "cell_type": "code",
   "execution_count": 11,
   "metadata": {},
   "outputs": [
    {
     "name": "stderr",
     "output_type": "stream",
     "text": [
      "\u001b[1mStarting a new cycle for forge Basic forge\u001b[0m\n",
      "\u001b[1m****** Initializing agents population ******\u001b[0m\n",
      "\u001b[1mCreating 2 new agents with architect agents...\u001b[0m\n",
      "  0%|          | 0/2 [00:00<?, ?it/s]\u001b[34m\u001b[1mInitializing structured output agent for model with fields {'edges': FieldInfo(annotation=list[Edge], required=False, default_factory=list, description='list of edges in the graph'), 'nodes': FieldInfo(annotation=list[Union[StartNode, EndNode, LLMNode, PydanticValidatorNode, RegexRoutingNode]], required=False, default_factory=list, description='list of nodes in the graph'), 'description': FieldInfo(annotation=str, required=False, default=''), 'shared_context_prompt': FieldInfo(annotation=str, required=True, metadata=[MinLen(min_length=1)])} (1)\u001b[0m\n",
      "100%|██████████| 2/2 [00:33<00:00, 16.56s/it]\n",
      "\u001b[34m\u001b[1mAgent initialization cost: 0.005591549999999999\u001b[0m\n",
      "\u001b[1mPopulation initialized with 2 agents\u001b[0m\n",
      "\u001b[1mInitialization of 2 agents took 0:00:33.154832\u001b[0m\n",
      "\u001b[1mBudget left after initialization: 0.004408450000000001 $\u001b[0m\n",
      "\u001b[1m****** Running generation 0 ******\u001b[0m\n",
      "\u001b[1mEvaluating current population of 2 agents...\u001b[0m\n",
      "100%|██████████| 2/2 [00:00<00:00, 6246.17it/s]\n",
      "\u001b[34m\u001b[1mAgent agent-d7078ffa-3cf8-41e0-9e60-ba6810ac47f1 fitness: 0.29976699686368236, cost: 0.0\u001b[0m\n",
      "\u001b[34m\u001b[1mAgent agent-bdb5b2d1-9aa9-4e62-8c1c-37fc2f071c1a fitness: 0.7943794815224912, cost: 0.0\u001b[0m\n",
      "\u001b[1mEvaluation took 0:00:00.002959 for a total cost of 0.0 $\u001b[0m\n"
     ]
    },
    {
     "data": {
      "text/markdown": [
       "# Agent ID: agent-bdb5b2d1-9aa9-4e62-8c1c-37fc2f071c1a\n",
       "## Fitness: 0.7943794815224912\n",
       "```mermaid \n",
       "graph LR\n",
       "\tStart_Node[start_node] --> Llm_Node_1(Problem Understanding LLM)\n",
       "\tLlm_Node_1(Problem Understanding LLM) -->|understood| Llm_Node_2(Solution Generation LLM)\n",
       "\tLlm_Node_1(Problem Understanding LLM) -->|not understood| End_Node[end_node]\n",
       "\tLlm_Node_2(Solution Generation LLM) --> End_Node[end_node]\n",
       " \n",
       "``` \n",
       "## Prompts:\n",
       "##### Shared context prompt\n",
       "You are part of a collaborative AI model designed to solve math word problems. This model consists of multiple nodes, each with a specific function in the problem-solving process. Your role is to contribute effectively to this process by understanding and processing the information provided by other nodes.\n",
       "\n",
       "1. **Problem Understanding LLM**: Your task is to parse the math word problem, identify key components such as numbers, operations, and relationships, and formulate a clear understanding of what is being asked.\n",
       "\n",
       "2. **Solution Generation LLM**: Your task is to take the clear understanding provided by the Problem Understanding LLM and generate a step-by-step solution to the math word problem. Apply relevant mathematical reasoning and operations to arrive at the solution.\n",
       "\n",
       "All outputs should be detailed and clear to ensure smooth transitions between nodes. Use chain-of-thought reasoning and self-reflection where applicable to enhance the quality of your responses.\n",
       "##### Problem Understanding LLM\n",
       "You are tasked with analyzing the following math word problem. Your goal is to extract key components such as numbers, operations, and relationships, and articulate a clear understanding of what the problem is asking.\n",
       "\n",
       "Please respond with the following:\n",
       "1. A summary of the problem's context.\n",
       "2. A list of key components identified, including numerical values and operations to be performed.\n",
       "3. A clear statement of what the problem is asking for, formulated in your own words.\n",
       "\n",
       "Make sure to reflect on the content, verifying that you have captured all necessary elements for the next step in the process. If you encounter any ambiguities or uncertainties in the problem, note them for clarification.\n",
       "##### Solution Generation LLM\n",
       "You are tasked with generating a solution to the math word problem based on the understanding provided by the Problem Understanding LLM. Use the key components identified and the clear statement of the problem to formulate a step-by-step solution.\n",
       "\n",
       "Please respond with the following:\n",
       "1. A detailed breakdown of the mathematical operations required to solve the problem.\n",
       "2. The final answer, clearly stated, along with any relevant explanations or justifications for the steps taken.\n",
       "3. If you identify any potential errors or areas needing reevaluation in the previous understanding, include constructive feedback for improvement.\n",
       "\n",
       "Utilize chain-of-thought reasoning to guide your calculations, ensuring clarity and logic in each step of the solution process.\n",
       "\n",
       "# Agent ID: agent-d7078ffa-3cf8-41e0-9e60-ba6810ac47f1\n",
       "## Fitness: 0.29976699686368236\n",
       "```mermaid \n",
       "graph LR\n",
       "\tStart_Node[start_node] --> Math_Problem_Analyzer(MathProblemAnalyzer)\n",
       "\tMath_Problem_Analyzer(MathProblemAnalyzer) --> End_Node[end_node]\n",
       " \n",
       "``` \n",
       "## Prompts:\n",
       "##### Shared context prompt\n",
       "You are part of a collaborative AI model designed to solve math word problems through a structured network of interconnected nodes. Your role is to analyze the given math problem, extract the necessary information, and prepare it for the next stage of the problem-solving process. You should leverage chain-of-thought reasoning to break down the problem, identify key components such as numbers, operations, and relationships, and provide a clear, concise summary of your findings. Your output will directly influence the subsequent steps taken in this problem-solving process.\n",
       "##### MathProblemAnalyzer\n",
       "Given the following math word problem, please analyze it in detail and extract key information necessary for solving it. Break down the problem step by step using chain-of-thought reasoning. Identify and list the numbers involved, the mathematical operations required (e.g., addition, subtraction, multiplication, division), and the relationships between the elements of the problem. \n",
       "\n",
       "For your analysis, consider the following steps:\n",
       "1. Read the problem carefully.\n",
       "2. Identify and extract the key numbers.\n",
       "3. Determine what operations are needed to solve the problem.\n",
       "4. Summarize the relationships you have found in a clear format.\n",
       "\n",
       "Once you have processed this information, prepare a structured output that includes:\n",
       "- A list of identified numbers\n",
       "- A list of identified operations\n",
       "- A brief explanation of the relationships you have found\n",
       "\n",
       "Your output will serve as the foundational information for the next node in the graph, so clarity and precision are essential.\n",
       "\n"
      ],
      "text/plain": [
       "<IPython.core.display.Markdown object>"
      ]
     },
     "metadata": {},
     "output_type": "display_data"
    },
    {
     "name": "stderr",
     "output_type": "stream",
     "text": [
      "\u001b[34m\u001b[1mSaving current state to ../data/2025-03-03_20-48-42/generation=0\u001b[0m\n",
      "\u001b[1mStarting crossover and mutation...\u001b[0m\n",
      "\u001b[34m\u001b[1mInitializing structured output agent for model with fields {'edges': FieldInfo(annotation=list[Edge], required=False, default_factory=list, description='list of edges in the graph'), 'nodes': FieldInfo(annotation=list[Union[StartNode, EndNode, LLMNode, PydanticValidatorNode, RegexRoutingNode]], required=False, default_factory=list, description='list of nodes in the graph'), 'description': FieldInfo(annotation=str, required=False, default=''), 'shared_context_prompt': FieldInfo(annotation=str, required=True, metadata=[MinLen(min_length=1)])} (2)\u001b[0m\n",
      "\u001b[34m\u001b[1mNumber of offsprings: 1/1\u001b[0m\n",
      "\u001b[1mCrossover and mutation completed in 0:00:27.806613 for a total cost of 0.002163 $\u001b[0m\n",
      "\u001b[1mGeneration 0 completed in 0:00:27.820863 with a total cost of 0.002163 $\u001b[0m\n",
      "\u001b[1mBudget left after first generation: 0.0022454500000000013 $\u001b[0m\n",
      "\u001b[1m****** Running generation 1 ******\u001b[0m\n",
      "\u001b[1mEvaluating current population of 2 agents...\u001b[0m\n",
      "100%|██████████| 2/2 [00:00<00:00, 2971.52it/s]\n",
      "\u001b[34m\u001b[1mAgent agent-bdb5b2d1-9aa9-4e62-8c1c-37fc2f071c1a fitness: 0.03920725704743766, cost: 0.0\u001b[0m\n",
      "\u001b[34m\u001b[1mAgent agent-3578626c-00a8-4e50-93fb-1566b7af40de fitness: 0.6682158565343952, cost: 0.0\u001b[0m\n",
      "\u001b[1mEvaluation took 0:00:00.004007 for a total cost of 0.0 $\u001b[0m\n"
     ]
    },
    {
     "data": {
      "text/markdown": [
       "# Agent ID: agent-3578626c-00a8-4e50-93fb-1566b7af40de\n",
       "## Fitness: 0.6682158565343952\n",
       "```mermaid \n",
       "graph LR\n",
       "\tStart_Node[start_node] --> Llm_Node_1(Problem Understanding LLM)\n",
       "\tLlm_Node_1(Problem Understanding LLM) -->|understood| Llm_Node_2(Solution Generation LLM)\n",
       "\tLlm_Node_1(Problem Understanding LLM) -->|not understood| Llm_Node_3(Clarification LLM)\n",
       "\tLlm_Node_2(Solution Generation LLM) --> End_Node[end_node]\n",
       "\tLlm_Node_3(Clarification LLM) -->|clarified| Llm_Node_2(Solution Generation LLM)\n",
       "\tLlm_Node_3(Clarification LLM) -->|still unclear| End_Node[end_node]\n",
       " \n",
       "``` \n",
       "## Prompts:\n",
       "##### Shared context prompt\n",
       "You are part of a collaborative AI model designed to solve math word problems. This model consists of multiple nodes, each with a specific function in the problem-solving process. Your role is to contribute effectively to this process by understanding and processing the information provided by other nodes.\n",
       "\n",
       "1. **Problem Understanding LLM**: Your task is to parse the math word problem, identify key components such as numbers, operations, and relationships, and formulate a clear understanding of what is being asked.\n",
       "\n",
       "2. **Solution Generation LLM**: Your task is to take the clear understanding provided by the Problem Understanding LLM and generate a step-by-step solution to the math word problem. Apply relevant mathematical reasoning and operations to arrive at the solution.\n",
       "\n",
       "3. **Clarification LLM**: This node is to be activated when the Problem Understanding LLM identifies uncertainties. It will seek to clarify any ambiguities before generating a solution.\n",
       "\n",
       "All outputs should be detailed and clear to ensure smooth transitions between nodes. Use chain-of-thought reasoning and self-reflection where applicable to enhance the quality of your responses.\n",
       "##### Problem Understanding LLM\n",
       "You are tasked with analyzing the following math word problem. Your goal is to extract key components such as numbers, operations, and relationships, and articulate a clear understanding of what the problem is asking.\n",
       "\n",
       "Please respond with the following:\n",
       "1. A summary of the problem's context.\n",
       "2. A list of key components identified, including numerical values and operations to be performed.\n",
       "3. A clear statement of what the problem is asking for, formulated in your own words.\n",
       "\n",
       "Make sure to reflect on the content, verifying that you have captured all necessary elements for the next step in the process. If you encounter any ambiguities or uncertainties in the problem, note them for clarification.\n",
       "##### Solution Generation LLM\n",
       "You are tasked with generating a solution to the math word problem based on the understanding provided by the Problem Understanding LLM. Use the key components identified and the clear statement of the problem to formulate a step-by-step solution.\n",
       "\n",
       "Please respond with the following:\n",
       "1. A detailed breakdown of the mathematical operations required to solve the problem.\n",
       "2. The final answer, clearly stated, along with any relevant explanations or justifications for the steps taken.\n",
       "3. If you identify any potential errors or areas needing reevaluation in the previous understanding, include constructive feedback for improvement.\n",
       "\n",
       "Utilize chain-of-thought reasoning to guide your calculations, ensuring clarity and logic in each step of the solution process.\n",
       "##### Clarification LLM\n",
       "In situations where the problem understanding is unclear, please provide additional context or clarification necessary to resolve ambiguities. Outline any potential misunderstandings or gaps in the initial interpretation, and request the user to provide further details if needed.\n",
       "\n",
       "# Agent ID: agent-bdb5b2d1-9aa9-4e62-8c1c-37fc2f071c1a\n",
       "## Fitness: 0.03920725704743766\n",
       "```mermaid \n",
       "graph LR\n",
       "\tStart_Node[start_node] --> Llm_Node_1(Problem Understanding LLM)\n",
       "\tLlm_Node_1(Problem Understanding LLM) -->|understood| Llm_Node_2(Solution Generation LLM)\n",
       "\tLlm_Node_1(Problem Understanding LLM) -->|not understood| End_Node[end_node]\n",
       "\tLlm_Node_2(Solution Generation LLM) --> End_Node[end_node]\n",
       " \n",
       "``` \n",
       "## Prompts:\n",
       "##### Shared context prompt\n",
       "You are part of a collaborative AI model designed to solve math word problems. This model consists of multiple nodes, each with a specific function in the problem-solving process. Your role is to contribute effectively to this process by understanding and processing the information provided by other nodes.\n",
       "\n",
       "1. **Problem Understanding LLM**: Your task is to parse the math word problem, identify key components such as numbers, operations, and relationships, and formulate a clear understanding of what is being asked.\n",
       "\n",
       "2. **Solution Generation LLM**: Your task is to take the clear understanding provided by the Problem Understanding LLM and generate a step-by-step solution to the math word problem. Apply relevant mathematical reasoning and operations to arrive at the solution.\n",
       "\n",
       "All outputs should be detailed and clear to ensure smooth transitions between nodes. Use chain-of-thought reasoning and self-reflection where applicable to enhance the quality of your responses.\n",
       "##### Problem Understanding LLM\n",
       "You are tasked with analyzing the following math word problem. Your goal is to extract key components such as numbers, operations, and relationships, and articulate a clear understanding of what the problem is asking.\n",
       "\n",
       "Please respond with the following:\n",
       "1. A summary of the problem's context.\n",
       "2. A list of key components identified, including numerical values and operations to be performed.\n",
       "3. A clear statement of what the problem is asking for, formulated in your own words.\n",
       "\n",
       "Make sure to reflect on the content, verifying that you have captured all necessary elements for the next step in the process. If you encounter any ambiguities or uncertainties in the problem, note them for clarification.\n",
       "##### Solution Generation LLM\n",
       "You are tasked with generating a solution to the math word problem based on the understanding provided by the Problem Understanding LLM. Use the key components identified and the clear statement of the problem to formulate a step-by-step solution.\n",
       "\n",
       "Please respond with the following:\n",
       "1. A detailed breakdown of the mathematical operations required to solve the problem.\n",
       "2. The final answer, clearly stated, along with any relevant explanations or justifications for the steps taken.\n",
       "3. If you identify any potential errors or areas needing reevaluation in the previous understanding, include constructive feedback for improvement.\n",
       "\n",
       "Utilize chain-of-thought reasoning to guide your calculations, ensuring clarity and logic in each step of the solution process.\n",
       "\n"
      ],
      "text/plain": [
       "<IPython.core.display.Markdown object>"
      ]
     },
     "metadata": {},
     "output_type": "display_data"
    },
    {
     "name": "stderr",
     "output_type": "stream",
     "text": [
      "\u001b[34m\u001b[1mSaving current state to ../data/2025-03-03_20-48-42/generation=1\u001b[0m\n",
      "\u001b[1mStarting crossover and mutation...\u001b[0m\n",
      "\u001b[1mBudgetExceededError: Master budget limit exceeded. Limit: 0.01, New total: 0.010207649999999999. Finishing process.\u001b[0m\n",
      "\u001b[34m\u001b[1mError when calling gpt-4o-mini: Master budget limit exceeded. Limit: 0.01, New total: 0.010207649999999999\u001b[0m\n",
      "\u001b[1mBudgetExceededError: Master budget limit exceeded. Limit: 0.01, New total: 0.011332199999999999. Finishing process.\u001b[0m\n",
      "\u001b[34m\u001b[1mError when calling gpt-4o-mini: Master budget limit exceeded. Limit: 0.01, New total: 0.011332199999999999\u001b[0m\n",
      "\u001b[1mBudgetExceededError: Master budget limit exceeded. Limit: 0.01, New total: 0.012456449999999999. Finishing process.\u001b[0m\n",
      "\u001b[34m\u001b[1mError when calling gpt-4o-mini: Master budget limit exceeded. Limit: 0.01, New total: 0.012456449999999999\u001b[0m\n",
      "\u001b[1mBudgetExceededError: Master budget limit exceeded. Limit: 0.01, New total: 0.01358595. Finishing process.\u001b[0m\n",
      "\u001b[34m\u001b[1mError when calling gpt-4o-mini: Master budget limit exceeded. Limit: 0.01, New total: 0.01358595\u001b[0m\n",
      "\u001b[31m\u001b[1mError while running agent agent-98e754e5-6eb1-45d8-8f50-f4d61a04afb8: Recursion limit of 7 reached without hitting a stop condition. You can increase the limit by setting the `recursion_limit` config key.\n",
      "For troubleshooting, visit: https://python.langchain.com/docs/troubleshooting/errors/GRAPH_RECURSION_LIMIT\u001b[0m\n",
      "\u001b[34m\u001b[1mCrossover agent failed creating a valid agent: 'NoneType' object has no attribute 'description'\u001b[0m\n",
      "\u001b[31m\u001b[1mError while generating offspring from ['agent-3578626c-00a8-4e50-93fb-1566b7af40de', 'agent-3578626c-00a8-4e50-93fb-1566b7af40de']. Falling back to architect agent.\u001b[0m\n",
      "\u001b[34m\u001b[1mNumber of offsprings: 1/1\u001b[0m\n",
      "\u001b[1mCrossover and mutation completed in 0:01:17.001990 for a total cost of 0.005831399999999999 $\u001b[0m\n",
      "\u001b[34m\u001b[1mError while adding an agent: 'AttributeError' object has no attribute 'id', 'NoneType' object has no attribute 'agent_engine'\u001b[0m\n",
      "\u001b[1mGeneration 1 completed in 0:01:17.016230 with a total cost of 0.005831399999999999 $\u001b[0m\n",
      "\u001b[1mBudget left after new generation: -0.003585949999999999 $\u001b[0m\n",
      "100%|██████████| 1/1 [00:00<00:00, 1509.29it/s]\n",
      "\u001b[34m\u001b[1mAgent agent-3578626c-00a8-4e50-93fb-1566b7af40de fitness: 0.02256292805558857, cost: 0.0\u001b[0m\n",
      "\u001b[34m\u001b[1mSaving current state to ../data/2025-03-03_20-48-42/generation=2\u001b[0m\n",
      "\u001b[1mCycle completed in 0:02:18.007317 with a total cost of 0.013585949999999998 $\u001b[0m\n",
      "\u001b[1mBudget left at final: -0.003585949999999999 $\u001b[0m\n",
      "\u001b[1mReturning 10 best agents\u001b[0m\n"
     ]
    }
   ],
   "source": [
    "import asyncio\n",
    "import nest_asyncio\n",
    "\n",
    "from ebiose.core.evo_forging_cycle import EvoForgingCylceConfig\n",
    "nest_asyncio.apply()\n",
    "\n",
    "from pathlib import Path\n",
    "from datetime import UTC, datetime\n",
    "\n",
    "# the path where results will be saved\n",
    "current_time = datetime.now(UTC).strftime(\"%Y-%m-%d_%H-%M-%S\")\n",
    "SAVE_PATH = Path(f\"./../data/\") / current_time\n",
    "if not SAVE_PATH.exists():\n",
    "    SAVE_PATH.mkdir(parents=True)\n",
    "\n",
    "# budget for the forge cycle, in dollars\n",
    "BUDGET = 0.01\n",
    "\n",
    "cycle_config = EvoForgingCylceConfig(\n",
    "    budget=BUDGET,\n",
    "    n_agents_in_population=2,\n",
    "    n_selected_agents_from_ecosystem=0,\n",
    "    replacement_ratio=0.5,\n",
    "    save_path=SAVE_PATH\n",
    ")\n",
    "\n",
    "final_agents, final_fitness = asyncio.run(forge.run_new_cycle(ecosystem, cycle_config=cycle_config))\n"
   ]
  },
  {
   "cell_type": "markdown",
   "metadata": {},
   "source": [
    "We can now display the best agents that have been returned as follows. Note that:\n",
    "- all agents can be found in the `SAVE_PATH` directory if you defined one;\n",
    "- here, the compute fitness only returns a random float, so the following displayed agents have not been truly evaluated. \n",
    "\n",
    "Go check [examples/math_forge/math_forge.py](./../examples/math_forge/math_forge.py) to see a fully implemeted forge with a non-random fitness evaluation function."
   ]
  },
  {
   "cell_type": "code",
   "execution_count": 12,
   "metadata": {},
   "outputs": [
    {
     "data": {
      "text/markdown": [
       "# Agent ID: agent-3578626c-00a8-4e50-93fb-1566b7af40de\n",
       "## Fitness: 0.02256292805558857\n",
       "```mermaid \n",
       "graph LR\n",
       "\tStart_Node[start_node] --> Llm_Node_1(Problem Understanding LLM)\n",
       "\tLlm_Node_1(Problem Understanding LLM) -->|understood| Llm_Node_2(Solution Generation LLM)\n",
       "\tLlm_Node_1(Problem Understanding LLM) -->|not understood| Llm_Node_3(Clarification LLM)\n",
       "\tLlm_Node_2(Solution Generation LLM) --> End_Node[end_node]\n",
       "\tLlm_Node_3(Clarification LLM) -->|clarified| Llm_Node_2(Solution Generation LLM)\n",
       "\tLlm_Node_3(Clarification LLM) -->|still unclear| End_Node[end_node]\n",
       " \n",
       "``` \n",
       "## Prompts:\n",
       "##### Shared context prompt\n",
       "You are part of a collaborative AI model designed to solve math word problems. This model consists of multiple nodes, each with a specific function in the problem-solving process. Your role is to contribute effectively to this process by understanding and processing the information provided by other nodes.\n",
       "\n",
       "1. **Problem Understanding LLM**: Your task is to parse the math word problem, identify key components such as numbers, operations, and relationships, and formulate a clear understanding of what is being asked.\n",
       "\n",
       "2. **Solution Generation LLM**: Your task is to take the clear understanding provided by the Problem Understanding LLM and generate a step-by-step solution to the math word problem. Apply relevant mathematical reasoning and operations to arrive at the solution.\n",
       "\n",
       "3. **Clarification LLM**: This node is to be activated when the Problem Understanding LLM identifies uncertainties. It will seek to clarify any ambiguities before generating a solution.\n",
       "\n",
       "All outputs should be detailed and clear to ensure smooth transitions between nodes. Use chain-of-thought reasoning and self-reflection where applicable to enhance the quality of your responses.\n",
       "##### Problem Understanding LLM\n",
       "You are tasked with analyzing the following math word problem. Your goal is to extract key components such as numbers, operations, and relationships, and articulate a clear understanding of what the problem is asking.\n",
       "\n",
       "Please respond with the following:\n",
       "1. A summary of the problem's context.\n",
       "2. A list of key components identified, including numerical values and operations to be performed.\n",
       "3. A clear statement of what the problem is asking for, formulated in your own words.\n",
       "\n",
       "Make sure to reflect on the content, verifying that you have captured all necessary elements for the next step in the process. If you encounter any ambiguities or uncertainties in the problem, note them for clarification.\n",
       "##### Solution Generation LLM\n",
       "You are tasked with generating a solution to the math word problem based on the understanding provided by the Problem Understanding LLM. Use the key components identified and the clear statement of the problem to formulate a step-by-step solution.\n",
       "\n",
       "Please respond with the following:\n",
       "1. A detailed breakdown of the mathematical operations required to solve the problem.\n",
       "2. The final answer, clearly stated, along with any relevant explanations or justifications for the steps taken.\n",
       "3. If you identify any potential errors or areas needing reevaluation in the previous understanding, include constructive feedback for improvement.\n",
       "\n",
       "Utilize chain-of-thought reasoning to guide your calculations, ensuring clarity and logic in each step of the solution process.\n",
       "##### Clarification LLM\n",
       "In situations where the problem understanding is unclear, please provide additional context or clarification necessary to resolve ambiguities. Outline any potential misunderstandings or gaps in the initial interpretation, and request the user to provide further details if needed.\n",
       "\n"
      ],
      "text/plain": [
       "<IPython.core.display.Markdown object>"
      ]
     },
     "metadata": {},
     "output_type": "display_data"
    }
   ],
   "source": [
    "forge.display_results(final_agents, final_fitness)"
   ]
  }
 ],
 "metadata": {
  "kernelspec": {
   "display_name": ".venv",
   "language": "python",
   "name": "python3"
  },
  "language_info": {
   "codemirror_mode": {
    "name": "ipython",
    "version": 3
   },
   "file_extension": ".py",
   "mimetype": "text/x-python",
   "name": "python",
   "nbconvert_exporter": "python",
   "pygments_lexer": "ipython3",
   "version": "3.12.8"
  }
 },
 "nbformat": 4,
 "nbformat_minor": 2
}
