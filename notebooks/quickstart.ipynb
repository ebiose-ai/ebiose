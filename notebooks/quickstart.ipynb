{
 "cells": [
  {
   "cell_type": "markdown",
   "metadata": {},
   "source": [
    "# Create a forge and execute an evolution cycle\n",
    "In this notebook, we will go through the very few steps needed to run a forge cycle for a given budget. \n",
    "Before running this notebook, you must set up a few things:\n",
    "\n",
    "**Your access to LLM's providers:**\n",
    "\n",
    "To try Ebiose, you must have access to at least one LLM provider. To provide the credentials, copy-paste the [`model_endpoints_template.yml`](./../model_endpoints_template.yml) file, rename it as `model_endpoints.yml` and fill it with your own credentials.\n",
    "\n",
    "**Add the root directory to your Python path**\n",
    "\n",
    "Depending on your settings, you may need to add the root of the repository to your `PYTHONPATH` environment variable. You may also use a `.env` file to do so. copy-paste the [`.env.template`](./../.env.template) file, rename it as `.env` and fill it with your own root directory.\n",
    "\n",
    "**Use LangFuse for tracing**\n",
    "\n",
    "Ebiose has chosen LangFuse to provide easy and free observability, through its self-hosted capability. Refer to [Langfuse official documentation](https://langfuse.com/self-hosting) to set it up. Once done, fill `LANGFUSE_SECRET_KEY`, `LANGFUSE_PUBLIC_KEY` and `LANGFUSE_HOST` in the `.env` file.\n",
    "\n",
    "Other observability tools might be used but are not configured yet.\n",
    "\n",
    "**Load .env file**\n",
    "\n",
    "To load the `.env` file, execute:"
   ]
  },
  {
   "cell_type": "code",
   "execution_count": 1,
   "metadata": {},
   "outputs": [
    {
     "data": {
      "text/plain": [
       "True"
      ]
     },
     "execution_count": 1,
     "metadata": {},
     "output_type": "execute_result"
    }
   ],
   "source": [
    "from dotenv import load_dotenv\n",
    "load_dotenv()"
   ]
  },
  {
   "cell_type": "markdown",
   "metadata": {},
   "source": [
    "## Creating a basic forge\n",
    "\n",
    "In ebiose, a **forge** is where custom agents are created to solve specific problems. The forge is the exclusive origin of new agents. Within each forge, architects agents orchestrate the creation and improvement of agents by reusing existing building blocks from the ecosystem.\n",
    "\n",
    "To create a forge and run a cycle, you must provide the following:\n",
    "- a description of the forge, which defines the problem that must be solved by generated agents;\n",
    "- the expected format of the agent's input and output, defined as Pydantic models;\n",
    "- an implementation of the `compute_fitness` abstract method that will be used by the forge to evaluate the generated agents.\n",
    "\n",
    "Let's say we wich to generate agents specialized in solving math problems. The forge description could be:"
   ]
  },
  {
   "cell_type": "code",
   "execution_count": 2,
   "metadata": {},
   "outputs": [],
   "source": [
    "forge_description = \"Solving math word problems\""
   ]
  },
  {
   "cell_type": "markdown",
   "metadata": {},
   "source": [
    "Next, we need to define the expected input and output formats of the generated agents. These formats are to be defined as Pydantic models. \n",
    "\n",
    "For instance, in our context of solving math problems, we want the agent input to be a string which will represent the math problem to be solved and the agent output to be composed of two fields:\n",
    "- `solution` which will be the final solution to the math problem, given as an integer;\n",
    "- `rationale` which will be the rationale behind the found solution.\n",
    "\n",
    "The IO Pydantic models will thus be:"
   ]
  },
  {
   "cell_type": "code",
   "execution_count": 3,
   "metadata": {},
   "outputs": [],
   "source": [
    "from pydantic import BaseModel\n",
    "\n",
    "class AgentInput(BaseModel):\n",
    "        math_problem: str\n",
    "\n",
    "class AgentOutput(BaseModel):\n",
    "    solution: int\n",
    "    rationale: str"
   ]
  },
  {
   "cell_type": "markdown",
   "metadata": {},
   "source": [
    "Lastly, we must provide a way of evaluating the generated agents through the implementation of the `compute_fitness` abstract method of `AgentForge` class. For the sake of demonstration, we will here return a random float between 0 and 1, so that we don't spend tokens at evaluation."
   ]
  },
  {
   "cell_type": "code",
   "execution_count": 4,
   "metadata": {},
   "outputs": [
    {
     "name": "stderr",
     "output_type": "stream",
     "text": [
      "/Users/xabier/dev/ebiose-core/.venv/lib/python3.12/site-packages/pydantic/_internal/_generate_schema.py:502: UserWarning: <built-in function any> is not a Python type (it may be an instance of an object), Pydantic will allow any object with no validation since we cannot even enforce that the input is an instance of the given type. To get rid of this error wrap the type with `pydantic.SkipValidation`.\n",
      "  warn(\n"
     ]
    }
   ],
   "source": [
    "import random\n",
    "random.seed(7)\n",
    "\n",
    "from ebiose.core.agent import Agent\n",
    "from ebiose.core.agent_forge import AgentForge\n",
    "\n",
    "class BasicForge(AgentForge):\n",
    "    async def compute_fitness(self, agent: Agent, compute_token_id: str, **kwargs: dict[str, any]) -> float:\n",
    "        return random.random()"
   ]
  },
  {
   "cell_type": "markdown",
   "metadata": {},
   "source": [
    "We can now instantiate the forge with the provided elements:"
   ]
  },
  {
   "cell_type": "code",
   "execution_count": null,
   "metadata": {},
   "outputs": [],
   "source": [
    "forge = BasicForge(\n",
    "    name=\"Basic forge\",\n",
    "    description=forge_description,\n",
    "    agent_input_model=AgentInput,\n",
    "    agent_output_model=AgentOutput,\n",
    "    default_generated_agent_engine_type=\"langgraph_engine\",\n",
    "    default_model_endpoint_id=\"gpt-4o-mini\"\n",
    ")"
   ]
  },
  {
   "cell_type": "markdown",
   "metadata": {},
   "source": [
    "## Running a forge cycle\n",
    "\n",
    "Once the forge is instantiated, we can start generating agents by running a **forge cycle**. \n",
    "\n",
    "To do so, you must define:\n",
    "- a budget in dollars (the forge cycle will end once this budget is exhausted);\n",
    "- optionally, a path in which created agents and fitness will be saved accross generations. \n",
    "\n",
    "> ⚠️ Note that we need to use `asyncio.run` to launch the forge cycle.\n",
    "\n",
    "> 🚨 Before executing the following cell, check the amount of budget you have allocated!\n",
    "\n",
    "> 💡 If you are using VSCode, install the [*Markdown Preview Mermaid Support* extension](https://marketplace.visualstudio.com/items?itemName=bierner.markdown-mermaid) to allow the display of the generated agent's graphs."
   ]
  },
  {
   "cell_type": "code",
   "execution_count": 6,
   "metadata": {},
   "outputs": [
    {
     "name": "stderr",
     "output_type": "stream",
     "text": [
      "\u001b[1mStarting a new cycle for forge Basic forge\u001b[0m\n"
     ]
    },
    {
     "name": "stderr",
     "output_type": "stream",
     "text": [
      "\u001b[1m****** Initializing agents population ******\u001b[0m\n",
      "\u001b[1mCreating 2 new agents with architect agents...\u001b[0m\n",
      "  0%|          | 0/2 [00:00<?, ?it/s]\u001b[34m\u001b[1m\n",
      "Initializing structured output agent for model AgentOutput (1)\u001b[0m\n",
      "100%|██████████| 2/2 [00:28<00:00, 14.04s/it]\n",
      "\u001b[34m\u001b[1mAgent initialization cost: 0.005778465000000001\u001b[0m\n",
      "\u001b[1mPopulation initialized with 2 agents\u001b[0m\n",
      "\u001b[1mInitialization of 2 agents took 0:00:28.127900\u001b[0m\n",
      "\u001b[1mBudget left after initialization: 0.004221534999999999 $\u001b[0m\n",
      "\u001b[1m****** Running generation 0 ******\u001b[0m\n",
      "\u001b[1mEvaluating current population of 2 agents...\u001b[0m\n",
      "100%|██████████| 2/2 [00:00<00:00, 22.44it/s]\n",
      "\u001b[34m\u001b[1mAgent agent-d4df84fb-ba4d-4c4b-aa7f-f2f473c57ff8 fitness: 0.45318437637077535, cost: 0.0\u001b[0m\n",
      "\u001b[34m\u001b[1mAgent agent-e4443326-864a-49a7-99ee-ce85caa83354 fitness: 0.29976699686368236, cost: 0.0\u001b[0m\n",
      "\u001b[1mEvaluation took 0:00:00.102589 for a total cost of 0.0 $\u001b[0m\n"
     ]
    },
    {
     "data": {
      "text/markdown": [
       "# Agent ID: agent-d4df84fb-ba4d-4c4b-aa7f-f2f473c57ff8\n",
       "## Fitness: 0.45318437637077535\n",
       "```mermaid \n",
       "graph LR\n",
       "\tStart_Node[start_node] --> Llm_Node(MathProblemSolver)\n",
       "\tLlm_Node(MathProblemSolver) --> End_Node[end_node]\n",
       " \n",
       "``` \n",
       "## Prompts:\n",
       "##### Shared context prompt\n",
       "You are part of a collaborative network designed to solve math word problems effectively. Your role is to analyze, reason, and derive solutions based on the input you receive. Each node in this graph has a specific purpose, with the StartNode initiating the process, the LLMNode (MathProblemSolver) processing and generating a solution, and the EndNode encapsulating the final output. As you engage in this problem-solving journey, leverage chain-of-thought reasoning, self-reflection, and evaluative feedback mechanisms to enhance your contributions and ensure clarity in communication with subsequent nodes.\n",
       "##### MathProblemSolver\n",
       "You are the 'MathProblemSolver' node in a problem-solving network dedicated to tackling math word problems. Your task is to analyze the following math word problem, breaking it down into manageable components and applying suitable mathematical principles to derive a solution.\n",
       "\n",
       "1. Begin by restating the math word problem in your own words to ensure clarity.\n",
       "2. Identify the key quantities involved and the relationships between them.\n",
       "3. Formulate a step-by-step plan to solve the problem, outlining the mathematical operations needed.\n",
       "4. Execute the plan, showing all calculations and reasoning clearly.\n",
       "5. Reflect on your solution: Is it logical? Have you considered any edge cases or potential errors? \n",
       "6. Finally, summarize your findings and present your solution clearly, indicating any assumptions made during the process.\n",
       "\n",
       "Ensure that your output is structured and explicit, as it will be passed along to the next node in the graph.\n",
       "\n",
       "# Agent ID: agent-e4443326-864a-49a7-99ee-ce85caa83354\n",
       "## Fitness: 0.29976699686368236\n",
       "```mermaid \n",
       "graph LR\n",
       "\tStart_Node[start_node] --> Llm_Parser(LLM_Parser)\n",
       "\tLlm_Parser(LLM_Parser) -->|parsed successfully| Llm_Solver(LLM_Solver)\n",
       "\tLlm_Parser(LLM_Parser) -->|ambiguity detected| Llm_Parser(LLM_Parser)\n",
       "\tLlm_Solver(LLM_Solver) --> End_Node[end_node]\n",
       " \n",
       "``` \n",
       "## Prompts:\n",
       "##### Shared context prompt\n",
       "You are part of a collaborative problem-solving network designed to tackle math word problems effectively. Each node in this network has a specific role. The StartNode initiates the process, while the LLM_Parser interprets and structures the problem, and the LLM_Solver performs calculations based on the structured input. Upon receiving the output from the previous node, you are responsible for executing your designated function and transmitting all necessary information to the next node. Emphasize clarity, precision, and logical reasoning in your responses.\n",
       "##### LLM_Parser\n",
       "You are LLM_Parser, and your task is to interpret the given math word problem. Focus on identifying key variables, relationships, and mathematical operations involved. Consider the context of the problem and ensure that you extract all relevant information. After parsing, summarize the structured data clearly, highlighting the identified variables and the relationships between them. If you encounter any ambiguities in the wording, reflect on them and provide possible interpretations. Lastly, prepare a concise statement that can be passed to the LLM_Solver, ensuring it contains all necessary information for computation.\n",
       "##### LLM_Solver\n",
       "You are LLM_Solver, and your role is to compute the solution based on the structured data provided by LLM_Parser. Carefully analyze the relationships and variables you received, and apply appropriate mathematical methods to derive the solution. Use chain-of-thought reasoning to show your calculations step-by-step, and ensure that each step logically follows from the previous one. If the input from LLM_Parser has any missing information or if you detect any inconsistencies in the data, reflect on these issues and state what additional information is needed. Finally, clearly present the final solution in an understandable format, summarizing your reasoning process and ensuring it is ready for the EndNode.\n",
       "\n"
      ],
      "text/plain": [
       "<IPython.core.display.Markdown object>"
      ]
     },
     "metadata": {},
     "output_type": "display_data"
    },
    {
     "name": "stderr",
     "output_type": "stream",
     "text": [
      "\u001b[34m\u001b[1mSaving current state to ../data/2025-03-10_11-18-24/generation=0\u001b[0m\n",
      "\u001b[1mStarting crossover and mutation...\u001b[0m\n",
      "\u001b[34m\u001b[1m\n",
      "Initializing structured output agent for model AgentOutput (2)\u001b[0m\n",
      "\u001b[34m\u001b[1mNumber of offsprings: 1/1\u001b[0m\n",
      "\u001b[1mCrossover and mutation completed in 0:00:20.379549 for a total cost of 0.00164769 $\u001b[0m\n",
      "\u001b[1mGeneration 0 completed in 0:00:20.499871 with a total cost of 0.00164769 $\u001b[0m\n",
      "\u001b[1mBudget left after first generation: 0.002573844999999999 $\u001b[0m\n",
      "\u001b[1m****** Running generation 1 ******\u001b[0m\n",
      "\u001b[1mEvaluating current population of 2 agents...\u001b[0m\n",
      "100%|██████████| 2/2 [00:00<00:00, 3371.63it/s]\n",
      "\u001b[34m\u001b[1mAgent agent-e4443326-864a-49a7-99ee-ce85caa83354 fitness: 0.03920725704743766, cost: 0.0\u001b[0m\n",
      "\u001b[34m\u001b[1mAgent agent-3e853bb1-1b21-45c1-a34b-a8534acf08de fitness: 0.6682158565343952, cost: 0.0\u001b[0m\n",
      "\u001b[1mEvaluation took 0:00:00.003567 for a total cost of 0.0 $\u001b[0m\n"
     ]
    },
    {
     "data": {
      "text/markdown": [
       "# Agent ID: agent-3e853bb1-1b21-45c1-a34b-a8534acf08de\n",
       "## Fitness: 0.6682158565343952\n",
       "```mermaid \n",
       "graph LR\n",
       "\tStart_Node[start_node] --> Llm_Node_1(MathProblemAnalyser)\n",
       "\tLlm_Node_1(MathProblemAnalyser) --> Llm_Node_2(MathSolutionGenerator)\n",
       "\tLlm_Node_2(MathSolutionGenerator) --> End_Node[end_node]\n",
       " \n",
       "``` \n",
       "## Prompts:\n",
       "##### Shared context prompt\n",
       "You are part of a collaborative network designed to solve math word problems effectively. Your role is to analyze, reason, and derive solutions based on the input you receive. Each node in this graph has a specific purpose, with the StartNode initiating the process, the LLMNodes (MathProblemAnalyser and MathSolutionGenerator) processing and generating a solution, and the EndNode encapsulating the final output. As you engage in this problem-solving journey, leverage chain-of-thought reasoning, self-reflection, and evaluative feedback mechanisms to enhance your contributions and ensure clarity in communication with subsequent nodes.\n",
       "##### MathProblemAnalyser\n",
       "You are the 'MathProblemAnalyser' node in a problem-solving network dedicated to tackling math word problems. Your task is to analyze the following math word problem and break it down into key components. Identify the relevant quantities, the relationships between them, and any mathematical operations that may apply. Provide a structured breakdown and insights to guide the next step in the problem-solving process.\n",
       "##### MathSolutionGenerator\n",
       "You are the 'MathSolutionGenerator' node in a collaborative problem-solving network. Based on the breakdown of the math word problem provided by the previous node, your task is to formulate a detailed step-by-step solution. Ensure to demonstrate all calculations and reasoning clearly. Reflect on your solution's validity, consider edge cases, and clearly summarize your final answer with any assumptions made.\n",
       "\n",
       "# Agent ID: agent-e4443326-864a-49a7-99ee-ce85caa83354\n",
       "## Fitness: 0.03920725704743766\n",
       "```mermaid \n",
       "graph LR\n",
       "\tStart_Node[start_node] --> Llm_Parser(LLM_Parser)\n",
       "\tLlm_Parser(LLM_Parser) -->|parsed successfully| Llm_Solver(LLM_Solver)\n",
       "\tLlm_Parser(LLM_Parser) -->|ambiguity detected| Llm_Parser(LLM_Parser)\n",
       "\tLlm_Solver(LLM_Solver) --> End_Node[end_node]\n",
       " \n",
       "``` \n",
       "## Prompts:\n",
       "##### Shared context prompt\n",
       "You are part of a collaborative problem-solving network designed to tackle math word problems effectively. Each node in this network has a specific role. The StartNode initiates the process, while the LLM_Parser interprets and structures the problem, and the LLM_Solver performs calculations based on the structured input. Upon receiving the output from the previous node, you are responsible for executing your designated function and transmitting all necessary information to the next node. Emphasize clarity, precision, and logical reasoning in your responses.\n",
       "##### LLM_Parser\n",
       "You are LLM_Parser, and your task is to interpret the given math word problem. Focus on identifying key variables, relationships, and mathematical operations involved. Consider the context of the problem and ensure that you extract all relevant information. After parsing, summarize the structured data clearly, highlighting the identified variables and the relationships between them. If you encounter any ambiguities in the wording, reflect on them and provide possible interpretations. Lastly, prepare a concise statement that can be passed to the LLM_Solver, ensuring it contains all necessary information for computation.\n",
       "##### LLM_Solver\n",
       "You are LLM_Solver, and your role is to compute the solution based on the structured data provided by LLM_Parser. Carefully analyze the relationships and variables you received, and apply appropriate mathematical methods to derive the solution. Use chain-of-thought reasoning to show your calculations step-by-step, and ensure that each step logically follows from the previous one. If the input from LLM_Parser has any missing information or if you detect any inconsistencies in the data, reflect on these issues and state what additional information is needed. Finally, clearly present the final solution in an understandable format, summarizing your reasoning process and ensuring it is ready for the EndNode.\n",
       "\n"
      ],
      "text/plain": [
       "<IPython.core.display.Markdown object>"
      ]
     },
     "metadata": {},
     "output_type": "display_data"
    },
    {
     "name": "stderr",
     "output_type": "stream",
     "text": [
      "\u001b[34m\u001b[1mSaving current state to ../data/2025-03-10_11-18-24/generation=1\u001b[0m\n",
      "\u001b[1mStarting crossover and mutation...\u001b[0m\n",
      "\u001b[34m\u001b[1mNumber of offsprings: 1/1\u001b[0m\n",
      "\u001b[1mCrossover and mutation completed in 0:02:26.733705 for a total cost of 0.00188067 $\u001b[0m\n",
      "\u001b[1mGeneration 1 completed in 0:02:26.744735 with a total cost of 0.00188067 $\u001b[0m\n",
      "\u001b[1mBudget left after new generation: 0.000693174999999999 $\u001b[0m\n",
      "100%|██████████| 2/2 [00:00<00:00, 2998.07it/s]\n",
      "\u001b[34m\u001b[1mAgent agent-3e853bb1-1b21-45c1-a34b-a8534acf08de fitness: 0.8219247866097149, cost: 0.0\u001b[0m\n",
      "\u001b[34m\u001b[1mAgent agent-c0c68095-177a-4e2e-b6fe-1c5873cd8d45 fitness: 0.28459553209414923, cost: 0.0\u001b[0m\n",
      "\u001b[34m\u001b[1mSaving current state to ../data/2025-03-10_11-18-24/generation=2\u001b[0m\n",
      "\u001b[1mCycle completed in 0:03:15.389257 with a total cost of 0.009306825000000001 $\u001b[0m\n",
      "\u001b[1mBudget left at final: 0.000693174999999999 $\u001b[0m\n",
      "\u001b[1mReturning 2 best agents\u001b[0m\n"
     ]
    }
   ],
   "source": [
    "import asyncio\n",
    "import nest_asyncio\n",
    "\n",
    "from ebiose.core.evo_forging_cycle import EvoForgingCylceConfig\n",
    "nest_asyncio.apply()\n",
    "\n",
    "from pathlib import Path\n",
    "from datetime import UTC, datetime\n",
    "\n",
    "# the path where results will be saved\n",
    "current_time = datetime.now(UTC).strftime(\"%Y-%m-%d_%H-%M-%S\")\n",
    "SAVE_PATH = Path(f\"./../data/\") / current_time\n",
    "if not SAVE_PATH.exists():\n",
    "    SAVE_PATH.mkdir(parents=True)\n",
    "\n",
    "\n",
    "cycle_config = EvoForgingCylceConfig(\n",
    "    budget=0.01, # the budget for the forge cycle in dollas\n",
    "    n_agents_in_population=2, # number of agents in the population, at each generation\n",
    "    n_selected_agents_from_ecosystem=0, # number of agents selected from the ecosystem at initialization\n",
    "    n_best_agents_to_return=2, # number of best agents to return at the end of the cycle\n",
    "    replacement_ratio=0.5, # ratio of agents replaced at each generation\n",
    "    save_path=SAVE_PATH, # the path where results will be saved (optional)\n",
    ")\n",
    "\n",
    "best_agents, best_fitness = asyncio.run(\n",
    "    forge.run_new_cycle(config=cycle_config)\n",
    ")\n"
   ]
  },
  {
   "cell_type": "markdown",
   "metadata": {},
   "source": [
    "We can now display the best agents that have been returned as follows. Note that:\n",
    "- all agents can be found in the `SAVE_PATH` directory if you defined one;\n",
    "- here, the compute fitness only returns a random float, so the following displayed agents have not been truly evaluated. \n",
    "\n",
    "Go check [examples/math_forge/math_forge.py](./../examples/math_forge/math_forge.py) to see a fully implemeted forge with a non-random fitness evaluation function."
   ]
  },
  {
   "cell_type": "markdown",
   "metadata": {},
   "source": [
    "## Display best agents"
   ]
  },
  {
   "cell_type": "code",
   "execution_count": 7,
   "metadata": {},
   "outputs": [
    {
     "data": {
      "text/markdown": [
       "# Agent ID: agent-3e853bb1-1b21-45c1-a34b-a8534acf08de\n",
       "## Fitness: 0.8219247866097149\n",
       "```mermaid \n",
       "graph LR\n",
       "\tStart_Node[start_node] --> Llm_Node_1(MathProblemAnalyser)\n",
       "\tLlm_Node_1(MathProblemAnalyser) --> Llm_Node_2(MathSolutionGenerator)\n",
       "\tLlm_Node_2(MathSolutionGenerator) --> End_Node[end_node]\n",
       " \n",
       "``` \n",
       "## Prompts:\n",
       "##### Shared context prompt\n",
       "You are part of a collaborative network designed to solve math word problems effectively. Your role is to analyze, reason, and derive solutions based on the input you receive. Each node in this graph has a specific purpose, with the StartNode initiating the process, the LLMNodes (MathProblemAnalyser and MathSolutionGenerator) processing and generating a solution, and the EndNode encapsulating the final output. As you engage in this problem-solving journey, leverage chain-of-thought reasoning, self-reflection, and evaluative feedback mechanisms to enhance your contributions and ensure clarity in communication with subsequent nodes.\n",
       "##### MathProblemAnalyser\n",
       "You are the 'MathProblemAnalyser' node in a problem-solving network dedicated to tackling math word problems. Your task is to analyze the following math word problem and break it down into key components. Identify the relevant quantities, the relationships between them, and any mathematical operations that may apply. Provide a structured breakdown and insights to guide the next step in the problem-solving process.\n",
       "##### MathSolutionGenerator\n",
       "You are the 'MathSolutionGenerator' node in a collaborative problem-solving network. Based on the breakdown of the math word problem provided by the previous node, your task is to formulate a detailed step-by-step solution. Ensure to demonstrate all calculations and reasoning clearly. Reflect on your solution's validity, consider edge cases, and clearly summarize your final answer with any assumptions made.\n",
       "\n",
       "# Agent ID: agent-c0c68095-177a-4e2e-b6fe-1c5873cd8d45\n",
       "## Fitness: 0.28459553209414923\n",
       "```mermaid \n",
       "graph LR\n",
       "\tStart_Node[start_node] --> Llm_Node_1(MathProblemAnalyser)\n",
       "\tLlm_Node_1(MathProblemAnalyser) --> Llm_Node_2(MathSolutionGenerator)\n",
       "\tLlm_Node_2(MathSolutionGenerator) --> Llm_Node_3(MathCritiqueAndRefinement)\n",
       "\tLlm_Node_3(MathCritiqueAndRefinement) --> End_Node[end_node]\n",
       " \n",
       "``` \n",
       "## Prompts:\n",
       "##### Shared context prompt\n",
       "You are part of a collaborative network designed to solve math word problems effectively. Your role is to analyze, reason, and derive solutions based on the input you receive. Each node in this graph has a specific purpose, with the StartNode initiating the process, the LLMNodes (MathProblemAnalyser, MathSolutionGenerator, and MathCritiqueAndRefinement) processing and generating a solution, and the EndNode encapsulating the final output. As you engage in this problem-solving journey, leverage chain-of-thought reasoning, self-reflection, and evaluative feedback mechanisms to enhance your contributions and ensure clarity in communication with subsequent nodes.\n",
       "##### MathProblemAnalyser\n",
       "You are the 'MathProblemAnalyser' node in a problem-solving network dedicated to tackling math word problems. Your task is to analyze the following math word problem and break it down into key components. Identify the relevant quantities, the relationships between them, and any mathematical operations that may apply. Provide a structured breakdown and insights to guide the next step in the problem-solving process.\n",
       "##### MathSolutionGenerator\n",
       "You are the 'MathSolutionGenerator' node in a collaborative problem-solving network. Based on the breakdown of the math word problem provided by the previous node, your task is to formulate a detailed step-by-step solution. Ensure to demonstrate all calculations and reasoning clearly. Reflect on your solution's validity, consider edge cases, and clearly summarize your final answer with any assumptions made.\n",
       "##### MathCritiqueAndRefinement\n",
       "You are the 'MathCritiqueAndRefinement' node in a collaborative problem-solving network. Based on the solution generated by the previous node, your task is to critically evaluate its validity, explore alternative methods to tackle the problem, and suggest any necessary refinements. Ensure that your critique is constructive and provides clear feedback for improvement.\n",
       "\n"
      ],
      "text/plain": [
       "<IPython.core.display.Markdown object>"
      ]
     },
     "metadata": {},
     "output_type": "display_data"
    }
   ],
   "source": [
    "forge.display_results(best_agents, best_fitness)"
   ]
  }
 ],
 "metadata": {
  "kernelspec": {
   "display_name": ".venv",
   "language": "python",
   "name": "python3"
  },
  "language_info": {
   "codemirror_mode": {
    "name": "ipython",
    "version": 3
   },
   "file_extension": ".py",
   "mimetype": "text/x-python",
   "name": "python",
   "nbconvert_exporter": "python",
   "pygments_lexer": "ipython3",
   "version": "3.12.8"
  }
 },
 "nbformat": 4,
 "nbformat_minor": 2
}
