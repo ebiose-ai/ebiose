{
 "cells": [
  {
   "cell_type": "markdown",
   "metadata": {},
   "source": [
    "# Create and test your own forge"
   ]
  },
  {
   "cell_type": "code",
   "execution_count": null,
   "metadata": {},
   "outputs": [],
   "source": [
    "import asyncio\n",
    "import sys\n",
    "from datetime import UTC, datetime\n",
    "from pathlib import Path\n",
    "import random\n",
    "from typing import Literal\n",
    "from pydantic import BaseModel\n",
    "import nest_asyncio\n",
    "nest_asyncio.apply()\n",
    "\n",
    "# loading dotenv\n",
    "from dotenv import load_dotenv\n",
    "load_dotenv()\n",
    "\n",
    "from ebiose.core.agent import Agent\n",
    "from ebiose.core.agent_forge import AgentForge\n",
    "from ebiose.core.evo_forging_cycle import EvoForgingCycleConfig\n",
    "\n",
    "from loguru import logger\n",
    "logger.remove()\n",
    "logger.add(sys.stderr, level=\"DEBUG\")"
   ]
  },
  {
   "cell_type": "markdown",
   "metadata": {},
   "source": [
    "### 1. Describe the problem you wish to solve with an Ebiose agent"
   ]
  },
  {
   "cell_type": "code",
   "execution_count": null,
   "metadata": {},
   "outputs": [],
   "source": [
    "PROBLEM_DESCRIPTION = \"\"\"Given my CRM API connection, \n",
    "run a mailing campaign to all my customers who have not purchased anything \n",
    "in the last 6 months. The email should be personalized and include a discount \n",
    "code for their next purchase. The email should also include a link to my website \n",
    "and a call to action to encourage them to make a purchase.\"\"\""
   ]
  },
  {
   "cell_type": "markdown",
   "metadata": {},
   "source": [
    "### 2. Define the I/O model of your agent"
   ]
  },
  {
   "cell_type": "code",
   "execution_count": null,
   "metadata": {},
   "outputs": [],
   "source": [
    "class AgentInput(BaseModel):\n",
    "    pass\n",
    "\n",
    "class AgentOutput(BaseModel):\n",
    "    pass"
   ]
  },
  {
   "cell_type": "markdown",
   "metadata": {},
   "source": [
    "### 3. Create the forge class"
   ]
  },
  {
   "cell_type": "code",
   "execution_count": null,
   "metadata": {},
   "outputs": [],
   "source": [
    "class YourForge(AgentForge):\n",
    "    name: str = \"YourForge\"\n",
    "    description: str = PROBLEM_DESCRIPTION\n",
    "\n",
    "    agent_input_model: type[BaseModel] = AgentInput\n",
    "    agent_output_model: type[BaseModel] = AgentOutput\n",
    "    default_generated_agent_engine_type: str = \"langgraph_engine\"\n",
    "\n",
    "    async def compute_fitness(self, agent: Agent, compute_token_id: str, **kwargs: dict[str, any]) -> float:  # noqa: C901\n",
    "        return random.random()"
   ]
  },
  {
   "cell_type": "markdown",
   "metadata": {},
   "source": [
    "### 4. Setup a forge cycle"
   ]
  },
  {
   "cell_type": "code",
   "execution_count": null,
   "metadata": {},
   "outputs": [],
   "source": [
    "# run parameters\n",
    "BUDGET = 0.5 # budget in dollars\n",
    "N_AGENTS = 2 # number of agents by generation\n",
    "\n",
    "# the path where results will be saved\n",
    "timestamp = datetime.now(tz=UTC).strftime(\"%Y-%m-%d_%H-%M-%S\")\n",
    "SAVE_PATH = Path(f\"./data/{timestamp}/\")\n",
    "if not SAVE_PATH.exists():\n",
    "    SAVE_PATH.mkdir(parents=True)\n",
    "\n",
    "# node types\n",
    "NODE_TYPES = [\n",
    "    \"StartNode\", \"EndNode\", \"LLMNode\", \n",
    "]\n",
    "MOCK_NODE_TYPES = [\n",
    "    \"PythonNode\", \"DatabaseNode\", \"APINode\", \"WebScraperNode\",\n",
    "    \"FileNode\", \"UserQueryNode\"\n",
    "] # these nodes are not implemented yet\n",
    "\n",
    "cycle_config = EvoForgingCycleConfig(\n",
    "    budget=BUDGET,\n",
    "    n_agents_in_population=N_AGENTS,\n",
    "    n_selected_agents_from_ecosystem=0,\n",
    "    n_best_agents_to_return=2,\n",
    "    replacement_ratio=0.5,\n",
    "    save_path=SAVE_PATH,\n",
    "    node_types= NODE_TYPES + MOCK_NODE_TYPES,\n",
    "\n",
    ")"
   ]
  },
  {
   "cell_type": "markdown",
   "metadata": {},
   "source": [
    "### 5. Run a forge cycle"
   ]
  },
  {
   "cell_type": "code",
   "execution_count": null,
   "metadata": {},
   "outputs": [],
   "source": [
    "# instantiate the forge\n",
    "forge = YourForge()\n",
    "\n",
    "best_agents, best_finess = asyncio.run(\n",
    "    forge.run_new_cycle(\n",
    "        config=cycle_config\n",
    "    ),\n",
    ")"
   ]
  },
  {
   "cell_type": "markdown",
   "metadata": {},
   "source": [
    "### 6. Display final results"
   ]
  },
  {
   "cell_type": "code",
   "execution_count": null,
   "metadata": {},
   "outputs": [],
   "source": [
    "forge.display_results(best_agents, best_finess)"
   ]
  }
 ],
 "metadata": {
  "kernelspec": {
   "display_name": ".venv",
   "language": "python",
   "name": "python3"
  },
  "language_info": {
   "codemirror_mode": {
    "name": "ipython",
    "version": 3
   },
   "file_extension": ".py",
   "mimetype": "text/x-python",
   "name": "python",
   "nbconvert_exporter": "python",
   "pygments_lexer": "ipython3",
   "version": "3.12.9"
  }
 },
 "nbformat": 4,
 "nbformat_minor": 2
}
