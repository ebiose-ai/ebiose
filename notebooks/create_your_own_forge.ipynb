{
 "cells": [
  {
   "cell_type": "markdown",
   "metadata": {},
   "source": [
    "# Create and test your own forge"
   ]
  },
  {
   "cell_type": "code",
   "execution_count": 1,
   "metadata": {},
   "outputs": [
    {
     "name": "stderr",
     "output_type": "stream",
     "text": [
      "/Users/xabier/dev/ebiose/.venv/lib/python3.12/site-packages/pydantic/_internal/_generate_schema.py:502: UserWarning: <built-in function any> is not a Python type (it may be an instance of an object), Pydantic will allow any object with no validation since we cannot even enforce that the input is an instance of the given type. To get rid of this error wrap the type with `pydantic.SkipValidation`.\n",
      "  warn(\n"
     ]
    },
    {
     "data": {
      "text/plain": [
       "2"
      ]
     },
     "execution_count": 1,
     "metadata": {},
     "output_type": "execute_result"
    }
   ],
   "source": [
    "import asyncio\n",
    "import sys\n",
    "from datetime import UTC, datetime\n",
    "from pathlib import Path\n",
    "import random\n",
    "from typing import Literal\n",
    "from pydantic import BaseModel\n",
    "import nest_asyncio\n",
    "nest_asyncio.apply()\n",
    "\n",
    "# loading dotenv\n",
    "from dotenv import load_dotenv\n",
    "load_dotenv()\n",
    "\n",
    "from ebiose.core.agent import Agent\n",
    "from ebiose.core.agent_forge import AgentForge\n",
    "from ebiose.core.evo_forging_cycle import EvoForgingCycleConfig\n",
    "\n",
    "from loguru import logger\n",
    "logger.remove()\n",
    "logger.add(sys.stderr, level=\"DEBUG\")"
   ]
  },
  {
   "cell_type": "markdown",
   "metadata": {},
   "source": [
    "### 1. Describe the problem you wish to solve with an Ebiose agent"
   ]
  },
  {
   "cell_type": "code",
   "execution_count": null,
   "metadata": {},
   "outputs": [],
   "source": [
    "PROBLEM_DESCRIPTION = \"\"\"Given my CRM API connection, \n",
    "run a mailing campaign to all my customers who have not purchased anything \n",
    "in the last 6 months. The email should be personalized and include a discount \n",
    "code for their next purchase. The email should also include a link to my website \n",
    "and a call to action to encourage them to make a purchase.\"\"\""
   ]
  },
  {
   "cell_type": "markdown",
   "metadata": {},
   "source": [
    "### 2. Define the I/O model of your agent"
   ]
  },
  {
   "cell_type": "code",
   "execution_count": null,
   "metadata": {},
   "outputs": [],
   "source": [
    "class AgentInput(BaseModel):\n",
    "    pass\n",
    "\n",
    "class AgentOutput(BaseModel):\n",
    "    pass"
   ]
  },
  {
   "cell_type": "markdown",
   "metadata": {},
   "source": [
    "### 3. Create the forge class"
   ]
  },
  {
   "cell_type": "code",
   "execution_count": null,
   "metadata": {},
   "outputs": [],
   "source": [
    "class YourForge(AgentForge):\n",
    "    name: str = \"YourForge\"\n",
    "    description: str = PROBLEM_DESCRIPTION\n",
    "\n",
    "    agent_input_model: type[BaseModel] = AgentInput\n",
    "    agent_output_model: type[BaseModel] = AgentOutput\n",
    "    default_generated_agent_engine_type: str = \"langgraph_engine\"\n",
    "\n",
    "    async def compute_fitness(self, agent: Agent, compute_token_id: str, **kwargs: dict[str, any]) -> float:  # noqa: C901\n",
    "        return random.random()"
   ]
  },
  {
   "cell_type": "markdown",
   "metadata": {},
   "source": [
    "### 4. Setup a forge cycle"
   ]
  },
  {
   "cell_type": "code",
   "execution_count": null,
   "metadata": {},
   "outputs": [],
   "source": [
    "# run parameters\n",
    "BUDGET = 0.5 # budget in dollars\n",
    "N_AGENTS = 2 # number of agents by generation\n",
    "\n",
    "# the path where results will be saved\n",
    "timestamp = datetime.now(tz=UTC).strftime(\"%Y-%m-%d_%H-%M-%S\")\n",
    "SAVE_PATH = Path(f\"./data/{timestamp}/\")\n",
    "if not SAVE_PATH.exists():\n",
    "    SAVE_PATH.mkdir(parents=True)\n",
    "\n",
    "# node types\n",
    "NODE_TYPES = [\n",
    "    \"StartNode\", \"EndNode\", \"LLMNode\", \n",
    "]\n",
    "MOCK_NODE_TYPES = [\n",
    "    \"PythonNode\", \"DatabaseNode\", \"APINode\", \"WebScraperNode\",\n",
    "    \"FileNode\", \"UserQueryNode\"\n",
    "] # these nodes are not implemented yet\n",
    "\n",
    "cycle_config = EvoForgingCycleConfig(\n",
    "    budget=BUDGET,\n",
    "    n_agents_in_population=N_AGENTS,\n",
    "    n_selected_agents_from_ecosystem=0,\n",
    "    n_best_agents_to_return=2,\n",
    "    replacement_ratio=0.5,\n",
    "    save_path=SAVE_PATH,\n",
    "    node_types= NODE_TYPES + MOCK_NODE_TYPES,\n",
    "\n",
    ")"
   ]
  },
  {
   "cell_type": "markdown",
   "metadata": {},
   "source": [
    "### 5. Run a forge cycle"
   ]
  },
  {
   "cell_type": "code",
   "execution_count": null,
   "metadata": {},
   "outputs": [],
   "source": [
    "# instantiate the forge\n",
    "forge = YourForge()\n",
    "\n",
    "best_agents, best_finess = asyncio.run(\n",
    "    forge.run_new_cycle(\n",
    "        config=cycle_config\n",
    "    ),\n",
    ")"
   ]
  },
  {
   "cell_type": "markdown",
   "metadata": {},
   "source": [
    "### 6. Display final results"
   ]
  },
  {
   "cell_type": "code",
   "execution_count": null,
   "metadata": {},
   "outputs": [],
   "source": [
    "forge.display_results(best_agents, best_finess)"
   ]
  },
  {
   "cell_type": "code",
   "execution_count": 5,
   "metadata": {},
   "outputs": [
    {
     "name": "stderr",
     "output_type": "stream",
     "text": [
      "\u001b[32m2025-04-08 16:46:11.267\u001b[0m | \u001b[1mINFO    \u001b[0m | \u001b[36mebiose.core.evo_forging_cycle\u001b[0m:\u001b[36mexecute_a_cycle\u001b[0m:\u001b[36m180\u001b[0m - \u001b[1mStarting a new cycle for forge YourForge\u001b[0m\n",
      "\u001b[32m2025-04-08 16:46:11.268\u001b[0m | \u001b[1mINFO    \u001b[0m | \u001b[36mebiose.core.evo_forging_cycle\u001b[0m:\u001b[36minitialize_population\u001b[0m:\u001b[36m112\u001b[0m - \u001b[1m****** Initializing agents population ******\u001b[0m\n",
      "\u001b[32m2025-04-08 16:46:11.268\u001b[0m | \u001b[1mINFO    \u001b[0m | \u001b[36mebiose.core.evo_forging_cycle\u001b[0m:\u001b[36minitialize_population\u001b[0m:\u001b[36m124\u001b[0m - \u001b[1mCreating 2 new agents with architect agents...\u001b[0m\n",
      "  0%|          | 0/2 [00:00<?, ?it/s]\u001b[32m2025-04-08 16:47:11.009\u001b[0m | \u001b[34m\u001b[1mDEBUG   \u001b[0m | \u001b[36mebiose.core.engines.graph_engine.utils\u001b[0m:\u001b[36mget_structured_output_agent\u001b[0m:\u001b[36m50\u001b[0m - \u001b[34m\u001b[1m\n",
      "Initializing structured output agent for model AgentOutput (1)\u001b[0m\n",
      "100%|██████████| 2/2 [03:01<00:00, 90.50s/it] \n",
      "\u001b[32m2025-04-08 16:49:12.280\u001b[0m | \u001b[34m\u001b[1mDEBUG   \u001b[0m | \u001b[36mebiose.core.evo_forging_cycle\u001b[0m:\u001b[36minitialize_population\u001b[0m:\u001b[36m169\u001b[0m - \u001b[34m\u001b[1mAgent initialization cost: 0.01176945\u001b[0m\n",
      "\u001b[32m2025-04-08 16:49:12.280\u001b[0m | \u001b[1mINFO    \u001b[0m | \u001b[36mebiose.core.evo_forging_cycle\u001b[0m:\u001b[36minitialize_population\u001b[0m:\u001b[36m175\u001b[0m - \u001b[1mPopulation initialized with 2 agents\u001b[0m\n",
      "\u001b[32m2025-04-08 16:49:12.280\u001b[0m | \u001b[1mINFO    \u001b[0m | \u001b[36mebiose.core.evo_forging_cycle\u001b[0m:\u001b[36mexecute_a_cycle\u001b[0m:\u001b[36m196\u001b[0m - \u001b[1mInitialization of 2 agents took 0:03:01.012341\u001b[0m\n",
      "\u001b[32m2025-04-08 16:49:12.280\u001b[0m | \u001b[1mINFO    \u001b[0m | \u001b[36mebiose.core.evo_forging_cycle\u001b[0m:\u001b[36mexecute_a_cycle\u001b[0m:\u001b[36m197\u001b[0m - \u001b[1mBudget left after initialization: 0.48823055 $\u001b[0m\n",
      "\u001b[32m2025-04-08 16:49:12.280\u001b[0m | \u001b[1mINFO    \u001b[0m | \u001b[36mebiose.core.evo_forging_cycle\u001b[0m:\u001b[36mrun_generation\u001b[0m:\u001b[36m245\u001b[0m - \u001b[1m****** Running generation 0 ******\u001b[0m\n",
      "\u001b[32m2025-04-08 16:49:12.280\u001b[0m | \u001b[1mINFO    \u001b[0m | \u001b[36mebiose.core.evo_forging_cycle\u001b[0m:\u001b[36mrun_generation\u001b[0m:\u001b[36m247\u001b[0m - \u001b[1mEvaluating current population of 2 agents...\u001b[0m\n",
      "100%|██████████| 2/2 [00:00<00:00, 7169.75it/s]\n",
      "\u001b[32m2025-04-08 16:49:12.282\u001b[0m | \u001b[34m\u001b[1mDEBUG   \u001b[0m | \u001b[36mebiose.core.evo_forging_cycle\u001b[0m:\u001b[36m_evaluate_population\u001b[0m:\u001b[36m309\u001b[0m - \u001b[34m\u001b[1mAgent agent-7951d8f3-127b-4aa3-86d3-34cb1f24e51e fitness: 0.8998362177442522, cost: 0.0\u001b[0m\n",
      "\u001b[32m2025-04-08 16:49:12.282\u001b[0m | \u001b[34m\u001b[1mDEBUG   \u001b[0m | \u001b[36mebiose.core.evo_forging_cycle\u001b[0m:\u001b[36m_evaluate_population\u001b[0m:\u001b[36m309\u001b[0m - \u001b[34m\u001b[1mAgent agent-0c7c3096-5ecc-4d53-8e4c-2bd99e3fe4e2 fitness: 0.6816730792171299, cost: 0.0\u001b[0m\n",
      "\u001b[32m2025-04-08 16:49:12.282\u001b[0m | \u001b[1mINFO    \u001b[0m | \u001b[36mebiose.core.evo_forging_cycle\u001b[0m:\u001b[36mrun_generation\u001b[0m:\u001b[36m250\u001b[0m - \u001b[1mEvaluation took 0:00:00.001263 for a total cost of 0.0 $\u001b[0m\n"
     ]
    },
    {
     "data": {
      "text/markdown": [
       "# Agent ID: agent-7951d8f3-127b-4aa3-86d3-34cb1f24e51e\n",
       "## Fitness: 0.8998362177442522\n",
       "```mermaid \n",
       "graph LR\n",
       "\tStart_Node[start_node] --> Llm_Node_1(IdentifyInactiveCustomers)\n",
       "\tLlm_Node_1(IdentifyInactiveCustomers) --> Database_Node[/\"Query CRM Database(DatabaseNode)\"/]\n",
       "\tDatabase_Node[/\"Query CRM Database(DatabaseNode)\"/] --> Llm_Node_2(GenerateEmailContent)\n",
       "\tLlm_Node_2(GenerateEmailContent) --> Llm_Node_3(ReviewEmailContent)\n",
       "\tLlm_Node_3(ReviewEmailContent) --> Llm_Node_4(CreateEmailLogic)\n",
       "\tLlm_Node_4(CreateEmailLogic) --> Api_Node[/\"Send Emails(APINode)\"/]\n",
       "\tApi_Node[/\"Send Emails(APINode)\"/] --> Llm_Node_5(MonitorCampaign)\n",
       "\tLlm_Node_5(MonitorCampaign) --> Llm_Node_6(GenerateFollowUpStrategy)\n",
       "\tLlm_Node_6(GenerateFollowUpStrategy) --> End_Node[end_node]\n",
       " \n",
       "``` \n",
       "## Prompts:\n",
       "##### Shared context prompt\n",
       "You are part of a collaborative AI model designed to run a mailing campaign targeting customers who have not made a purchase in the last 6 months. Each node in this graph has a specific role. You will analyze data, generate content, review outcomes, and strategize follow-ups while collaborating with other nodes. Ensure that your responses are clear, actionable, and conducive to the next steps in the process. The goal is to effectively engage inactive customers and encourage them to make a purchase through personalized email communications.\n",
       "##### IdentifyInactiveCustomers\n",
       "Analyze the CRM data provided and identify customers who have not made any purchases in the last 6 months. Provide a detailed list of these customers, including their names, email addresses, and last purchase dates. Ensure the data is structured in a way that it can be easily processed by the subsequent nodes.\n",
       "##### GenerateEmailContent\n",
       "Using the list of inactive customers received from the previous node, generate personalized email content for each customer. The email must include a warm greeting, a reminder of their previous interactions, a unique discount code for their next purchase, a link to the website, and a compelling call to action encouraging them to make a purchase. Ensure that the content is engaging and tailored to resonate with each customer based on their past behavior.\n",
       "##### ReviewEmailContent\n",
       "Review the personalized email content generated for the inactive customers. Evaluate the effectiveness of the messaging, clarity, and appeal. Provide feedback on any areas that need improvement, such as tone, clarity, or additional elements that could enhance engagement. If necessary, suggest modifications to ensure the email content is compelling and aligns with best practices for customer re-engagement.\n",
       "##### CreateEmailLogic\n",
       "Design the logic required to send the personalized emails to the identified inactive customers. Outline the sequence of actions, including how to handle errors, track sent emails, and ensure that each customer receives their unique discount code. Additionally, provide a mechanism for confirming successful delivery and capturing engagement metrics such as open rates and click-through rates.\n",
       "##### MonitorCampaign\n",
       "After the emails have been sent, analyze the responses and effectiveness of the campaign. Gather data on open rates, click-through rates, and conversion rates. Provide a summary of the campaign's performance, highlighting any trends or insights. If specific customers re-engaged, note their responses and any patterns that emerge from the data collected.\n",
       "##### GenerateFollowUpStrategy\n",
       "Based on the effectiveness data from the previous node, generate a follow-up strategy for the next steps. Consider how to further engage customers who opened the email but did not make a purchase, as well as strategies for those who did convert. Suggest additional touchpoints, such as reminders or personalized offers, and outline a timeline for executing these follow-ups.\n",
       "\n",
       "# Agent ID: agent-0c7c3096-5ecc-4d53-8e4c-2bd99e3fe4e2\n",
       "## Fitness: 0.6816730792171299\n",
       "```mermaid \n",
       "graph LR\n",
       "\tStart_Node[start_node] --> 1(CustomerSegmentationLLM)\n",
       "\t1(CustomerSegmentationLLM) --> 2[/\"FetchCustomerData(DatabaseNode)\"/]\n",
       "\t2[/\"FetchCustomerData(DatabaseNode)\"/] --> 3(EmailPersonalizationLLM)\n",
       "\t3(EmailPersonalizationLLM) --> 4[/\"GenerateDiscountCode(PythonNode)\"/]\n",
       "\t4[/\"GenerateDiscountCode(PythonNode)\"/] --> 5[/\"SendEmails(APINode)\"/]\n",
       "\t5[/\"SendEmails(APINode)\"/] --> 6(CampaignStrategyReviewLLM)\n",
       "\t6(CampaignStrategyReviewLLM) --> End_Node[end_node]\n",
       " \n",
       "``` \n",
       "## Prompts:\n",
       "##### Shared context prompt\n",
       "You are part of a collaborative AI model designed to run a mailing campaign targeting customers who have not made a purchase in the last six months. Each node in this graph has a specific role in the problem-solving process. Your task is to utilize your reasoning and analytical capabilities to fulfill your designated function. You will exchange information with other nodes in the system to ensure a cohesive workflow. Be sure to provide clear and actionable insights that will be relayed to the next node in the process.\n",
       "##### CustomerSegmentationLLM\n",
       "Analyze the customer database and identify all customers who have not made a purchase in the last six months. Provide a detailed list of these customers, including their contact information and any relevant purchase history. Ensure your output is structured and easy to interpret, as it will be used for the next node in the graph.\n",
       "##### EmailPersonalizationLLM\n",
       "Using the list of customers who have not purchased in the last six months, create personalized email content for each customer. The email should include a friendly greeting, mention their past interactions with our brand, include a unique discount code for their next purchase, and provide a link to our website. Ensure the tone is engaging and encourages action. Format your output in a way that can be easily parsed for sending.\n",
       "##### CampaignStrategyReviewLLM\n",
       "After the mailing campaign has been executed, evaluate the overall strategy used in this campaign. Reflect on the effectiveness of the segmentation, personalization, and messaging. Provide constructive feedback on what worked well, areas for improvement, and suggestions for future campaigns. Your insights should be clear and actionable, aiding in the refinement of our marketing approach.\n",
       "\n"
      ],
      "text/plain": [
       "<IPython.core.display.Markdown object>"
      ]
     },
     "metadata": {},
     "output_type": "display_data"
    },
    {
     "name": "stderr",
     "output_type": "stream",
     "text": [
      "\u001b[32m2025-04-08 16:49:12.284\u001b[0m | \u001b[34m\u001b[1mDEBUG   \u001b[0m | \u001b[36mebiose.core.evo_forging_cycle\u001b[0m:\u001b[36msave_current_state\u001b[0m:\u001b[36m83\u001b[0m - \u001b[34m\u001b[1mSaving current state to data/2025-04-08_14-46-11/generation=0\u001b[0m\n",
      "\u001b[32m2025-04-08 16:49:12.286\u001b[0m | \u001b[1mINFO    \u001b[0m | \u001b[36mebiose.core.evo_forging_cycle\u001b[0m:\u001b[36mrun_generation\u001b[0m:\u001b[36m263\u001b[0m - \u001b[1mStarting crossover and mutation...\u001b[0m\n",
      "\u001b[32m2025-04-08 16:50:33.346\u001b[0m | \u001b[34m\u001b[1mDEBUG   \u001b[0m | \u001b[36mebiose.core.engines.graph_engine.utils\u001b[0m:\u001b[36mget_structured_output_agent\u001b[0m:\u001b[36m50\u001b[0m - \u001b[34m\u001b[1m\n",
      "Initializing structured output agent for model AgentOutput (2)\u001b[0m\n",
      "\u001b[32m2025-04-08 16:51:17.598\u001b[0m | \u001b[34m\u001b[1mDEBUG   \u001b[0m | \u001b[36mebiose.core.evo_forging_cycle\u001b[0m:\u001b[36mcrossover_and_mutate\u001b[0m:\u001b[36m391\u001b[0m - \u001b[34m\u001b[1mNumber of offsprings: 1/1\u001b[0m\n",
      "\u001b[32m2025-04-08 16:51:17.602\u001b[0m | \u001b[1mINFO    \u001b[0m | \u001b[36mebiose.core.evo_forging_cycle\u001b[0m:\u001b[36mrun_generation\u001b[0m:\u001b[36m267\u001b[0m - \u001b[1mCrossover and mutation completed in 0:02:05.314854 for a total cost of 0.0030828599999999998 $\u001b[0m\n",
      "\u001b[32m2025-04-08 16:51:17.602\u001b[0m | \u001b[1mINFO    \u001b[0m | \u001b[36mebiose.core.evo_forging_cycle\u001b[0m:\u001b[36mrun_generation\u001b[0m:\u001b[36m275\u001b[0m - \u001b[1mGeneration 0 completed in 0:02:05.321594 with a total cost of 0.0030828599999999998 $\u001b[0m\n",
      "\u001b[32m2025-04-08 16:51:17.603\u001b[0m | \u001b[1mINFO    \u001b[0m | \u001b[36mebiose.core.evo_forging_cycle\u001b[0m:\u001b[36mexecute_a_cycle\u001b[0m:\u001b[36m203\u001b[0m - \u001b[1mBudget left after first generation: 0.48514769 $\u001b[0m\n",
      "\u001b[32m2025-04-08 16:51:17.603\u001b[0m | \u001b[1mINFO    \u001b[0m | \u001b[36mebiose.core.evo_forging_cycle\u001b[0m:\u001b[36mrun_generation\u001b[0m:\u001b[36m245\u001b[0m - \u001b[1m****** Running generation 1 ******\u001b[0m\n",
      "\u001b[32m2025-04-08 16:51:17.603\u001b[0m | \u001b[1mINFO    \u001b[0m | \u001b[36mebiose.core.evo_forging_cycle\u001b[0m:\u001b[36mrun_generation\u001b[0m:\u001b[36m247\u001b[0m - \u001b[1mEvaluating current population of 2 agents...\u001b[0m\n",
      "100%|██████████| 2/2 [00:00<00:00, 3768.47it/s]\n",
      "\u001b[32m2025-04-08 16:51:17.605\u001b[0m | \u001b[34m\u001b[1mDEBUG   \u001b[0m | \u001b[36mebiose.core.evo_forging_cycle\u001b[0m:\u001b[36m_evaluate_population\u001b[0m:\u001b[36m309\u001b[0m - \u001b[34m\u001b[1mAgent agent-0c7c3096-5ecc-4d53-8e4c-2bd99e3fe4e2 fitness: 0.9549230540872181, cost: 0.0\u001b[0m\n",
      "\u001b[32m2025-04-08 16:51:17.605\u001b[0m | \u001b[34m\u001b[1mDEBUG   \u001b[0m | \u001b[36mebiose.core.evo_forging_cycle\u001b[0m:\u001b[36m_evaluate_population\u001b[0m:\u001b[36m309\u001b[0m - \u001b[34m\u001b[1mAgent agent-0ffe078b-5c90-4f39-83a9-ceef8dcd48f5 fitness: 0.901238719844738, cost: 0.0\u001b[0m\n",
      "\u001b[32m2025-04-08 16:51:17.606\u001b[0m | \u001b[1mINFO    \u001b[0m | \u001b[36mebiose.core.evo_forging_cycle\u001b[0m:\u001b[36mrun_generation\u001b[0m:\u001b[36m250\u001b[0m - \u001b[1mEvaluation took 0:00:00.002403 for a total cost of 0.0 $\u001b[0m\n"
     ]
    },
    {
     "data": {
      "text/markdown": [
       "# Agent ID: agent-0c7c3096-5ecc-4d53-8e4c-2bd99e3fe4e2\n",
       "## Fitness: 0.9549230540872181\n",
       "```mermaid \n",
       "graph LR\n",
       "\tStart_Node[start_node] --> 1(CustomerSegmentationLLM)\n",
       "\t1(CustomerSegmentationLLM) --> 2[/\"FetchCustomerData(DatabaseNode)\"/]\n",
       "\t2[/\"FetchCustomerData(DatabaseNode)\"/] --> 3(EmailPersonalizationLLM)\n",
       "\t3(EmailPersonalizationLLM) --> 4[/\"GenerateDiscountCode(PythonNode)\"/]\n",
       "\t4[/\"GenerateDiscountCode(PythonNode)\"/] --> 5[/\"SendEmails(APINode)\"/]\n",
       "\t5[/\"SendEmails(APINode)\"/] --> 6(CampaignStrategyReviewLLM)\n",
       "\t6(CampaignStrategyReviewLLM) --> End_Node[end_node]\n",
       " \n",
       "``` \n",
       "## Prompts:\n",
       "##### Shared context prompt\n",
       "You are part of a collaborative AI model designed to run a mailing campaign targeting customers who have not made a purchase in the last six months. Each node in this graph has a specific role in the problem-solving process. Your task is to utilize your reasoning and analytical capabilities to fulfill your designated function. You will exchange information with other nodes in the system to ensure a cohesive workflow. Be sure to provide clear and actionable insights that will be relayed to the next node in the process.\n",
       "##### CustomerSegmentationLLM\n",
       "Analyze the customer database and identify all customers who have not made a purchase in the last six months. Provide a detailed list of these customers, including their contact information and any relevant purchase history. Ensure your output is structured and easy to interpret, as it will be used for the next node in the graph.\n",
       "##### EmailPersonalizationLLM\n",
       "Using the list of customers who have not purchased in the last six months, create personalized email content for each customer. The email should include a friendly greeting, mention their past interactions with our brand, include a unique discount code for their next purchase, and provide a link to our website. Ensure the tone is engaging and encourages action. Format your output in a way that can be easily parsed for sending.\n",
       "##### CampaignStrategyReviewLLM\n",
       "After the mailing campaign has been executed, evaluate the overall strategy used in this campaign. Reflect on the effectiveness of the segmentation, personalization, and messaging. Provide constructive feedback on what worked well, areas for improvement, and suggestions for future campaigns. Your insights should be clear and actionable, aiding in the refinement of our marketing approach.\n",
       "\n",
       "# Agent ID: agent-0ffe078b-5c90-4f39-83a9-ceef8dcd48f5\n",
       "## Fitness: 0.901238719844738\n",
       "```mermaid \n",
       "graph LR\n",
       "\tStart_Node[start_node] --> Llm_Node_1(IdentifyInactiveCustomers)\n",
       "\tLlm_Node_1(IdentifyInactiveCustomers) --> Database_Node[/\"Query CRM Database(DatabaseNode)\"/]\n",
       "\tDatabase_Node[/\"Query CRM Database(DatabaseNode)\"/] --> Llm_Node_2(GenerateEmailContent)\n",
       "\tLlm_Node_2(GenerateEmailContent) --> Llm_Node_3(ReviewEmailContent)\n",
       "\tLlm_Node_3(ReviewEmailContent) --> Llm_Node_4(CreateEmailLogic)\n",
       "\tLlm_Node_4(CreateEmailLogic) --> Llm_Node_5(SendEmails)\n",
       "\tLlm_Node_5(SendEmails) --> Api_Node[/\"Send Emails(APINode)\"/]\n",
       "\tApi_Node[/\"Send Emails(APINode)\"/] --> Llm_Node_6(MonitorCampaign)\n",
       "\tLlm_Node_6(MonitorCampaign) --> Llm_Node_7(GenerateFollowUpStrategy)\n",
       "\tLlm_Node_7(GenerateFollowUpStrategy) --> End_Node[end_node]\n",
       " \n",
       "``` \n",
       "## Prompts:\n",
       "##### Shared context prompt\n",
       "You are part of a collaborative AI model designed to run a mailing campaign targeting customers who have not made a purchase in the last 6 months. Each node in this graph has a specific role. You will analyze data, generate content, review outcomes, and strategize follow-ups while collaborating with other nodes. Ensure that your responses are clear, actionable, and conducive to the next steps in the process. The goal is to effectively engage inactive customers and encourage them to make a purchase through personalized email communications.\n",
       "##### IdentifyInactiveCustomers\n",
       "Analyze the CRM data provided and identify customers who have not made any purchases in the last 6 months. Provide a detailed list of these customers, including their names, email addresses, and last purchase dates. Ensure the data is structured in a way that it can be easily processed by the subsequent nodes.\n",
       "##### GenerateEmailContent\n",
       "Using the list of inactive customers received from the previous node, generate personalized email content for each customer. The email must include a warm greeting, a reminder of their previous interactions, a unique discount code for their next purchase, a link to the website, and a compelling call to action encouraging them to make a purchase. Ensure that the content is engaging and tailored to resonate with each customer based on their past behavior.\n",
       "##### ReviewEmailContent\n",
       "Review the personalized email content generated for the inactive customers. Evaluate the effectiveness of the messaging, clarity, and appeal. Provide feedback on any areas that need improvement, such as tone, clarity, or additional elements that could enhance engagement. If necessary, suggest modifications to ensure the email content is compelling and aligns with best practices for customer re-engagement.\n",
       "##### CreateEmailLogic\n",
       "Design the logic required to send the personalized emails to the identified inactive customers. Outline the sequence of actions, including how to handle errors, track sent emails, and ensure that each customer receives their unique discount code. Additionally, provide a mechanism for confirming successful delivery and capturing engagement metrics such as open rates and click-through rates.\n",
       "##### SendEmails\n",
       "Using the logic designed in the previous node, trigger the API to send the emails to the identified inactive customers.\n",
       "##### MonitorCampaign\n",
       "After the emails have been sent, analyze the responses and effectiveness of the campaign. Gather data on open rates, click-through rates, and conversion rates. Provide a summary of the campaign's performance, highlighting any trends or insights. If specific customers re-engaged, note their responses and any patterns that emerge from the data collected.\n",
       "##### GenerateFollowUpStrategy\n",
       "Based on the effectiveness data from the previous node, generate a follow-up strategy for the next steps. Consider how to further engage customers who opened the email but did not make a purchase, as well as strategies for those who did convert. Suggest additional touchpoints, such as reminders or personalized offers, and outline a timeline for executing these follow-ups.\n",
       "\n"
      ],
      "text/plain": [
       "<IPython.core.display.Markdown object>"
      ]
     },
     "metadata": {},
     "output_type": "display_data"
    },
    {
     "name": "stderr",
     "output_type": "stream",
     "text": [
      "\u001b[32m2025-04-08 16:51:17.617\u001b[0m | \u001b[34m\u001b[1mDEBUG   \u001b[0m | \u001b[36mebiose.core.evo_forging_cycle\u001b[0m:\u001b[36msave_current_state\u001b[0m:\u001b[36m83\u001b[0m - \u001b[34m\u001b[1mSaving current state to data/2025-04-08_14-46-11/generation=1\u001b[0m\n",
      "\u001b[32m2025-04-08 16:51:17.698\u001b[0m | \u001b[1mINFO    \u001b[0m | \u001b[36mebiose.core.evo_forging_cycle\u001b[0m:\u001b[36mrun_generation\u001b[0m:\u001b[36m263\u001b[0m - \u001b[1mStarting crossover and mutation...\u001b[0m\n",
      "\u001b[32m2025-04-08 16:53:12.090\u001b[0m | \u001b[34m\u001b[1mDEBUG   \u001b[0m | \u001b[36mebiose.core.evo_forging_cycle\u001b[0m:\u001b[36mcrossover_and_mutate\u001b[0m:\u001b[36m391\u001b[0m - \u001b[34m\u001b[1mNumber of offsprings: 1/1\u001b[0m\n",
      "\u001b[32m2025-04-08 16:53:12.091\u001b[0m | \u001b[1mINFO    \u001b[0m | \u001b[36mebiose.core.evo_forging_cycle\u001b[0m:\u001b[36mrun_generation\u001b[0m:\u001b[36m267\u001b[0m - \u001b[1mCrossover and mutation completed in 0:01:54.392225 for a total cost of 0.002139555 $\u001b[0m\n",
      "\u001b[32m2025-04-08 16:53:12.091\u001b[0m | \u001b[1mINFO    \u001b[0m | \u001b[36mebiose.core.evo_forging_cycle\u001b[0m:\u001b[36mrun_generation\u001b[0m:\u001b[36m275\u001b[0m - \u001b[1mGeneration 1 completed in 0:01:54.488244 with a total cost of 0.002139555 $\u001b[0m\n",
      "\u001b[32m2025-04-08 16:53:12.092\u001b[0m | \u001b[1mINFO    \u001b[0m | \u001b[36mebiose.core.evo_forging_cycle\u001b[0m:\u001b[36mexecute_a_cycle\u001b[0m:\u001b[36m209\u001b[0m - \u001b[1mBudget left after new generation: 0.483008135 $\u001b[0m\n",
      "\u001b[32m2025-04-08 16:53:12.092\u001b[0m | \u001b[1mINFO    \u001b[0m | \u001b[36mebiose.core.evo_forging_cycle\u001b[0m:\u001b[36mrun_generation\u001b[0m:\u001b[36m245\u001b[0m - \u001b[1m****** Running generation 2 ******\u001b[0m\n",
      "\u001b[32m2025-04-08 16:53:12.092\u001b[0m | \u001b[1mINFO    \u001b[0m | \u001b[36mebiose.core.evo_forging_cycle\u001b[0m:\u001b[36mrun_generation\u001b[0m:\u001b[36m247\u001b[0m - \u001b[1mEvaluating current population of 2 agents...\u001b[0m\n",
      "100%|██████████| 2/2 [00:00<00:00, 6797.90it/s]\n",
      "\u001b[32m2025-04-08 16:53:12.093\u001b[0m | \u001b[34m\u001b[1mDEBUG   \u001b[0m | \u001b[36mebiose.core.evo_forging_cycle\u001b[0m:\u001b[36m_evaluate_population\u001b[0m:\u001b[36m309\u001b[0m - \u001b[34m\u001b[1mAgent agent-0ffe078b-5c90-4f39-83a9-ceef8dcd48f5 fitness: 0.20104938602105327, cost: 0.0\u001b[0m\n",
      "\u001b[32m2025-04-08 16:53:12.093\u001b[0m | \u001b[34m\u001b[1mDEBUG   \u001b[0m | \u001b[36mebiose.core.evo_forging_cycle\u001b[0m:\u001b[36m_evaluate_population\u001b[0m:\u001b[36m309\u001b[0m - \u001b[34m\u001b[1mAgent agent-bd7231e0-8021-4cfe-ba60-42f5c5f04cf9 fitness: 0.23244141958534903, cost: 0.0\u001b[0m\n",
      "\u001b[32m2025-04-08 16:53:12.093\u001b[0m | \u001b[1mINFO    \u001b[0m | \u001b[36mebiose.core.evo_forging_cycle\u001b[0m:\u001b[36mrun_generation\u001b[0m:\u001b[36m250\u001b[0m - \u001b[1mEvaluation took 0:00:00.001225 for a total cost of 0.0 $\u001b[0m\n"
     ]
    },
    {
     "data": {
      "text/markdown": [
       "# Agent ID: agent-bd7231e0-8021-4cfe-ba60-42f5c5f04cf9\n",
       "## Fitness: 0.23244141958534903\n",
       "```mermaid \n",
       "graph LR\n",
       "\tStart_Node[start_node] --> 1(CustomerSegmentationLLM)\n",
       "\t1(CustomerSegmentationLLM) --> 2[/\"FetchCustomerData(DatabaseNode)\"/]\n",
       "\t2[/\"FetchCustomerData(DatabaseNode)\"/] --> 3(EmailPersonalizationLLM)\n",
       "\t3(EmailPersonalizationLLM) --> 4[/\"GenerateDiscountCode(PythonNode)\"/]\n",
       "\t4[/\"GenerateDiscountCode(PythonNode)\"/] --> 5[/\"SendEmails(APINode)\"/]\n",
       "\t5[/\"SendEmails(APINode)\"/] --> 6(CampaignStrategyReviewLLM)\n",
       "\t6(CampaignStrategyReviewLLM) --> 7[/\"FeedbackLoopNode(UserQueryNode)\"/]\n",
       "\t7[/\"FeedbackLoopNode(UserQueryNode)\"/] --> End_Node[end_node]\n",
       " \n",
       "``` \n",
       "## Prompts:\n",
       "##### Shared context prompt\n",
       "You are part of a collaborative AI model designed to run a mailing campaign targeting customers who have not made a purchase in the last six months. Each node in this graph has a specific role in the problem-solving process. Your task is to utilize your reasoning and analytical capabilities to fulfill your designated function. You will exchange information with other nodes in the system to ensure a cohesive workflow. Be sure to provide clear and actionable insights that will be relayed to the next node in the process.\n",
       "##### CustomerSegmentationLLM\n",
       "Analyze the customer database and identify all customers who have not made a purchase in the last six months. Provide a detailed list of these customers, including their contact information and any relevant purchase history. Ensure your output is structured and easy to interpret, as it will be used for the next node in the graph.\n",
       "##### EmailPersonalizationLLM\n",
       "Using the list of customers who have not purchased in the last six months, craft personalized email content for each customer. The email should include a friendly greeting, reference their past interactions, include a unique discount code for their next purchase, and provide a link to our website. Ensure the tone is engaging and encourages action. Format your output for easy parsing by the email sending system.\n",
       "##### CampaignStrategyReviewLLM\n",
       "After the mailing campaign has been executed, evaluate the overall strategy used in this campaign. Reflect on the effectiveness of the segmentation, personalization, and messaging. Provide constructive feedback on what worked well, areas for improvement, and suggestions for future campaigns. Your insights should be clear and actionable, aiding in the refinement of our marketing approach.\n",
       "\n",
       "# Agent ID: agent-0ffe078b-5c90-4f39-83a9-ceef8dcd48f5\n",
       "## Fitness: 0.20104938602105327\n",
       "```mermaid \n",
       "graph LR\n",
       "\tStart_Node[start_node] --> Llm_Node_1(IdentifyInactiveCustomers)\n",
       "\tLlm_Node_1(IdentifyInactiveCustomers) --> Database_Node[/\"Query CRM Database(DatabaseNode)\"/]\n",
       "\tDatabase_Node[/\"Query CRM Database(DatabaseNode)\"/] --> Llm_Node_2(GenerateEmailContent)\n",
       "\tLlm_Node_2(GenerateEmailContent) --> Llm_Node_3(ReviewEmailContent)\n",
       "\tLlm_Node_3(ReviewEmailContent) --> Llm_Node_4(CreateEmailLogic)\n",
       "\tLlm_Node_4(CreateEmailLogic) --> Llm_Node_5(SendEmails)\n",
       "\tLlm_Node_5(SendEmails) --> Api_Node[/\"Send Emails(APINode)\"/]\n",
       "\tApi_Node[/\"Send Emails(APINode)\"/] --> Llm_Node_6(MonitorCampaign)\n",
       "\tLlm_Node_6(MonitorCampaign) --> Llm_Node_7(GenerateFollowUpStrategy)\n",
       "\tLlm_Node_7(GenerateFollowUpStrategy) --> End_Node[end_node]\n",
       " \n",
       "``` \n",
       "## Prompts:\n",
       "##### Shared context prompt\n",
       "You are part of a collaborative AI model designed to run a mailing campaign targeting customers who have not made a purchase in the last 6 months. Each node in this graph has a specific role. You will analyze data, generate content, review outcomes, and strategize follow-ups while collaborating with other nodes. Ensure that your responses are clear, actionable, and conducive to the next steps in the process. The goal is to effectively engage inactive customers and encourage them to make a purchase through personalized email communications.\n",
       "##### IdentifyInactiveCustomers\n",
       "Analyze the CRM data provided and identify customers who have not made any purchases in the last 6 months. Provide a detailed list of these customers, including their names, email addresses, and last purchase dates. Ensure the data is structured in a way that it can be easily processed by the subsequent nodes.\n",
       "##### GenerateEmailContent\n",
       "Using the list of inactive customers received from the previous node, generate personalized email content for each customer. The email must include a warm greeting, a reminder of their previous interactions, a unique discount code for their next purchase, a link to the website, and a compelling call to action encouraging them to make a purchase. Ensure that the content is engaging and tailored to resonate with each customer based on their past behavior.\n",
       "##### ReviewEmailContent\n",
       "Review the personalized email content generated for the inactive customers. Evaluate the effectiveness of the messaging, clarity, and appeal. Provide feedback on any areas that need improvement, such as tone, clarity, or additional elements that could enhance engagement. If necessary, suggest modifications to ensure the email content is compelling and aligns with best practices for customer re-engagement.\n",
       "##### CreateEmailLogic\n",
       "Design the logic required to send the personalized emails to the identified inactive customers. Outline the sequence of actions, including how to handle errors, track sent emails, and ensure that each customer receives their unique discount code. Additionally, provide a mechanism for confirming successful delivery and capturing engagement metrics such as open rates and click-through rates.\n",
       "##### SendEmails\n",
       "Using the logic designed in the previous node, trigger the API to send the emails to the identified inactive customers.\n",
       "##### MonitorCampaign\n",
       "After the emails have been sent, analyze the responses and effectiveness of the campaign. Gather data on open rates, click-through rates, and conversion rates. Provide a summary of the campaign's performance, highlighting any trends or insights. If specific customers re-engaged, note their responses and any patterns that emerge from the data collected.\n",
       "##### GenerateFollowUpStrategy\n",
       "Based on the effectiveness data from the previous node, generate a follow-up strategy for the next steps. Consider how to further engage customers who opened the email but did not make a purchase, as well as strategies for those who did convert. Suggest additional touchpoints, such as reminders or personalized offers, and outline a timeline for executing these follow-ups.\n",
       "\n"
      ],
      "text/plain": [
       "<IPython.core.display.Markdown object>"
      ]
     },
     "metadata": {},
     "output_type": "display_data"
    },
    {
     "name": "stderr",
     "output_type": "stream",
     "text": [
      "\u001b[32m2025-04-08 16:53:12.095\u001b[0m | \u001b[34m\u001b[1mDEBUG   \u001b[0m | \u001b[36mebiose.core.evo_forging_cycle\u001b[0m:\u001b[36msave_current_state\u001b[0m:\u001b[36m83\u001b[0m - \u001b[34m\u001b[1mSaving current state to data/2025-04-08_14-46-11/generation=2\u001b[0m\n",
      "\u001b[32m2025-04-08 16:53:12.096\u001b[0m | \u001b[1mINFO    \u001b[0m | \u001b[36mebiose.core.evo_forging_cycle\u001b[0m:\u001b[36mrun_generation\u001b[0m:\u001b[36m263\u001b[0m - \u001b[1mStarting crossover and mutation...\u001b[0m\n",
      "\u001b[32m2025-04-08 16:54:09.084\u001b[0m | \u001b[34m\u001b[1mDEBUG   \u001b[0m | \u001b[36mebiose.core.evo_forging_cycle\u001b[0m:\u001b[36mcrossover_and_mutate\u001b[0m:\u001b[36m391\u001b[0m - \u001b[34m\u001b[1mNumber of offsprings: 1/1\u001b[0m\n",
      "\u001b[32m2025-04-08 16:54:09.088\u001b[0m | \u001b[1mINFO    \u001b[0m | \u001b[36mebiose.core.evo_forging_cycle\u001b[0m:\u001b[36mrun_generation\u001b[0m:\u001b[36m267\u001b[0m - \u001b[1mCrossover and mutation completed in 0:00:56.991934 for a total cost of 0.002389365 $\u001b[0m\n",
      "\u001b[32m2025-04-08 16:54:09.089\u001b[0m | \u001b[1mINFO    \u001b[0m | \u001b[36mebiose.core.evo_forging_cycle\u001b[0m:\u001b[36mrun_generation\u001b[0m:\u001b[36m275\u001b[0m - \u001b[1mGeneration 2 completed in 0:00:56.997322 with a total cost of 0.002389365 $\u001b[0m\n",
      "\u001b[32m2025-04-08 16:54:09.090\u001b[0m | \u001b[1mINFO    \u001b[0m | \u001b[36mebiose.core.evo_forging_cycle\u001b[0m:\u001b[36mexecute_a_cycle\u001b[0m:\u001b[36m209\u001b[0m - \u001b[1mBudget left after new generation: 0.48061877 $\u001b[0m\n",
      "\u001b[32m2025-04-08 16:54:09.090\u001b[0m | \u001b[1mINFO    \u001b[0m | \u001b[36mebiose.core.evo_forging_cycle\u001b[0m:\u001b[36mrun_generation\u001b[0m:\u001b[36m245\u001b[0m - \u001b[1m****** Running generation 3 ******\u001b[0m\n",
      "\u001b[32m2025-04-08 16:54:09.090\u001b[0m | \u001b[1mINFO    \u001b[0m | \u001b[36mebiose.core.evo_forging_cycle\u001b[0m:\u001b[36mrun_generation\u001b[0m:\u001b[36m247\u001b[0m - \u001b[1mEvaluating current population of 2 agents...\u001b[0m\n",
      "100%|██████████| 2/2 [00:00<00:00, 3221.43it/s]\n",
      "\u001b[32m2025-04-08 16:54:09.093\u001b[0m | \u001b[34m\u001b[1mDEBUG   \u001b[0m | \u001b[36mebiose.core.evo_forging_cycle\u001b[0m:\u001b[36m_evaluate_population\u001b[0m:\u001b[36m309\u001b[0m - \u001b[34m\u001b[1mAgent agent-0ffe078b-5c90-4f39-83a9-ceef8dcd48f5 fitness: 0.7845056935353862, cost: 0.0\u001b[0m\n",
      "\u001b[32m2025-04-08 16:54:09.094\u001b[0m | \u001b[34m\u001b[1mDEBUG   \u001b[0m | \u001b[36mebiose.core.evo_forging_cycle\u001b[0m:\u001b[36m_evaluate_population\u001b[0m:\u001b[36m309\u001b[0m - \u001b[34m\u001b[1mAgent agent-4f671399-33ad-4bcd-8ec7-4800d1d06be4 fitness: 0.4724345997074011, cost: 0.0\u001b[0m\n",
      "\u001b[32m2025-04-08 16:54:09.094\u001b[0m | \u001b[1mINFO    \u001b[0m | \u001b[36mebiose.core.evo_forging_cycle\u001b[0m:\u001b[36mrun_generation\u001b[0m:\u001b[36m250\u001b[0m - \u001b[1mEvaluation took 0:00:00.003456 for a total cost of 0.0 $\u001b[0m\n"
     ]
    },
    {
     "data": {
      "text/markdown": [
       "# Agent ID: agent-0ffe078b-5c90-4f39-83a9-ceef8dcd48f5\n",
       "## Fitness: 0.7845056935353862\n",
       "```mermaid \n",
       "graph LR\n",
       "\tStart_Node[start_node] --> Llm_Node_1(IdentifyInactiveCustomers)\n",
       "\tLlm_Node_1(IdentifyInactiveCustomers) --> Database_Node[/\"Query CRM Database(DatabaseNode)\"/]\n",
       "\tDatabase_Node[/\"Query CRM Database(DatabaseNode)\"/] --> Llm_Node_2(GenerateEmailContent)\n",
       "\tLlm_Node_2(GenerateEmailContent) --> Llm_Node_3(ReviewEmailContent)\n",
       "\tLlm_Node_3(ReviewEmailContent) --> Llm_Node_4(CreateEmailLogic)\n",
       "\tLlm_Node_4(CreateEmailLogic) --> Llm_Node_5(SendEmails)\n",
       "\tLlm_Node_5(SendEmails) --> Api_Node[/\"Send Emails(APINode)\"/]\n",
       "\tApi_Node[/\"Send Emails(APINode)\"/] --> Llm_Node_6(MonitorCampaign)\n",
       "\tLlm_Node_6(MonitorCampaign) --> Llm_Node_7(GenerateFollowUpStrategy)\n",
       "\tLlm_Node_7(GenerateFollowUpStrategy) --> End_Node[end_node]\n",
       " \n",
       "``` \n",
       "## Prompts:\n",
       "##### Shared context prompt\n",
       "You are part of a collaborative AI model designed to run a mailing campaign targeting customers who have not made a purchase in the last 6 months. Each node in this graph has a specific role. You will analyze data, generate content, review outcomes, and strategize follow-ups while collaborating with other nodes. Ensure that your responses are clear, actionable, and conducive to the next steps in the process. The goal is to effectively engage inactive customers and encourage them to make a purchase through personalized email communications.\n",
       "##### IdentifyInactiveCustomers\n",
       "Analyze the CRM data provided and identify customers who have not made any purchases in the last 6 months. Provide a detailed list of these customers, including their names, email addresses, and last purchase dates. Ensure the data is structured in a way that it can be easily processed by the subsequent nodes.\n",
       "##### GenerateEmailContent\n",
       "Using the list of inactive customers received from the previous node, generate personalized email content for each customer. The email must include a warm greeting, a reminder of their previous interactions, a unique discount code for their next purchase, a link to the website, and a compelling call to action encouraging them to make a purchase. Ensure that the content is engaging and tailored to resonate with each customer based on their past behavior.\n",
       "##### ReviewEmailContent\n",
       "Review the personalized email content generated for the inactive customers. Evaluate the effectiveness of the messaging, clarity, and appeal. Provide feedback on any areas that need improvement, such as tone, clarity, or additional elements that could enhance engagement. If necessary, suggest modifications to ensure the email content is compelling and aligns with best practices for customer re-engagement.\n",
       "##### CreateEmailLogic\n",
       "Design the logic required to send the personalized emails to the identified inactive customers. Outline the sequence of actions, including how to handle errors, track sent emails, and ensure that each customer receives their unique discount code. Additionally, provide a mechanism for confirming successful delivery and capturing engagement metrics such as open rates and click-through rates.\n",
       "##### SendEmails\n",
       "Using the logic designed in the previous node, trigger the API to send the emails to the identified inactive customers.\n",
       "##### MonitorCampaign\n",
       "After the emails have been sent, analyze the responses and effectiveness of the campaign. Gather data on open rates, click-through rates, and conversion rates. Provide a summary of the campaign's performance, highlighting any trends or insights. If specific customers re-engaged, note their responses and any patterns that emerge from the data collected.\n",
       "##### GenerateFollowUpStrategy\n",
       "Based on the effectiveness data from the previous node, generate a follow-up strategy for the next steps. Consider how to further engage customers who opened the email but did not make a purchase, as well as strategies for those who did convert. Suggest additional touchpoints, such as reminders or personalized offers, and outline a timeline for executing these follow-ups.\n",
       "\n",
       "# Agent ID: agent-4f671399-33ad-4bcd-8ec7-4800d1d06be4\n",
       "## Fitness: 0.4724345997074011\n",
       "```mermaid \n",
       "graph LR\n",
       "\tStart_Node[start_node] --> 1(CustomerSegmentationLLM)\n",
       "\t1(CustomerSegmentationLLM) --> 2[/\"FetchCustomerData(DatabaseNode)\"/]\n",
       "\t2[/\"FetchCustomerData(DatabaseNode)\"/] --> 3(EmailPersonalizationLLM)\n",
       "\t3(EmailPersonalizationLLM) --> 4[/\"GenerateDiscountCode(PythonNode)\"/]\n",
       "\t4[/\"GenerateDiscountCode(PythonNode)\"/] --> 5[/\"SendEmails(APINode)\"/]\n",
       "\t5[/\"SendEmails(APINode)\"/] --> 6(CampaignStrategyReviewLLM)\n",
       "\t6(CampaignStrategyReviewLLM) --> 7[/\"FeedbackLoopNode(UserQueryNode)\"/]\n",
       "\t7[/\"FeedbackLoopNode(UserQueryNode)\"/] --> 8(CustomerEngagementAnalysisLLM)\n",
       "\t8(CustomerEngagementAnalysisLLM) --> End_Node[end_node]\n",
       " \n",
       "``` \n",
       "## Prompts:\n",
       "##### Shared context prompt\n",
       "You are part of a collaborative AI model designed to run a mailing campaign targeting customers who have not made a purchase in the last six months. Each node in this graph has a specific role in the problem-solving process. Your task is to utilize your reasoning and analytical capabilities to fulfill your designated function. You will exchange information with other nodes in the system to ensure a cohesive workflow. Be sure to provide clear and actionable insights that will be relayed to the next node in the process.\n",
       "##### CustomerSegmentationLLM\n",
       "Analyze the customer database and identify all customers who have not made a purchase in the last six months. Provide a detailed list of these customers, including their contact information and any relevant purchase history. Ensure your output is structured and easy to interpret, as it will be used for the next node in the graph.\n",
       "##### EmailPersonalizationLLM\n",
       "Using the list of customers who have not purchased in the last six months, craft personalized email content for each customer. The email should include a friendly greeting, reference their past interactions, include a unique discount code for their next purchase, and provide a link to our website. Ensure the tone is engaging and encourages action. Format your output for easy parsing by the email sending system.\n",
       "##### CampaignStrategyReviewLLM\n",
       "After the mailing campaign has been executed, evaluate the overall strategy used in this campaign. Reflect on the effectiveness of the segmentation, personalization, and messaging. Provide constructive feedback on what worked well, areas for improvement, and suggestions for future campaigns. Your insights should be clear and actionable, aiding in the refinement of our marketing approach.\n",
       "##### CustomerEngagementAnalysisLLM\n",
       "Evaluate the customer engagement metrics after the email campaign. Identify trends in customer responses, purchase behaviors, and overall campaign effectiveness. Provide insights that can guide future marketing strategies.\n",
       "\n"
      ],
      "text/plain": [
       "<IPython.core.display.Markdown object>"
      ]
     },
     "metadata": {},
     "output_type": "display_data"
    },
    {
     "name": "stderr",
     "output_type": "stream",
     "text": [
      "\u001b[32m2025-04-08 16:54:09.097\u001b[0m | \u001b[34m\u001b[1mDEBUG   \u001b[0m | \u001b[36mebiose.core.evo_forging_cycle\u001b[0m:\u001b[36msave_current_state\u001b[0m:\u001b[36m83\u001b[0m - \u001b[34m\u001b[1mSaving current state to data/2025-04-08_14-46-11/generation=3\u001b[0m\n",
      "\u001b[32m2025-04-08 16:54:09.099\u001b[0m | \u001b[1mINFO    \u001b[0m | \u001b[36mebiose.core.evo_forging_cycle\u001b[0m:\u001b[36mrun_generation\u001b[0m:\u001b[36m263\u001b[0m - \u001b[1mStarting crossover and mutation...\u001b[0m\n"
     ]
    },
    {
     "ename": "KeyboardInterrupt",
     "evalue": "",
     "output_type": "error",
     "traceback": [
      "\u001b[31m---------------------------------------------------------------------------\u001b[39m",
      "\u001b[31mKeyboardInterrupt\u001b[39m                         Traceback (most recent call last)",
      "\u001b[36mCell\u001b[39m\u001b[36m \u001b[39m\u001b[32mIn[5]\u001b[39m\u001b[32m, line 1\u001b[39m\n\u001b[32m----> \u001b[39m\u001b[32m1\u001b[39m best_agents, best_finess = \u001b[43masyncio\u001b[49m\u001b[43m.\u001b[49m\u001b[43mrun\u001b[49m\u001b[43m(\u001b[49m\n\u001b[32m      2\u001b[39m \u001b[43m    \u001b[49m\u001b[43mforge\u001b[49m\u001b[43m.\u001b[49m\u001b[43mrun_new_cycle\u001b[49m\u001b[43m(\u001b[49m\u001b[43mconfig\u001b[49m\u001b[43m=\u001b[49m\u001b[43mcycle_config\u001b[49m\u001b[43m)\u001b[49m\u001b[43m,\u001b[49m\n\u001b[32m      3\u001b[39m \u001b[43m)\u001b[49m\n",
      "\u001b[36mFile \u001b[39m\u001b[32m~/dev/ebiose/.venv/lib/python3.12/site-packages/nest_asyncio.py:30\u001b[39m, in \u001b[36m_patch_asyncio.<locals>.run\u001b[39m\u001b[34m(main, debug)\u001b[39m\n\u001b[32m     28\u001b[39m task = asyncio.ensure_future(main)\n\u001b[32m     29\u001b[39m \u001b[38;5;28;01mtry\u001b[39;00m:\n\u001b[32m---> \u001b[39m\u001b[32m30\u001b[39m     \u001b[38;5;28;01mreturn\u001b[39;00m \u001b[43mloop\u001b[49m\u001b[43m.\u001b[49m\u001b[43mrun_until_complete\u001b[49m\u001b[43m(\u001b[49m\u001b[43mtask\u001b[49m\u001b[43m)\u001b[49m\n\u001b[32m     31\u001b[39m \u001b[38;5;28;01mfinally\u001b[39;00m:\n\u001b[32m     32\u001b[39m     \u001b[38;5;28;01mif\u001b[39;00m \u001b[38;5;129;01mnot\u001b[39;00m task.done():\n",
      "\u001b[36mFile \u001b[39m\u001b[32m~/dev/ebiose/.venv/lib/python3.12/site-packages/nest_asyncio.py:92\u001b[39m, in \u001b[36m_patch_loop.<locals>.run_until_complete\u001b[39m\u001b[34m(self, future)\u001b[39m\n\u001b[32m     90\u001b[39m     f._log_destroy_pending = \u001b[38;5;28;01mFalse\u001b[39;00m\n\u001b[32m     91\u001b[39m \u001b[38;5;28;01mwhile\u001b[39;00m \u001b[38;5;129;01mnot\u001b[39;00m f.done():\n\u001b[32m---> \u001b[39m\u001b[32m92\u001b[39m     \u001b[38;5;28;43mself\u001b[39;49m\u001b[43m.\u001b[49m\u001b[43m_run_once\u001b[49m\u001b[43m(\u001b[49m\u001b[43m)\u001b[49m\n\u001b[32m     93\u001b[39m     \u001b[38;5;28;01mif\u001b[39;00m \u001b[38;5;28mself\u001b[39m._stopping:\n\u001b[32m     94\u001b[39m         \u001b[38;5;28;01mbreak\u001b[39;00m\n",
      "\u001b[36mFile \u001b[39m\u001b[32m~/dev/ebiose/.venv/lib/python3.12/site-packages/nest_asyncio.py:115\u001b[39m, in \u001b[36m_patch_loop.<locals>._run_once\u001b[39m\u001b[34m(self)\u001b[39m\n\u001b[32m    108\u001b[39m     heappop(scheduled)\n\u001b[32m    110\u001b[39m timeout = (\n\u001b[32m    111\u001b[39m     \u001b[32m0\u001b[39m \u001b[38;5;28;01mif\u001b[39;00m ready \u001b[38;5;129;01mor\u001b[39;00m \u001b[38;5;28mself\u001b[39m._stopping\n\u001b[32m    112\u001b[39m     \u001b[38;5;28;01melse\u001b[39;00m \u001b[38;5;28mmin\u001b[39m(\u001b[38;5;28mmax\u001b[39m(\n\u001b[32m    113\u001b[39m         scheduled[\u001b[32m0\u001b[39m]._when - \u001b[38;5;28mself\u001b[39m.time(), \u001b[32m0\u001b[39m), \u001b[32m86400\u001b[39m) \u001b[38;5;28;01mif\u001b[39;00m scheduled\n\u001b[32m    114\u001b[39m     \u001b[38;5;28;01melse\u001b[39;00m \u001b[38;5;28;01mNone\u001b[39;00m)\n\u001b[32m--> \u001b[39m\u001b[32m115\u001b[39m event_list = \u001b[38;5;28;43mself\u001b[39;49m\u001b[43m.\u001b[49m\u001b[43m_selector\u001b[49m\u001b[43m.\u001b[49m\u001b[43mselect\u001b[49m\u001b[43m(\u001b[49m\u001b[43mtimeout\u001b[49m\u001b[43m)\u001b[49m\n\u001b[32m    116\u001b[39m \u001b[38;5;28mself\u001b[39m._process_events(event_list)\n\u001b[32m    118\u001b[39m end_time = \u001b[38;5;28mself\u001b[39m.time() + \u001b[38;5;28mself\u001b[39m._clock_resolution\n",
      "\u001b[36mFile \u001b[39m\u001b[32m~/.local/share/uv/python/cpython-3.12.9-macos-aarch64-none/lib/python3.12/selectors.py:566\u001b[39m, in \u001b[36mKqueueSelector.select\u001b[39m\u001b[34m(self, timeout)\u001b[39m\n\u001b[32m    564\u001b[39m ready = []\n\u001b[32m    565\u001b[39m \u001b[38;5;28;01mtry\u001b[39;00m:\n\u001b[32m--> \u001b[39m\u001b[32m566\u001b[39m     kev_list = \u001b[38;5;28;43mself\u001b[39;49m\u001b[43m.\u001b[49m\u001b[43m_selector\u001b[49m\u001b[43m.\u001b[49m\u001b[43mcontrol\u001b[49m\u001b[43m(\u001b[49m\u001b[38;5;28;43;01mNone\u001b[39;49;00m\u001b[43m,\u001b[49m\u001b[43m \u001b[49m\u001b[43mmax_ev\u001b[49m\u001b[43m,\u001b[49m\u001b[43m \u001b[49m\u001b[43mtimeout\u001b[49m\u001b[43m)\u001b[49m\n\u001b[32m    567\u001b[39m \u001b[38;5;28;01mexcept\u001b[39;00m \u001b[38;5;167;01mInterruptedError\u001b[39;00m:\n\u001b[32m    568\u001b[39m     \u001b[38;5;28;01mreturn\u001b[39;00m ready\n",
      "\u001b[31mKeyboardInterrupt\u001b[39m: "
     ]
    }
   ],
   "source": [
    "best_agents, best_finess = asyncio.run(\n",
    "    forge.run_new_cycle(config=cycle_config),\n",
    ")"
   ]
  },
  {
   "cell_type": "code",
   "execution_count": null,
   "metadata": {},
   "outputs": [],
   "source": [
    "logger.info(\"Best agents and their fitness:\")\n",
    "forge.display_results(best_agents, best_finess)"
   ]
  }
 ],
 "metadata": {
  "kernelspec": {
   "display_name": ".venv",
   "language": "python",
   "name": "python3"
  },
  "language_info": {
   "codemirror_mode": {
    "name": "ipython",
    "version": 3
   },
   "file_extension": ".py",
   "mimetype": "text/x-python",
   "name": "python",
   "nbconvert_exporter": "python",
   "pygments_lexer": "ipython3",
   "version": "3.12.9"
  }
 },
 "nbformat": 4,
 "nbformat_minor": 2
}
