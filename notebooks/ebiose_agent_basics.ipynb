{
 "cells": [
  {
   "cell_type": "markdown",
   "metadata": {},
   "source": [
    "# A handmade agent for math\n",
    "\n",
    "In this notebook, we will go through steps required to define an Ebiose agent by hand and run it with the LangGraph backend. \n",
    "\n",
    "We will implement the following simple agent which aims at solving math problems:\n",
    "\n",
    "<div align=\"center\">\n",
    "\n",
    "\n",
    "```mermaid\n",
    "graph LR\n",
    "     Startnode[StartNode] --> Solver(solver)\n",
    "     Solver(solver) --> Verifier(verifier)\n",
    "     Verifier(verifier) -->|correct| Endnode[EndNode]\n",
    "     Verifier(verifier) -->|incorrect| Solver(solver)\n",
    "```\n",
    "**Example of a graph made to solve math problems**\n",
    "</div>"
   ]
  },
  {
   "cell_type": "code",
   "execution_count": 1,
   "metadata": {},
   "outputs": [
    {
     "data": {
      "text/plain": [
       "True"
      ]
     },
     "execution_count": 1,
     "metadata": {},
     "output_type": "execute_result"
    }
   ],
   "source": [
    "from pprint import pprint\n",
    "from dotenv import load_dotenv\n",
    "load_dotenv()"
   ]
  },
  {
   "cell_type": "markdown",
   "metadata": {},
   "source": [
    "## Defining agent IO\n",
    "\n",
    "The input and output of an Ebiose agent are user-defined with Pydantic models, such as:"
   ]
  },
  {
   "cell_type": "code",
   "execution_count": 2,
   "metadata": {},
   "outputs": [],
   "source": [
    "from pydantic import BaseModel, Field, ConfigDict\n",
    "\n",
    "class AgentInput(BaseModel):\n",
    "      math_problem: str = Field(..., description=\"The mathematical word problem to solve\")\n",
    "\n",
    "class AgentOutput(BaseModel):\n",
    "      \"\"\"The expected final output to the mathematical problem.\"\"\"\n",
    "      rationale: str = Field(..., description=\"The rationale for the solution\")\n",
    "      solution: int = Field(..., description=\"The solution to the problem.\")"
   ]
  },
  {
   "cell_type": "markdown",
   "metadata": {},
   "source": [
    "## Building the agent\n",
    "\n",
    "An Ebiose agent is mainly defined by a `Graph` instance, which defines the workflow of the agent. Each graph is composed of nodes and edges.\n"
   ]
  },
  {
   "cell_type": "markdown",
   "metadata": {},
   "source": [
    "### The shared context prompt\n",
    "\n",
    "Every graph has a so-called \"shared context prompt\" which will be given as context to each LLMNode composing the graph. It allows to share high-level context to each LLM node. \n",
    "\n",
    "Prompts can feature placeholders in curly braces `{placeholder}` which will be automatically replaced with input values when running the agent. The only authorized placeholders are the fields of the `AgentInput`'s, *i.e.$, here the field `math_problem`. "
   ]
  },
  {
   "cell_type": "code",
   "execution_count": 3,
   "metadata": {},
   "outputs": [],
   "source": [
    "shared_context_prompt = \"\"\"\n",
    "Your are part of a multi-node agent that solves math problems.\n",
    "The agent has two main nodes: the solver node and the verifier node.\n",
    "The solver node solves the math problem and the verifier node verifies the solution\n",
    "given by the solver node. If it is incorrect, the verifier node provides insights\n",
    "back to the solver node so that it improves the solution.\n",
    "\"\"\""
   ]
  },
  {
   "cell_type": "markdown",
   "metadata": {},
   "source": [
    "### The solver node\n",
    "\n",
    "Here, we define a first LLMNode which will be in charge of giving a very first solution to the math problem at stake. \n",
    "\n",
    "To do so, we write its prompt and create a `LLMNode` instance, by providing the prompt and an id, a name and a purpose."
   ]
  },
  {
   "cell_type": "code",
   "execution_count": 4,
   "metadata": {},
   "outputs": [],
   "source": [
    "from ebiose.core.engines.graph_engine.nodes import LLMNode\n",
    "\n",
    "solver_prompt = \"\"\"\n",
    "Your are the Solver node. You must solve the given math problem.\n",
    "\"\"\"\n",
    "\n",
    "\n",
    "solver_node = LLMNode(\n",
    "    id=\"solver\",\n",
    "    name=\"Solver\",\n",
    "    purpose=\"solve the math problem\",\n",
    "    prompt=solver_prompt,\n",
    ")"
   ]
  },
  {
   "cell_type": "markdown",
   "metadata": {},
   "source": [
    "### The verifier node"
   ]
  },
  {
   "cell_type": "markdown",
   "metadata": {},
   "source": [
    "We here defined a second `LLMNode` which will be in charge of verifying the solution provided by the Solver node. "
   ]
  },
  {
   "cell_type": "code",
   "execution_count": 5,
   "metadata": {},
   "outputs": [],
   "source": [
    "verifier_prompt = \"\"\"\n",
    "You are the Verified node.\n",
    "Based on the solution provided by the Solver node,\n",
    "you must decide whether the solution is correct or not.\n",
    "If the solution is incorrect, explain why and provide insights back\n",
    "to the solver node so that it improves the solution.\n",
    "\"\"\"\n",
    "\n",
    "verifier_node = LLMNode(\n",
    "    id=\"verifier\",\n",
    "    name=\"Verifier\",\n",
    "    purpose=\"verify the math problem\",\n",
    "    prompt=verifier_prompt,\n",
    ")"
   ]
  },
  {
   "cell_type": "markdown",
   "metadata": {},
   "source": [
    "### The start and end nodes\n",
    "\n",
    "The `StartNode` and `EndNode` are necessary to represent the entry point and output point of the graph, and have no other extra role to play."
   ]
  },
  {
   "cell_type": "code",
   "execution_count": 6,
   "metadata": {},
   "outputs": [],
   "source": [
    "from ebiose.core.engines.graph_engine.nodes import StartNode, EndNode\n",
    "\n",
    "start_node = StartNode()\n",
    "end_node = EndNode()"
   ]
  },
  {
   "cell_type": "markdown",
   "metadata": {},
   "source": [
    "### The graph\n",
    "\n",
    "Having defined the nodes, we can now create the graph, add the nodes and connect them with edges."
   ]
  },
  {
   "cell_type": "code",
   "execution_count": 7,
   "metadata": {},
   "outputs": [],
   "source": [
    "from ebiose.core.engines.graph_engine.graph import Graph\n",
    "from ebiose.core.engines.graph_engine.edge import Edge\n",
    "\n",
    "math_graph = Graph(shared_context_prompt=shared_context_prompt)\n",
    "\n",
    "# adding nodes\n",
    "math_graph.add_node(start_node)\n",
    "math_graph.add_node(solver_node)\n",
    "math_graph.add_node(verifier_node)\n",
    "math_graph.add_node(end_node)\n",
    "\n",
    "# adding edges\n",
    "# from start to solver\n",
    "math_graph.add_edge(Edge(start_node_id=start_node.id, end_node_id=solver_node.id))\n",
    "# from solver to verifier\n",
    "math_graph.add_edge(Edge(start_node_id=solver_node.id, end_node_id=verifier_node.id))\n",
    "# from verifier to end,  if the condition is correct\n",
    "math_graph.add_edge(Edge(start_node_id=verifier_node.id, end_node_id=end_node.id, condition=\"correct\"))\n",
    "# from verifier to solver, if the condition is incorrect\n",
    "math_graph.add_edge(Edge(start_node_id=verifier_node.id, end_node_id=solver_node.id, condition=\"incorrect\"))"
   ]
  },
  {
   "cell_type": "markdown",
   "metadata": {},
   "source": [
    "Note that some of the added edges have a `condition` attribute : \n",
    "```python \n",
    "Edge(start_node_id=verifier_node.id, end_node_id=end_node.id, condition=\"correct\")\n",
    "Edge(start_node_id=verifier_node.id, end_node_id=solver_node.id, condition=\"incorrect\")\n",
    "```\n",
    "which means that, the Verifier node will have to decide if the solution given by the Solver node is correct or incorrect. If it is judged as correct, then the next node to be executed will be the End node. Else, the next will node will be the Solver node again, so that it tries to correct its initial solution based on the feedback provided by the Verifier node. \n",
    "\n",
    "Finally, we can print the created graph as a Mermaid string for visualisation, on [Mermaid.live](https://mermaid.live/) for instance."
   ]
  },
  {
   "cell_type": "code",
   "execution_count": 8,
   "metadata": {},
   "outputs": [
    {
     "name": "stdout",
     "output_type": "stream",
     "text": [
      "graph TD\n",
      "\tStart_Node[start_node] --> Solver(Solver)\n",
      "\tSolver(Solver) --> Verifier(Verifier)\n",
      "\tVerifier(Verifier) -->|correct| End_Node[end_node]\n",
      "\tVerifier(Verifier) -->|incorrect| Solver(Solver)\n",
      "\n"
     ]
    }
   ],
   "source": [
    "print(math_graph.to_mermaid_str())"
   ]
  },
  {
   "cell_type": "markdown",
   "metadata": {},
   "source": [
    "Finally, we can create an Ebiose agent from the created graph."
   ]
  },
  {
   "cell_type": "code",
   "execution_count": null,
   "metadata": {},
   "outputs": [
    {
     "name": "stdout",
     "output_type": "stream",
     "text": [
      "{'agent_engine': {'configuration': {'graph': {'description': '',\n",
      "                                              'edges': [{'condition': None,\n",
      "                                                         'end_node_id': 'solver',\n",
      "                                                         'start_node_id': 'start_node'},\n",
      "                                                        {'condition': None,\n",
      "                                                         'end_node_id': 'verifier',\n",
      "                                                         'start_node_id': 'solver'},\n",
      "                                                        {'condition': 'correct',\n",
      "                                                         'end_node_id': 'end_node',\n",
      "                                                         'start_node_id': 'verifier'},\n",
      "                                                        {'condition': 'incorrect',\n",
      "                                                         'end_node_id': 'solver',\n",
      "                                                         'start_node_id': 'verifier'}],\n",
      "                                              'nodes': [{'id': 'start_node',\n",
      "                                                         'name': 'start_node',\n",
      "                                                         'type': 'StartNode'},\n",
      "                                                        {'id': 'solver',\n",
      "                                                         'name': 'Solver',\n",
      "                                                         'prompt': '\\n'\n",
      "                                                                   'Your are '\n",
      "                                                                   'the Solver '\n",
      "                                                                   'node. You '\n",
      "                                                                   'must solve '\n",
      "                                                                   'the given '\n",
      "                                                                   'math '\n",
      "                                                                   'problem.\\n',\n",
      "                                                         'purpose': 'solve the '\n",
      "                                                                    'math '\n",
      "                                                                    'problem',\n",
      "                                                         'type': 'LLMNode'},\n",
      "                                                        {'id': 'verifier',\n",
      "                                                         'name': 'Verifier',\n",
      "                                                         'prompt': '\\n'\n",
      "                                                                   'You are '\n",
      "                                                                   'the '\n",
      "                                                                   'Verified '\n",
      "                                                                   'node.\\n'\n",
      "                                                                   'Based on '\n",
      "                                                                   'the '\n",
      "                                                                   'solution '\n",
      "                                                                   'provided '\n",
      "                                                                   'by the '\n",
      "                                                                   'Solver '\n",
      "                                                                   'node,\\n'\n",
      "                                                                   'you must '\n",
      "                                                                   'decide '\n",
      "                                                                   'whether '\n",
      "                                                                   'the '\n",
      "                                                                   'solution '\n",
      "                                                                   'is correct '\n",
      "                                                                   'or not.\\n'\n",
      "                                                                   'If the '\n",
      "                                                                   'solution '\n",
      "                                                                   'is '\n",
      "                                                                   'incorrect, '\n",
      "                                                                   'explain '\n",
      "                                                                   'why and '\n",
      "                                                                   'provide '\n",
      "                                                                   'insights '\n",
      "                                                                   'back\\n'\n",
      "                                                                   'to the '\n",
      "                                                                   'solver '\n",
      "                                                                   'node so '\n",
      "                                                                   'that it '\n",
      "                                                                   'improves '\n",
      "                                                                   'the '\n",
      "                                                                   'solution.\\n',\n",
      "                                                         'purpose': 'verify '\n",
      "                                                                    'the math '\n",
      "                                                                    'problem',\n",
      "                                                         'type': 'LLMNode'},\n",
      "                                                        {'id': 'end_node',\n",
      "                                                         'name': 'end_node',\n",
      "                                                         'type': 'EndNode'}],\n",
      "                                              'shared_context_prompt': '\\n'\n",
      "                                                                       'Your '\n",
      "                                                                       'are '\n",
      "                                                                       'part '\n",
      "                                                                       'of a '\n",
      "                                                                       'multi-node '\n",
      "                                                                       'agent '\n",
      "                                                                       'that '\n",
      "                                                                       'solves '\n",
      "                                                                       'math '\n",
      "                                                                       'problems.\\n'\n",
      "                                                                       'The '\n",
      "                                                                       'agent '\n",
      "                                                                       'has '\n",
      "                                                                       'two '\n",
      "                                                                       'main '\n",
      "                                                                       'nodes: '\n",
      "                                                                       'the '\n",
      "                                                                       'solver '\n",
      "                                                                       'node '\n",
      "                                                                       'and '\n",
      "                                                                       'the '\n",
      "                                                                       'verifier '\n",
      "                                                                       'node.\\n'\n",
      "                                                                       'The '\n",
      "                                                                       'solver '\n",
      "                                                                       'node '\n",
      "                                                                       'solves '\n",
      "                                                                       'the '\n",
      "                                                                       'math '\n",
      "                                                                       'problem '\n",
      "                                                                       'and '\n",
      "                                                                       'the '\n",
      "                                                                       'verifier '\n",
      "                                                                       'node '\n",
      "                                                                       'verifies '\n",
      "                                                                       'the '\n",
      "                                                                       'solution\\n'\n",
      "                                                                       'given '\n",
      "                                                                       'by the '\n",
      "                                                                       'solver '\n",
      "                                                                       'node. '\n",
      "                                                                       'If it '\n",
      "                                                                       'is '\n",
      "                                                                       'incorrect, '\n",
      "                                                                       'the '\n",
      "                                                                       'verifier '\n",
      "                                                                       'node '\n",
      "                                                                       'provides '\n",
      "                                                                       'insights\\n'\n",
      "                                                                       'back '\n",
      "                                                                       'to the '\n",
      "                                                                       'solver '\n",
      "                                                                       'node '\n",
      "                                                                       'so '\n",
      "                                                                       'that '\n",
      "                                                                       'it '\n",
      "                                                                       'improves '\n",
      "                                                                       'the '\n",
      "                                                                       'solution.\\n'}},\n",
      "                  'engine_type': 'langgraph_engine'},\n",
      " 'architect_agent': None,\n",
      " 'description': 'An agent that solves math problems',\n",
      " 'genetic_operator_agent': None,\n",
      " 'id': 'agent-369eae52-1a60-4f33-9ca1-42650e7d1e02',\n",
      " 'name': 'Math Agent',\n",
      " 'parent_ids': []}\n"
     ]
    },
    {
     "name": "stderr",
     "output_type": "stream",
     "text": [
      "/Users/xabier/dev/ebiose-core/.venv/lib/python3.12/site-packages/pydantic/_internal/_generate_schema.py:502: UserWarning: <built-in function any> is not a Python type (it may be an instance of an object), Pydantic will allow any object with no validation since we cannot even enforce that the input is an instance of the given type. To get rid of this error wrap the type with `pydantic.SkipValidation`.\n",
      "  warn(\n"
     ]
    }
   ],
   "source": [
    "from ebiose.core.agent import Agent\n",
    "from ebiose.core.agent_engine_factory import AgentEngineFactory\n",
    "\n",
    "\n",
    "math_graph_engine = AgentEngineFactory.create_engine(\n",
    "    engine_type=\"langgraph_engine\",\n",
    "    configuration={\"graph\": math_graph.model_dump()},\n",
    "    input_model=AgentInput,\n",
    "    output_model=AgentOutput,\n",
    "    model_endpoint_id=\"gpt-4o-mini\"\n",
    ")\n",
    "\n",
    "math_agent = Agent(\n",
    "    name=\"Math Agent\",\n",
    "    description=\"An agent that solves math problems\",\n",
    "    agent_engine=math_graph_engine,\n",
    ")\n",
    "\n",
    "pprint(math_agent.model_dump())"
   ]
  },
  {
   "cell_type": "markdown",
   "metadata": {},
   "source": [
    "## Running the agent\n",
    "To run the agent, we now just have to create an instance of `AgentInput` with a math problem to be solved."
   ]
  },
  {
   "cell_type": "code",
   "execution_count": 10,
   "metadata": {},
   "outputs": [],
   "source": [
    "agent_input = math_agent.agent_engine.input_model(\n",
    "    math_problem=\"Natalia sold clips to 48 of her friends in April, and then she sold half as many clips in May. How many clips did Natalia sell altogether in April and May?\"\n",
    ")\n",
    "# we could have also used AgentInput(math_problem=...) as well"
   ]
  },
  {
   "cell_type": "markdown",
   "metadata": {},
   "source": [
    "Finally, we pass it to the `run` method of the agent which will return the last_response"
   ]
  },
  {
   "cell_type": "code",
   "execution_count": null,
   "metadata": {},
   "outputs": [
    {
     "name": "stderr",
     "output_type": "stream",
     "text": [
      "\u001b[32m2025-03-19 00:33:10.436\u001b[0m | \u001b[34m\u001b[1mDEBUG   \u001b[0m | \u001b[36mebiose.core.agent\u001b[0m:\u001b[36mrun\u001b[0m:\u001b[36m63\u001b[0m - \u001b[34m\u001b[1mError while running agent agent-369eae52-1a60-4f33-9ca1-42650e7d1e02: name 'BaseModel' is not defined\u001b[0m\n"
     ]
    },
    {
     "name": "stdout",
     "output_type": "stream",
     "text": [
      "None\n"
     ]
    }
   ],
   "source": [
    "from ebiose.compute_intensive_batch_processor.compute_intensive_batch_processor import ComputeIntensiveBatchProcessor\n",
    "from ebiose.core.model_endpoint import ModelEndpoint\n",
    "\n",
    "ComputeIntensiveBatchProcessor.initialize()\n",
    "BUDGET = 0.01\n",
    "\n",
    "import asyncio\n",
    "import nest_asyncio\n",
    "nest_asyncio.apply()\n",
    "response = asyncio.run(math_agent.run(agent_input))\n",
    "pprint(response)"
   ]
  },
  {
   "cell_type": "code",
   "execution_count": null,
   "metadata": {},
   "outputs": [],
   "source": []
  }
 ],
 "metadata": {
  "kernelspec": {
   "display_name": "base",
   "language": "python",
   "name": "python3"
  },
  "language_info": {
   "codemirror_mode": {
    "name": "ipython",
    "version": 3
   },
   "file_extension": ".py",
   "mimetype": "text/x-python",
   "name": "python",
   "nbconvert_exporter": "python",
   "pygments_lexer": "ipython3",
   "version": "3.11.7"
  }
 },
 "nbformat": 4,
 "nbformat_minor": 2
}
